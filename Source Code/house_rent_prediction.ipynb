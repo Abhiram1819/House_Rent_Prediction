{
 "cells": [
  {
   "cell_type": "code",
   "execution_count": 1,
   "id": "dc9c7612",
   "metadata": {
    "_cell_guid": "b1076dfc-b9ad-4769-8c92-a6c4dae69d19",
    "_uuid": "8f2839f25d086af736a60e9eeb907d3b93b6e0e5",
    "execution": {
     "iopub.execute_input": "2021-08-15T15:32:22.141946Z",
     "iopub.status.busy": "2021-08-15T15:32:22.140805Z",
     "iopub.status.idle": "2021-08-15T15:32:22.160343Z",
     "shell.execute_reply": "2021-08-15T15:32:22.160887Z",
     "shell.execute_reply.started": "2021-08-15T15:31:49.145653Z"
    },
    "papermill": {
     "duration": 0.061172,
     "end_time": "2021-08-15T15:32:22.161177",
     "exception": false,
     "start_time": "2021-08-15T15:32:22.100005",
     "status": "completed"
    },
    "tags": []
   },
   "outputs": [],
   "source": [
    "import numpy as np\n",
    "import pandas as pd"
   ]
  },
  {
   "cell_type": "code",
   "execution_count": 2,
   "id": "800f0bfa",
   "metadata": {
    "execution": {
     "iopub.execute_input": "2021-08-15T15:32:22.239486Z",
     "iopub.status.busy": "2021-08-15T15:32:22.237227Z",
     "iopub.status.idle": "2021-08-15T15:32:22.735744Z",
     "shell.execute_reply": "2021-08-15T15:32:22.734946Z",
     "shell.execute_reply.started": "2021-08-15T15:31:49.160392Z"
    },
    "papermill": {
     "duration": 0.53806,
     "end_time": "2021-08-15T15:32:22.735903",
     "exception": false,
     "start_time": "2021-08-15T15:32:22.197843",
     "status": "completed"
    },
    "tags": []
   },
   "outputs": [],
   "source": [
    "df=pd.read_csv('hyd_house.csv')"
   ]
  },
  {
   "cell_type": "code",
   "execution_count": 3,
   "id": "9e8b9f2f",
   "metadata": {
    "execution": {
     "iopub.execute_input": "2021-08-15T15:32:22.831167Z",
     "iopub.status.busy": "2021-08-15T15:32:22.830335Z",
     "iopub.status.idle": "2021-08-15T15:32:22.863452Z",
     "shell.execute_reply": "2021-08-15T15:32:22.862890Z",
     "shell.execute_reply.started": "2021-08-15T15:31:49.509102Z"
    },
    "papermill": {
     "duration": 0.090769,
     "end_time": "2021-08-15T15:32:22.863597",
     "exception": false,
     "start_time": "2021-08-15T15:32:22.772828",
     "status": "completed"
    },
    "tags": []
   },
   "outputs": [
    {
     "data": {
      "text/html": [
       "<div>\n",
       "<style scoped>\n",
       "    .dataframe tbody tr th:only-of-type {\n",
       "        vertical-align: middle;\n",
       "    }\n",
       "\n",
       "    .dataframe tbody tr th {\n",
       "        vertical-align: top;\n",
       "    }\n",
       "\n",
       "    .dataframe thead th {\n",
       "        text-align: right;\n",
       "    }\n",
       "</style>\n",
       "<table border=\"1\" class=\"dataframe\">\n",
       "  <thead>\n",
       "    <tr style=\"text-align: right;\">\n",
       "      <th></th>\n",
       "      <th>active</th>\n",
       "      <th>amenities</th>\n",
       "      <th>balconies</th>\n",
       "      <th>bathroom</th>\n",
       "      <th>combineDescription</th>\n",
       "      <th>completeStreetName</th>\n",
       "      <th>deposit</th>\n",
       "      <th>facing</th>\n",
       "      <th>facingDesc</th>\n",
       "      <th>floor</th>\n",
       "      <th>...</th>\n",
       "      <th>property_size</th>\n",
       "      <th>reactivationSource</th>\n",
       "      <th>rent_amount</th>\n",
       "      <th>sharedAccomodation</th>\n",
       "      <th>shortUrl</th>\n",
       "      <th>swimmingPool</th>\n",
       "      <th>totalFloor</th>\n",
       "      <th>type_bhk</th>\n",
       "      <th>waterSupply</th>\n",
       "      <th>weight</th>\n",
       "    </tr>\n",
       "  </thead>\n",
       "  <tbody>\n",
       "    <tr>\n",
       "      <th>0</th>\n",
       "      <td>True</td>\n",
       "      <td>{\"LIFT\":true,\"GYM\":false,\"INTERNET\":false,\"AC\"...</td>\n",
       "      <td>3</td>\n",
       "      <td>3</td>\n",
       "      <td>NaN</td>\n",
       "      <td>Shreya carnation, Block I, NCB Enclave, Gachib...</td>\n",
       "      <td>90000</td>\n",
       "      <td>W</td>\n",
       "      <td>West</td>\n",
       "      <td>3</td>\n",
       "      <td>...</td>\n",
       "      <td>2200</td>\n",
       "      <td>USER_DASHBOARD</td>\n",
       "      <td>28000</td>\n",
       "      <td>False</td>\n",
       "      <td>http://nobr.kr/sv/9Kvqj</td>\n",
       "      <td>False</td>\n",
       "      <td>5</td>\n",
       "      <td>BHK3</td>\n",
       "      <td>CORP_BORE</td>\n",
       "      <td>NaN</td>\n",
       "    </tr>\n",
       "    <tr>\n",
       "      <th>1</th>\n",
       "      <td>True</td>\n",
       "      <td>{\"LIFT\":false,\"GYM\":false,\"INTERNET\":false,\"AC...</td>\n",
       "      <td>1</td>\n",
       "      <td>2</td>\n",
       "      <td>NaN</td>\n",
       "      <td>Inner Ring Rd,  near RTO Bandlaguda South Zone</td>\n",
       "      <td>45000</td>\n",
       "      <td>E</td>\n",
       "      <td>East</td>\n",
       "      <td>2</td>\n",
       "      <td>...</td>\n",
       "      <td>1200</td>\n",
       "      <td>USER_DASHBOARD</td>\n",
       "      <td>15000</td>\n",
       "      <td>False</td>\n",
       "      <td>http://nobr.kr/sv/j2pD6</td>\n",
       "      <td>False</td>\n",
       "      <td>2</td>\n",
       "      <td>BHK3</td>\n",
       "      <td>BOREWELL</td>\n",
       "      <td>NaN</td>\n",
       "    </tr>\n",
       "    <tr>\n",
       "      <th>2</th>\n",
       "      <td>True</td>\n",
       "      <td>{\"LIFT\":true,\"GYM\":true,\"INTERNET\":false,\"AC\":...</td>\n",
       "      <td>3</td>\n",
       "      <td>3</td>\n",
       "      <td>NaN</td>\n",
       "      <td>Rd Number 2, Shirdi Sai Nagar, Manikonda, Hyde...</td>\n",
       "      <td>80000</td>\n",
       "      <td>E</td>\n",
       "      <td>East</td>\n",
       "      <td>0</td>\n",
       "      <td>...</td>\n",
       "      <td>1800</td>\n",
       "      <td>MISSED_CALL</td>\n",
       "      <td>16000</td>\n",
       "      <td>False</td>\n",
       "      <td>http://nobr.kr/sv/TXJmj</td>\n",
       "      <td>False</td>\n",
       "      <td>3</td>\n",
       "      <td>BHK3</td>\n",
       "      <td>CORP_BORE</td>\n",
       "      <td>NaN</td>\n",
       "    </tr>\n",
       "    <tr>\n",
       "      <th>3</th>\n",
       "      <td>True</td>\n",
       "      <td>{\"LIFT\":false,\"GYM\":false,\"INTERNET\":false,\"AC...</td>\n",
       "      <td>1</td>\n",
       "      <td>2</td>\n",
       "      <td>NaN</td>\n",
       "      <td>Plot No. 44, Road No. 1/A, kakatiya colony, LB...</td>\n",
       "      <td>18000</td>\n",
       "      <td>W</td>\n",
       "      <td>West</td>\n",
       "      <td>2</td>\n",
       "      <td>...</td>\n",
       "      <td>750</td>\n",
       "      <td>MISSED_CALL</td>\n",
       "      <td>9000</td>\n",
       "      <td>False</td>\n",
       "      <td>http://nobr.kr/sv/FnCsf</td>\n",
       "      <td>False</td>\n",
       "      <td>2</td>\n",
       "      <td>BHK2</td>\n",
       "      <td>CORP_BORE</td>\n",
       "      <td>NaN</td>\n",
       "    </tr>\n",
       "    <tr>\n",
       "      <th>4</th>\n",
       "      <td>True</td>\n",
       "      <td>{\"LIFT\":true,\"GYM\":false,\"INTERNET\":false,\"AC\"...</td>\n",
       "      <td>2</td>\n",
       "      <td>2</td>\n",
       "      <td>NaN</td>\n",
       "      <td>Madhapur HUDA Techno Enclave,  Near MaxCure Su...</td>\n",
       "      <td>80000</td>\n",
       "      <td>E</td>\n",
       "      <td>East</td>\n",
       "      <td>2</td>\n",
       "      <td>...</td>\n",
       "      <td>1250</td>\n",
       "      <td>None</td>\n",
       "      <td>32500</td>\n",
       "      <td>False</td>\n",
       "      <td>http://nobr.kr/sv/BQFRb</td>\n",
       "      <td>False</td>\n",
       "      <td>5</td>\n",
       "      <td>BHK2</td>\n",
       "      <td>CORP_BORE</td>\n",
       "      <td>NaN</td>\n",
       "    </tr>\n",
       "  </tbody>\n",
       "</table>\n",
       "<p>5 rows × 36 columns</p>\n",
       "</div>"
      ],
      "text/plain": [
       "   active                                          amenities balconies  \\\n",
       "0    True  {\"LIFT\":true,\"GYM\":false,\"INTERNET\":false,\"AC\"...         3   \n",
       "1    True  {\"LIFT\":false,\"GYM\":false,\"INTERNET\":false,\"AC...         1   \n",
       "2    True  {\"LIFT\":true,\"GYM\":true,\"INTERNET\":false,\"AC\":...         3   \n",
       "3    True  {\"LIFT\":false,\"GYM\":false,\"INTERNET\":false,\"AC...         1   \n",
       "4    True  {\"LIFT\":true,\"GYM\":false,\"INTERNET\":false,\"AC\"...         2   \n",
       "\n",
       "   bathroom  combineDescription  \\\n",
       "0         3                 NaN   \n",
       "1         2                 NaN   \n",
       "2         3                 NaN   \n",
       "3         2                 NaN   \n",
       "4         2                 NaN   \n",
       "\n",
       "                                  completeStreetName  deposit facing  \\\n",
       "0  Shreya carnation, Block I, NCB Enclave, Gachib...    90000      W   \n",
       "1     Inner Ring Rd,  near RTO Bandlaguda South Zone    45000      E   \n",
       "2  Rd Number 2, Shirdi Sai Nagar, Manikonda, Hyde...    80000      E   \n",
       "3  Plot No. 44, Road No. 1/A, kakatiya colony, LB...    18000      W   \n",
       "4  Madhapur HUDA Techno Enclave,  Near MaxCure Su...    80000      E   \n",
       "\n",
       "  facingDesc  floor  ... property_size  reactivationSource rent_amount  \\\n",
       "0       West      3  ...          2200      USER_DASHBOARD       28000   \n",
       "1       East      2  ...          1200      USER_DASHBOARD       15000   \n",
       "2       East      0  ...          1800         MISSED_CALL       16000   \n",
       "3       West      2  ...           750         MISSED_CALL        9000   \n",
       "4       East      2  ...          1250                None       32500   \n",
       "\n",
       "   sharedAccomodation                 shortUrl  swimmingPool totalFloor  \\\n",
       "0               False  http://nobr.kr/sv/9Kvqj         False          5   \n",
       "1               False  http://nobr.kr/sv/j2pD6         False          2   \n",
       "2               False  http://nobr.kr/sv/TXJmj         False          3   \n",
       "3               False  http://nobr.kr/sv/FnCsf         False          2   \n",
       "4               False  http://nobr.kr/sv/BQFRb         False          5   \n",
       "\n",
       "  type_bhk waterSupply weight  \n",
       "0     BHK3   CORP_BORE    NaN  \n",
       "1     BHK3    BOREWELL    NaN  \n",
       "2     BHK3   CORP_BORE    NaN  \n",
       "3     BHK2   CORP_BORE    NaN  \n",
       "4     BHK2   CORP_BORE    NaN  \n",
       "\n",
       "[5 rows x 36 columns]"
      ]
     },
     "execution_count": 3,
     "metadata": {},
     "output_type": "execute_result"
    }
   ],
   "source": [
    "df.head()"
   ]
  },
  {
   "cell_type": "code",
   "execution_count": 4,
   "id": "cbdbc094",
   "metadata": {},
   "outputs": [
    {
     "data": {
      "text/plain": [
       "(19110, 36)"
      ]
     },
     "execution_count": 4,
     "metadata": {},
     "output_type": "execute_result"
    }
   ],
   "source": [
    "df.shape"
   ]
  },
  {
   "cell_type": "code",
   "execution_count": 5,
   "id": "5596b6b4",
   "metadata": {},
   "outputs": [
    {
     "data": {
      "text/plain": [
       "Index(['active', 'amenities', 'balconies', 'bathroom', 'combineDescription',\n",
       "       'completeStreetName', 'deposit', 'facing', 'facingDesc', 'floor',\n",
       "       'furnishingDesc', 'gym', 'id', 'isMaintenance', 'lift', 'loanAvailable',\n",
       "       'locality', 'localityId', 'location', 'maintenanceAmount', 'ownerName',\n",
       "       'parking', 'parkingDesc', 'propertyTitle', 'propertyType',\n",
       "       'property_age', 'property_size', 'reactivationSource', 'rent_amount',\n",
       "       'sharedAccomodation', 'shortUrl', 'swimmingPool', 'totalFloor',\n",
       "       'type_bhk', 'waterSupply', 'weight'],\n",
       "      dtype='object')"
      ]
     },
     "execution_count": 5,
     "metadata": {},
     "output_type": "execute_result"
    }
   ],
   "source": [
    "df.columns"
   ]
  },
  {
   "cell_type": "code",
   "execution_count": 6,
   "id": "fb1b2e9c",
   "metadata": {
    "execution": {
     "iopub.execute_input": "2021-08-15T15:32:22.946489Z",
     "iopub.status.busy": "2021-08-15T15:32:22.945659Z",
     "iopub.status.idle": "2021-08-15T15:32:22.949647Z",
     "shell.execute_reply": "2021-08-15T15:32:22.949105Z",
     "shell.execute_reply.started": "2021-08-15T15:31:49.548524Z"
    },
    "papermill": {
     "duration": 0.049247,
     "end_time": "2021-08-15T15:32:22.949783",
     "exception": false,
     "start_time": "2021-08-15T15:32:22.900536",
     "status": "completed"
    },
    "tags": []
   },
   "outputs": [],
   "source": [
    "df1=df.drop(['amenities','locality','balconies','lift','active','loanAvailable','location','ownerName',\n",
    "                          'parkingDesc','propertyTitle','propertyType','combineDescription','completeStreetName','facing',\n",
    "                          'facingDesc','furnishingDesc','gym','id','isMaintenance','weight','waterSupply','swimmingPool',\n",
    "                          'shortUrl','sharedAccomodation','reactivationSource'],axis=1)"
   ]
  },
  {
   "cell_type": "code",
   "execution_count": 7,
   "id": "cff57f1c",
   "metadata": {
    "execution": {
     "iopub.execute_input": "2021-08-15T15:32:23.027678Z",
     "iopub.status.busy": "2021-08-15T15:32:23.026951Z",
     "iopub.status.idle": "2021-08-15T15:32:23.057533Z",
     "shell.execute_reply": "2021-08-15T15:32:23.056740Z",
     "shell.execute_reply.started": "2021-08-15T15:31:49.562839Z"
    },
    "papermill": {
     "duration": 0.070934,
     "end_time": "2021-08-15T15:32:23.057726",
     "exception": false,
     "start_time": "2021-08-15T15:32:22.986792",
     "status": "completed"
    },
    "tags": []
   },
   "outputs": [
    {
     "name": "stdout",
     "output_type": "stream",
     "text": [
      "BOTH            9599\n",
      "TWO_WHEELER     7430\n",
      "FOUR_WHEELER    1131\n",
      "NONE             950\n",
      "Name: parking, dtype: int64\n",
      "2     9852\n",
      "1     5699\n",
      "3     3265\n",
      "4      207\n",
      "5       54\n",
      "6       17\n",
      "7        9\n",
      "8        3\n",
      "12       3\n",
      "14       1\n",
      "Name: bathroom, dtype: int64\n",
      "1     4735\n",
      "2     4678\n",
      "0     3908\n",
      "3     2785\n",
      "4     1424\n",
      "5      830\n",
      "6      157\n",
      "7      113\n",
      "8       80\n",
      "9       66\n",
      "11      54\n",
      "10      39\n",
      "12      38\n",
      "14      35\n",
      "13      28\n",
      "18      21\n",
      "16      18\n",
      "15      17\n",
      "20      13\n",
      "19      13\n",
      "17      10\n",
      "21      10\n",
      "23       9\n",
      "25       6\n",
      "24       6\n",
      "22       6\n",
      "28       4\n",
      "29       3\n",
      "26       2\n",
      "30       1\n",
      "31       1\n",
      "Name: floor, dtype: int64\n",
      "BHK2        9242\n",
      "BHK3        4229\n",
      "BHK1        4221\n",
      "RK1         1149\n",
      "BHK4         211\n",
      "BHK4PLUS      58\n",
      "Name: type_bhk, dtype: int64\n",
      "None    9658\n",
      "1000    1542\n",
      "1500    1435\n",
      "2000    1132\n",
      "500     1069\n",
      "        ... \n",
      "1416       1\n",
      "1840       1\n",
      "4830       1\n",
      "875        1\n",
      "6125       1\n",
      "Name: maintenanceAmount, Length: 264, dtype: int64\n"
     ]
    }
   ],
   "source": [
    "print(df1.parking.value_counts())\n",
    "print(df1.bathroom.value_counts())\n",
    "print(df1.floor.value_counts())\n",
    "print(df1.type_bhk.value_counts())\n",
    "print(df1.maintenanceAmount.value_counts())"
   ]
  },
  {
   "cell_type": "markdown",
   "id": "3436920b",
   "metadata": {
    "papermill": {
     "duration": 0.037199,
     "end_time": "2021-08-15T15:32:23.132885",
     "exception": false,
     "start_time": "2021-08-15T15:32:23.095686",
     "status": "completed"
    },
    "tags": []
   },
   "source": [
    "## encoding data"
   ]
  },
  {
   "cell_type": "code",
   "execution_count": 8,
   "id": "4d4adfcd",
   "metadata": {
    "execution": {
     "iopub.execute_input": "2021-08-15T15:32:23.230408Z",
     "iopub.status.busy": "2021-08-15T15:32:23.221477Z",
     "iopub.status.idle": "2021-08-15T15:32:23.262364Z",
     "shell.execute_reply": "2021-08-15T15:32:23.263255Z",
     "shell.execute_reply.started": "2021-08-15T15:31:49.597488Z"
    },
    "papermill": {
     "duration": 0.092704,
     "end_time": "2021-08-15T15:32:23.263546",
     "exception": false,
     "start_time": "2021-08-15T15:32:23.170842",
     "status": "completed"
    },
    "tags": []
   },
   "outputs": [],
   "source": [
    "df1.replace({'parking':{'NONE':0,'TWO_WHEELER':1,'FOUR_WHEELER':2,'BOTH':3}},inplace=True)\n",
    "df1.replace({'type_bhk':{'RK1':0.5,'BHK1':1,'BHK2':2,'BHK3':3,'BHK4':4,'BHK4PLUS':5}},inplace=True)\n",
    "df1.replace({'maintenanceAmount':{'None':int(0)}},inplace=True)\n",
    "df1[\"localityId\"].replace(\"NOT_FOUND\", \"other\",inplace=True)"
   ]
  },
  {
   "cell_type": "code",
   "execution_count": 9,
   "id": "12a20375",
   "metadata": {
    "execution": {
     "iopub.execute_input": "2021-08-15T15:32:23.381901Z",
     "iopub.status.busy": "2021-08-15T15:32:23.380901Z",
     "iopub.status.idle": "2021-08-15T15:32:23.385400Z",
     "shell.execute_reply": "2021-08-15T15:32:23.384768Z",
     "shell.execute_reply.started": "2021-08-15T15:31:49.649574Z"
    },
    "papermill": {
     "duration": 0.069099,
     "end_time": "2021-08-15T15:32:23.385551",
     "exception": false,
     "start_time": "2021-08-15T15:32:23.316452",
     "status": "completed"
    },
    "tags": []
   },
   "outputs": [
    {
     "data": {
      "text/html": [
       "<div>\n",
       "<style scoped>\n",
       "    .dataframe tbody tr th:only-of-type {\n",
       "        vertical-align: middle;\n",
       "    }\n",
       "\n",
       "    .dataframe tbody tr th {\n",
       "        vertical-align: top;\n",
       "    }\n",
       "\n",
       "    .dataframe thead th {\n",
       "        text-align: right;\n",
       "    }\n",
       "</style>\n",
       "<table border=\"1\" class=\"dataframe\">\n",
       "  <thead>\n",
       "    <tr style=\"text-align: right;\">\n",
       "      <th></th>\n",
       "      <th>bathroom</th>\n",
       "      <th>deposit</th>\n",
       "      <th>floor</th>\n",
       "      <th>localityId</th>\n",
       "      <th>maintenanceAmount</th>\n",
       "      <th>parking</th>\n",
       "      <th>property_age</th>\n",
       "      <th>property_size</th>\n",
       "      <th>rent_amount</th>\n",
       "      <th>totalFloor</th>\n",
       "      <th>type_bhk</th>\n",
       "    </tr>\n",
       "  </thead>\n",
       "  <tbody>\n",
       "    <tr>\n",
       "      <th>0</th>\n",
       "      <td>3</td>\n",
       "      <td>90000</td>\n",
       "      <td>3</td>\n",
       "      <td>gachibowli</td>\n",
       "      <td>2000</td>\n",
       "      <td>3</td>\n",
       "      <td>5</td>\n",
       "      <td>2200</td>\n",
       "      <td>28000</td>\n",
       "      <td>5</td>\n",
       "      <td>3.0</td>\n",
       "    </tr>\n",
       "    <tr>\n",
       "      <th>1</th>\n",
       "      <td>2</td>\n",
       "      <td>45000</td>\n",
       "      <td>2</td>\n",
       "      <td>chandrayangutta</td>\n",
       "      <td>0</td>\n",
       "      <td>1</td>\n",
       "      <td>1</td>\n",
       "      <td>1200</td>\n",
       "      <td>15000</td>\n",
       "      <td>2</td>\n",
       "      <td>3.0</td>\n",
       "    </tr>\n",
       "    <tr>\n",
       "      <th>2</th>\n",
       "      <td>3</td>\n",
       "      <td>80000</td>\n",
       "      <td>0</td>\n",
       "      <td>manikonda</td>\n",
       "      <td>1000</td>\n",
       "      <td>3</td>\n",
       "      <td>0</td>\n",
       "      <td>1800</td>\n",
       "      <td>16000</td>\n",
       "      <td>3</td>\n",
       "      <td>3.0</td>\n",
       "    </tr>\n",
       "    <tr>\n",
       "      <th>3</th>\n",
       "      <td>2</td>\n",
       "      <td>18000</td>\n",
       "      <td>2</td>\n",
       "      <td>other</td>\n",
       "      <td>500</td>\n",
       "      <td>3</td>\n",
       "      <td>0</td>\n",
       "      <td>750</td>\n",
       "      <td>9000</td>\n",
       "      <td>2</td>\n",
       "      <td>2.0</td>\n",
       "    </tr>\n",
       "    <tr>\n",
       "      <th>4</th>\n",
       "      <td>2</td>\n",
       "      <td>80000</td>\n",
       "      <td>2</td>\n",
       "      <td>hitech_city</td>\n",
       "      <td>2000</td>\n",
       "      <td>3</td>\n",
       "      <td>5</td>\n",
       "      <td>1250</td>\n",
       "      <td>32500</td>\n",
       "      <td>5</td>\n",
       "      <td>2.0</td>\n",
       "    </tr>\n",
       "  </tbody>\n",
       "</table>\n",
       "</div>"
      ],
      "text/plain": [
       "   bathroom  deposit  floor       localityId maintenanceAmount  parking  \\\n",
       "0         3    90000      3       gachibowli              2000        3   \n",
       "1         2    45000      2  chandrayangutta                 0        1   \n",
       "2         3    80000      0        manikonda              1000        3   \n",
       "3         2    18000      2            other               500        3   \n",
       "4         2    80000      2      hitech_city              2000        3   \n",
       "\n",
       "   property_age  property_size  rent_amount  totalFloor  type_bhk  \n",
       "0             5           2200        28000           5       3.0  \n",
       "1             1           1200        15000           2       3.0  \n",
       "2             0           1800        16000           3       3.0  \n",
       "3             0            750         9000           2       2.0  \n",
       "4             5           1250        32500           5       2.0  "
      ]
     },
     "execution_count": 9,
     "metadata": {},
     "output_type": "execute_result"
    }
   ],
   "source": [
    "df1.head()"
   ]
  },
  {
   "cell_type": "code",
   "execution_count": 10,
   "id": "2c2280bf",
   "metadata": {
    "execution": {
     "iopub.execute_input": "2021-08-15T15:32:23.473086Z",
     "iopub.status.busy": "2021-08-15T15:32:23.472320Z",
     "iopub.status.idle": "2021-08-15T15:32:23.489031Z",
     "shell.execute_reply": "2021-08-15T15:32:23.489809Z",
     "shell.execute_reply.started": "2021-08-15T15:31:49.669615Z"
    },
    "papermill": {
     "duration": 0.065469,
     "end_time": "2021-08-15T15:32:23.490046",
     "exception": false,
     "start_time": "2021-08-15T15:32:23.424577",
     "status": "completed"
    },
    "tags": []
   },
   "outputs": [
    {
     "name": "stdout",
     "output_type": "stream",
     "text": [
      "<class 'pandas.core.frame.DataFrame'>\n",
      "RangeIndex: 19110 entries, 0 to 19109\n",
      "Data columns (total 11 columns):\n",
      " #   Column             Non-Null Count  Dtype  \n",
      "---  ------             --------------  -----  \n",
      " 0   bathroom           19110 non-null  int64  \n",
      " 1   deposit            19110 non-null  int64  \n",
      " 2   floor              19110 non-null  int64  \n",
      " 3   localityId         19110 non-null  object \n",
      " 4   maintenanceAmount  19110 non-null  object \n",
      " 5   parking            19110 non-null  int64  \n",
      " 6   property_age       19110 non-null  int64  \n",
      " 7   property_size      19110 non-null  int64  \n",
      " 8   rent_amount        19110 non-null  int64  \n",
      " 9   totalFloor         19110 non-null  int64  \n",
      " 10  type_bhk           19110 non-null  float64\n",
      "dtypes: float64(1), int64(8), object(2)\n",
      "memory usage: 1.6+ MB\n"
     ]
    }
   ],
   "source": [
    "df1.info()"
   ]
  },
  {
   "cell_type": "code",
   "execution_count": 11,
   "id": "2a475a14",
   "metadata": {
    "execution": {
     "iopub.execute_input": "2021-08-15T15:32:23.577581Z",
     "iopub.status.busy": "2021-08-15T15:32:23.576835Z",
     "iopub.status.idle": "2021-08-15T15:32:23.584334Z",
     "shell.execute_reply": "2021-08-15T15:32:23.583732Z",
     "shell.execute_reply.started": "2021-08-15T15:31:49.702901Z"
    },
    "papermill": {
     "duration": 0.054395,
     "end_time": "2021-08-15T15:32:23.584489",
     "exception": false,
     "start_time": "2021-08-15T15:32:23.530094",
     "status": "completed"
    },
    "tags": []
   },
   "outputs": [
    {
     "data": {
      "text/plain": [
       "bathroom             0\n",
       "deposit              0\n",
       "floor                0\n",
       "localityId           0\n",
       "maintenanceAmount    0\n",
       "parking              0\n",
       "property_age         0\n",
       "property_size        0\n",
       "rent_amount          0\n",
       "totalFloor           0\n",
       "type_bhk             0\n",
       "dtype: int64"
      ]
     },
     "execution_count": 11,
     "metadata": {},
     "output_type": "execute_result"
    }
   ],
   "source": [
    "df1.isnull().sum()"
   ]
  },
  {
   "cell_type": "code",
   "execution_count": 12,
   "id": "c61f42d6",
   "metadata": {
    "execution": {
     "iopub.execute_input": "2021-08-15T15:32:23.667902Z",
     "iopub.status.busy": "2021-08-15T15:32:23.667033Z",
     "iopub.status.idle": "2021-08-15T15:32:23.671233Z",
     "shell.execute_reply": "2021-08-15T15:32:23.670568Z",
     "shell.execute_reply.started": "2021-08-15T15:31:49.719711Z"
    },
    "papermill": {
     "duration": 0.048031,
     "end_time": "2021-08-15T15:32:23.671394",
     "exception": false,
     "start_time": "2021-08-15T15:32:23.623363",
     "status": "completed"
    },
    "tags": []
   },
   "outputs": [],
   "source": [
    "df2=df1.copy()"
   ]
  },
  {
   "cell_type": "code",
   "execution_count": 13,
   "id": "1727a7fe",
   "metadata": {
    "execution": {
     "iopub.execute_input": "2021-08-15T15:32:23.762968Z",
     "iopub.status.busy": "2021-08-15T15:32:23.762031Z",
     "iopub.status.idle": "2021-08-15T15:32:23.767044Z",
     "shell.execute_reply": "2021-08-15T15:32:23.766497Z",
     "shell.execute_reply.started": "2021-08-15T15:31:49.730648Z"
    },
    "papermill": {
     "duration": 0.056282,
     "end_time": "2021-08-15T15:32:23.767184",
     "exception": false,
     "start_time": "2021-08-15T15:32:23.710902",
     "status": "completed"
    },
    "tags": []
   },
   "outputs": [
    {
     "data": {
      "text/plain": [
       "other               3491\n",
       "kondapur            1338\n",
       "kukatpally          1146\n",
       "miyapur              721\n",
       "hafeezpet            663\n",
       "                    ... \n",
       "chanchalguda           1\n",
       "samshabad_colony       1\n",
       "bahadurpura_west       1\n",
       "vattepally             1\n",
       "chudi_bazaar           1\n",
       "Name: localityId, Length: 269, dtype: int64"
      ]
     },
     "execution_count": 13,
     "metadata": {},
     "output_type": "execute_result"
    }
   ],
   "source": [
    "df2['localityId'].value_counts()"
   ]
  },
  {
   "cell_type": "code",
   "execution_count": 14,
   "id": "2faf4fb2",
   "metadata": {
    "execution": {
     "iopub.execute_input": "2021-08-15T15:32:23.865571Z",
     "iopub.status.busy": "2021-08-15T15:32:23.864823Z",
     "iopub.status.idle": "2021-08-15T15:32:23.868479Z",
     "shell.execute_reply": "2021-08-15T15:32:23.867799Z",
     "shell.execute_reply.started": "2021-08-15T15:31:49.751196Z"
    },
    "papermill": {
     "duration": 0.062404,
     "end_time": "2021-08-15T15:32:23.868631",
     "exception": false,
     "start_time": "2021-08-15T15:32:23.806227",
     "status": "completed"
    },
    "tags": []
   },
   "outputs": [],
   "source": [
    "df2['maintenance']=df2['maintenanceAmount'].apply(lambda x:int(x))"
   ]
  },
  {
   "cell_type": "code",
   "execution_count": 15,
   "id": "834cfed8",
   "metadata": {
    "execution": {
     "iopub.execute_input": "2021-08-15T15:32:23.962672Z",
     "iopub.status.busy": "2021-08-15T15:32:23.961650Z",
     "iopub.status.idle": "2021-08-15T15:32:23.966346Z",
     "shell.execute_reply": "2021-08-15T15:32:23.965732Z",
     "shell.execute_reply.started": "2021-08-15T15:31:49.777186Z"
    },
    "papermill": {
     "duration": 0.058635,
     "end_time": "2021-08-15T15:32:23.966522",
     "exception": false,
     "start_time": "2021-08-15T15:32:23.907887",
     "status": "completed"
    },
    "tags": []
   },
   "outputs": [
    {
     "data": {
      "text/html": [
       "<div>\n",
       "<style scoped>\n",
       "    .dataframe tbody tr th:only-of-type {\n",
       "        vertical-align: middle;\n",
       "    }\n",
       "\n",
       "    .dataframe tbody tr th {\n",
       "        vertical-align: top;\n",
       "    }\n",
       "\n",
       "    .dataframe thead th {\n",
       "        text-align: right;\n",
       "    }\n",
       "</style>\n",
       "<table border=\"1\" class=\"dataframe\">\n",
       "  <thead>\n",
       "    <tr style=\"text-align: right;\">\n",
       "      <th></th>\n",
       "      <th>bathroom</th>\n",
       "      <th>deposit</th>\n",
       "      <th>floor</th>\n",
       "      <th>localityId</th>\n",
       "      <th>maintenanceAmount</th>\n",
       "      <th>parking</th>\n",
       "      <th>property_age</th>\n",
       "      <th>property_size</th>\n",
       "      <th>rent_amount</th>\n",
       "      <th>totalFloor</th>\n",
       "      <th>type_bhk</th>\n",
       "      <th>maintenance</th>\n",
       "    </tr>\n",
       "  </thead>\n",
       "  <tbody>\n",
       "    <tr>\n",
       "      <th>0</th>\n",
       "      <td>3</td>\n",
       "      <td>90000</td>\n",
       "      <td>3</td>\n",
       "      <td>gachibowli</td>\n",
       "      <td>2000</td>\n",
       "      <td>3</td>\n",
       "      <td>5</td>\n",
       "      <td>2200</td>\n",
       "      <td>28000</td>\n",
       "      <td>5</td>\n",
       "      <td>3.0</td>\n",
       "      <td>2000</td>\n",
       "    </tr>\n",
       "    <tr>\n",
       "      <th>1</th>\n",
       "      <td>2</td>\n",
       "      <td>45000</td>\n",
       "      <td>2</td>\n",
       "      <td>chandrayangutta</td>\n",
       "      <td>0</td>\n",
       "      <td>1</td>\n",
       "      <td>1</td>\n",
       "      <td>1200</td>\n",
       "      <td>15000</td>\n",
       "      <td>2</td>\n",
       "      <td>3.0</td>\n",
       "      <td>0</td>\n",
       "    </tr>\n",
       "    <tr>\n",
       "      <th>2</th>\n",
       "      <td>3</td>\n",
       "      <td>80000</td>\n",
       "      <td>0</td>\n",
       "      <td>manikonda</td>\n",
       "      <td>1000</td>\n",
       "      <td>3</td>\n",
       "      <td>0</td>\n",
       "      <td>1800</td>\n",
       "      <td>16000</td>\n",
       "      <td>3</td>\n",
       "      <td>3.0</td>\n",
       "      <td>1000</td>\n",
       "    </tr>\n",
       "    <tr>\n",
       "      <th>3</th>\n",
       "      <td>2</td>\n",
       "      <td>18000</td>\n",
       "      <td>2</td>\n",
       "      <td>other</td>\n",
       "      <td>500</td>\n",
       "      <td>3</td>\n",
       "      <td>0</td>\n",
       "      <td>750</td>\n",
       "      <td>9000</td>\n",
       "      <td>2</td>\n",
       "      <td>2.0</td>\n",
       "      <td>500</td>\n",
       "    </tr>\n",
       "    <tr>\n",
       "      <th>4</th>\n",
       "      <td>2</td>\n",
       "      <td>80000</td>\n",
       "      <td>2</td>\n",
       "      <td>hitech_city</td>\n",
       "      <td>2000</td>\n",
       "      <td>3</td>\n",
       "      <td>5</td>\n",
       "      <td>1250</td>\n",
       "      <td>32500</td>\n",
       "      <td>5</td>\n",
       "      <td>2.0</td>\n",
       "      <td>2000</td>\n",
       "    </tr>\n",
       "  </tbody>\n",
       "</table>\n",
       "</div>"
      ],
      "text/plain": [
       "   bathroom  deposit  floor       localityId maintenanceAmount  parking  \\\n",
       "0         3    90000      3       gachibowli              2000        3   \n",
       "1         2    45000      2  chandrayangutta                 0        1   \n",
       "2         3    80000      0        manikonda              1000        3   \n",
       "3         2    18000      2            other               500        3   \n",
       "4         2    80000      2      hitech_city              2000        3   \n",
       "\n",
       "   property_age  property_size  rent_amount  totalFloor  type_bhk  maintenance  \n",
       "0             5           2200        28000           5       3.0         2000  \n",
       "1             1           1200        15000           2       3.0            0  \n",
       "2             0           1800        16000           3       3.0         1000  \n",
       "3             0            750         9000           2       2.0          500  \n",
       "4             5           1250        32500           5       2.0         2000  "
      ]
     },
     "execution_count": 15,
     "metadata": {},
     "output_type": "execute_result"
    }
   ],
   "source": [
    "df2.head()"
   ]
  },
  {
   "cell_type": "code",
   "execution_count": 16,
   "id": "80f05ff3",
   "metadata": {
    "execution": {
     "iopub.execute_input": "2021-08-15T15:32:24.052541Z",
     "iopub.status.busy": "2021-08-15T15:32:24.051440Z",
     "iopub.status.idle": "2021-08-15T15:32:24.059424Z",
     "shell.execute_reply": "2021-08-15T15:32:24.058849Z",
     "shell.execute_reply.started": "2021-08-15T15:31:49.796172Z"
    },
    "papermill": {
     "duration": 0.053434,
     "end_time": "2021-08-15T15:32:24.059569",
     "exception": false,
     "start_time": "2021-08-15T15:32:24.006135",
     "status": "completed"
    },
    "tags": []
   },
   "outputs": [],
   "source": [
    "df3=df2.drop(['maintenanceAmount','deposit','property_age','totalFloor'],axis=1)"
   ]
  },
  {
   "cell_type": "code",
   "execution_count": 17,
   "id": "301bafdf",
   "metadata": {
    "execution": {
     "iopub.execute_input": "2021-08-15T15:32:24.146685Z",
     "iopub.status.busy": "2021-08-15T15:32:24.146004Z",
     "iopub.status.idle": "2021-08-15T15:32:24.154693Z",
     "shell.execute_reply": "2021-08-15T15:32:24.155177Z",
     "shell.execute_reply.started": "2021-08-15T15:31:49.811490Z"
    },
    "papermill": {
     "duration": 0.056282,
     "end_time": "2021-08-15T15:32:24.155365",
     "exception": false,
     "start_time": "2021-08-15T15:32:24.099083",
     "status": "completed"
    },
    "tags": []
   },
   "outputs": [
    {
     "data": {
      "text/html": [
       "<div>\n",
       "<style scoped>\n",
       "    .dataframe tbody tr th:only-of-type {\n",
       "        vertical-align: middle;\n",
       "    }\n",
       "\n",
       "    .dataframe tbody tr th {\n",
       "        vertical-align: top;\n",
       "    }\n",
       "\n",
       "    .dataframe thead th {\n",
       "        text-align: right;\n",
       "    }\n",
       "</style>\n",
       "<table border=\"1\" class=\"dataframe\">\n",
       "  <thead>\n",
       "    <tr style=\"text-align: right;\">\n",
       "      <th></th>\n",
       "      <th>bathroom</th>\n",
       "      <th>floor</th>\n",
       "      <th>localityId</th>\n",
       "      <th>parking</th>\n",
       "      <th>property_size</th>\n",
       "      <th>rent_amount</th>\n",
       "      <th>type_bhk</th>\n",
       "      <th>maintenance</th>\n",
       "    </tr>\n",
       "  </thead>\n",
       "  <tbody>\n",
       "    <tr>\n",
       "      <th>0</th>\n",
       "      <td>3</td>\n",
       "      <td>3</td>\n",
       "      <td>gachibowli</td>\n",
       "      <td>3</td>\n",
       "      <td>2200</td>\n",
       "      <td>28000</td>\n",
       "      <td>3.0</td>\n",
       "      <td>2000</td>\n",
       "    </tr>\n",
       "    <tr>\n",
       "      <th>1</th>\n",
       "      <td>2</td>\n",
       "      <td>2</td>\n",
       "      <td>chandrayangutta</td>\n",
       "      <td>1</td>\n",
       "      <td>1200</td>\n",
       "      <td>15000</td>\n",
       "      <td>3.0</td>\n",
       "      <td>0</td>\n",
       "    </tr>\n",
       "    <tr>\n",
       "      <th>2</th>\n",
       "      <td>3</td>\n",
       "      <td>0</td>\n",
       "      <td>manikonda</td>\n",
       "      <td>3</td>\n",
       "      <td>1800</td>\n",
       "      <td>16000</td>\n",
       "      <td>3.0</td>\n",
       "      <td>1000</td>\n",
       "    </tr>\n",
       "    <tr>\n",
       "      <th>3</th>\n",
       "      <td>2</td>\n",
       "      <td>2</td>\n",
       "      <td>other</td>\n",
       "      <td>3</td>\n",
       "      <td>750</td>\n",
       "      <td>9000</td>\n",
       "      <td>2.0</td>\n",
       "      <td>500</td>\n",
       "    </tr>\n",
       "    <tr>\n",
       "      <th>4</th>\n",
       "      <td>2</td>\n",
       "      <td>2</td>\n",
       "      <td>hitech_city</td>\n",
       "      <td>3</td>\n",
       "      <td>1250</td>\n",
       "      <td>32500</td>\n",
       "      <td>2.0</td>\n",
       "      <td>2000</td>\n",
       "    </tr>\n",
       "  </tbody>\n",
       "</table>\n",
       "</div>"
      ],
      "text/plain": [
       "   bathroom  floor       localityId  parking  property_size  rent_amount  \\\n",
       "0         3      3       gachibowli        3           2200        28000   \n",
       "1         2      2  chandrayangutta        1           1200        15000   \n",
       "2         3      0        manikonda        3           1800        16000   \n",
       "3         2      2            other        3            750         9000   \n",
       "4         2      2      hitech_city        3           1250        32500   \n",
       "\n",
       "   type_bhk  maintenance  \n",
       "0       3.0         2000  \n",
       "1       3.0            0  \n",
       "2       3.0         1000  \n",
       "3       2.0          500  \n",
       "4       2.0         2000  "
      ]
     },
     "execution_count": 17,
     "metadata": {},
     "output_type": "execute_result"
    }
   ],
   "source": [
    "df3.head()"
   ]
  },
  {
   "cell_type": "code",
   "execution_count": 18,
   "id": "253d9c97",
   "metadata": {
    "execution": {
     "iopub.execute_input": "2021-08-15T15:32:24.242546Z",
     "iopub.status.busy": "2021-08-15T15:32:24.241812Z",
     "iopub.status.idle": "2021-08-15T15:32:24.256062Z",
     "shell.execute_reply": "2021-08-15T15:32:24.255266Z",
     "shell.execute_reply.started": "2021-08-15T15:31:49.829952Z"
    },
    "papermill": {
     "duration": 0.061207,
     "end_time": "2021-08-15T15:32:24.256255",
     "exception": false,
     "start_time": "2021-08-15T15:32:24.195048",
     "status": "completed"
    },
    "tags": []
   },
   "outputs": [
    {
     "name": "stdout",
     "output_type": "stream",
     "text": [
      "<class 'pandas.core.frame.DataFrame'>\n",
      "RangeIndex: 19110 entries, 0 to 19109\n",
      "Data columns (total 8 columns):\n",
      " #   Column         Non-Null Count  Dtype  \n",
      "---  ------         --------------  -----  \n",
      " 0   bathroom       19110 non-null  int64  \n",
      " 1   floor          19110 non-null  int64  \n",
      " 2   localityId     19110 non-null  object \n",
      " 3   parking        19110 non-null  int64  \n",
      " 4   property_size  19110 non-null  int64  \n",
      " 5   rent_amount    19110 non-null  int64  \n",
      " 6   type_bhk       19110 non-null  float64\n",
      " 7   maintenance    19110 non-null  int64  \n",
      "dtypes: float64(1), int64(6), object(1)\n",
      "memory usage: 1.2+ MB\n"
     ]
    }
   ],
   "source": [
    "df3.info()"
   ]
  },
  {
   "cell_type": "markdown",
   "id": "8508f53b",
   "metadata": {
    "papermill": {
     "duration": 0.039848,
     "end_time": "2021-08-15T15:32:24.336868",
     "exception": false,
     "start_time": "2021-08-15T15:32:24.297020",
     "status": "completed"
    },
    "tags": []
   },
   "source": [
    "# Feature Engineering"
   ]
  },
  {
   "cell_type": "code",
   "execution_count": 20,
   "id": "945ff3dc",
   "metadata": {
    "execution": {
     "iopub.execute_input": "2021-08-15T15:32:24.422748Z",
     "iopub.status.busy": "2021-08-15T15:32:24.422061Z",
     "iopub.status.idle": "2021-08-15T15:32:24.454245Z",
     "shell.execute_reply": "2021-08-15T15:32:24.453647Z",
     "shell.execute_reply.started": "2021-08-15T15:31:49.852297Z"
    },
    "papermill": {
     "duration": 0.076574,
     "end_time": "2021-08-15T15:32:24.454418",
     "exception": false,
     "start_time": "2021-08-15T15:32:24.377844",
     "status": "completed"
    },
    "tags": []
   },
   "outputs": [
    {
     "data": {
      "text/html": [
       "<div>\n",
       "<style scoped>\n",
       "    .dataframe tbody tr th:only-of-type {\n",
       "        vertical-align: middle;\n",
       "    }\n",
       "\n",
       "    .dataframe tbody tr th {\n",
       "        vertical-align: top;\n",
       "    }\n",
       "\n",
       "    .dataframe thead th {\n",
       "        text-align: right;\n",
       "    }\n",
       "</style>\n",
       "<table border=\"1\" class=\"dataframe\">\n",
       "  <thead>\n",
       "    <tr style=\"text-align: right;\">\n",
       "      <th></th>\n",
       "      <th>bathroom</th>\n",
       "      <th>floor</th>\n",
       "      <th>localityId</th>\n",
       "      <th>parking</th>\n",
       "      <th>property_size</th>\n",
       "      <th>rent_amount</th>\n",
       "      <th>type_bhk</th>\n",
       "      <th>maintenance</th>\n",
       "      <th>rent_per_sqft</th>\n",
       "    </tr>\n",
       "  </thead>\n",
       "  <tbody>\n",
       "    <tr>\n",
       "      <th>0</th>\n",
       "      <td>3</td>\n",
       "      <td>3</td>\n",
       "      <td>gachibowli</td>\n",
       "      <td>3</td>\n",
       "      <td>2200</td>\n",
       "      <td>28000</td>\n",
       "      <td>3.0</td>\n",
       "      <td>2000</td>\n",
       "      <td>12.727273</td>\n",
       "    </tr>\n",
       "    <tr>\n",
       "      <th>1</th>\n",
       "      <td>2</td>\n",
       "      <td>2</td>\n",
       "      <td>chandrayangutta</td>\n",
       "      <td>1</td>\n",
       "      <td>1200</td>\n",
       "      <td>15000</td>\n",
       "      <td>3.0</td>\n",
       "      <td>0</td>\n",
       "      <td>12.500000</td>\n",
       "    </tr>\n",
       "    <tr>\n",
       "      <th>2</th>\n",
       "      <td>3</td>\n",
       "      <td>0</td>\n",
       "      <td>manikonda</td>\n",
       "      <td>3</td>\n",
       "      <td>1800</td>\n",
       "      <td>16000</td>\n",
       "      <td>3.0</td>\n",
       "      <td>1000</td>\n",
       "      <td>8.888889</td>\n",
       "    </tr>\n",
       "    <tr>\n",
       "      <th>3</th>\n",
       "      <td>2</td>\n",
       "      <td>2</td>\n",
       "      <td>other</td>\n",
       "      <td>3</td>\n",
       "      <td>750</td>\n",
       "      <td>9000</td>\n",
       "      <td>2.0</td>\n",
       "      <td>500</td>\n",
       "      <td>12.000000</td>\n",
       "    </tr>\n",
       "    <tr>\n",
       "      <th>4</th>\n",
       "      <td>2</td>\n",
       "      <td>2</td>\n",
       "      <td>hitech_city</td>\n",
       "      <td>3</td>\n",
       "      <td>1250</td>\n",
       "      <td>32500</td>\n",
       "      <td>2.0</td>\n",
       "      <td>2000</td>\n",
       "      <td>26.000000</td>\n",
       "    </tr>\n",
       "  </tbody>\n",
       "</table>\n",
       "</div>"
      ],
      "text/plain": [
       "   bathroom  floor       localityId  parking  property_size  rent_amount  \\\n",
       "0         3      3       gachibowli        3           2200        28000   \n",
       "1         2      2  chandrayangutta        1           1200        15000   \n",
       "2         3      0        manikonda        3           1800        16000   \n",
       "3         2      2            other        3            750         9000   \n",
       "4         2      2      hitech_city        3           1250        32500   \n",
       "\n",
       "   type_bhk  maintenance  rent_per_sqft  \n",
       "0       3.0         2000      12.727273  \n",
       "1       3.0            0      12.500000  \n",
       "2       3.0         1000       8.888889  \n",
       "3       2.0          500      12.000000  \n",
       "4       2.0         2000      26.000000  "
      ]
     },
     "execution_count": 20,
     "metadata": {},
     "output_type": "execute_result"
    }
   ],
   "source": [
    "df4=df3.copy()\n",
    "df4['rent_per_sqft']=df4['rent_amount']/df4['property_size']\n",
    "df4.head()"
   ]
  },
  {
   "cell_type": "code",
   "execution_count": 21,
   "id": "a22c4ba2",
   "metadata": {
    "execution": {
     "iopub.execute_input": "2021-08-15T15:32:24.548296Z",
     "iopub.status.busy": "2021-08-15T15:32:24.547285Z",
     "iopub.status.idle": "2021-08-15T15:32:24.559434Z",
     "shell.execute_reply": "2021-08-15T15:32:24.558764Z",
     "shell.execute_reply.started": "2021-08-15T15:31:49.872002Z"
    },
    "papermill": {
     "duration": 0.059735,
     "end_time": "2021-08-15T15:32:24.559581",
     "exception": false,
     "start_time": "2021-08-15T15:32:24.499846",
     "status": "completed"
    },
    "tags": []
   },
   "outputs": [
    {
     "data": {
      "text/plain": [
       "localityId\n",
       "other                   3491\n",
       "kondapur                1338\n",
       "kukatpally              1146\n",
       "miyapur                  721\n",
       "hafeezpet                663\n",
       "                        ... \n",
       "r_krishnaiah_nagar         1\n",
       "samshabad_colony           1\n",
       "komaram_bheem_colony       1\n",
       "rakshapuram                1\n",
       "karwan_east                1\n",
       "Name: localityId, Length: 269, dtype: int64"
      ]
     },
     "execution_count": 21,
     "metadata": {},
     "output_type": "execute_result"
    }
   ],
   "source": [
    "location_stats=df4.groupby('localityId')['localityId'].agg('count').sort_values(ascending=False)\n",
    "location_stats"
   ]
  },
  {
   "cell_type": "code",
   "execution_count": 22,
   "id": "cb4d4279",
   "metadata": {
    "execution": {
     "iopub.execute_input": "2021-08-15T15:32:24.648737Z",
     "iopub.status.busy": "2021-08-15T15:32:24.647792Z",
     "iopub.status.idle": "2021-08-15T15:32:24.652183Z",
     "shell.execute_reply": "2021-08-15T15:32:24.651561Z",
     "shell.execute_reply.started": "2021-08-15T15:31:49.892743Z"
    },
    "papermill": {
     "duration": 0.051174,
     "end_time": "2021-08-15T15:32:24.652322",
     "exception": false,
     "start_time": "2021-08-15T15:32:24.601148",
     "status": "completed"
    },
    "tags": []
   },
   "outputs": [
    {
     "data": {
      "text/plain": [
       "119"
      ]
     },
     "execution_count": 22,
     "metadata": {},
     "output_type": "execute_result"
    }
   ],
   "source": [
    "len(location_stats[location_stats<=10])"
   ]
  },
  {
   "cell_type": "code",
   "execution_count": 23,
   "id": "3d9017fd",
   "metadata": {
    "execution": {
     "iopub.execute_input": "2021-08-15T15:32:24.742878Z",
     "iopub.status.busy": "2021-08-15T15:32:24.742051Z",
     "iopub.status.idle": "2021-08-15T15:32:24.746056Z",
     "shell.execute_reply": "2021-08-15T15:32:24.745501Z",
     "shell.execute_reply.started": "2021-08-15T15:31:49.901033Z"
    },
    "papermill": {
     "duration": 0.052476,
     "end_time": "2021-08-15T15:32:24.746195",
     "exception": false,
     "start_time": "2021-08-15T15:32:24.693719",
     "status": "completed"
    },
    "tags": []
   },
   "outputs": [
    {
     "data": {
      "text/plain": [
       "localityId\n",
       "bairagiguda             10\n",
       "kanchan_bagh            10\n",
       "koti                    10\n",
       "auto_nagar              10\n",
       "nampally                10\n",
       "                        ..\n",
       "r_krishnaiah_nagar       1\n",
       "samshabad_colony         1\n",
       "komaram_bheem_colony     1\n",
       "rakshapuram              1\n",
       "karwan_east              1\n",
       "Name: localityId, Length: 119, dtype: int64"
      ]
     },
     "execution_count": 23,
     "metadata": {},
     "output_type": "execute_result"
    }
   ],
   "source": [
    "location_less_than_10=location_stats[location_stats<=10]\n",
    "location_less_than_10"
   ]
  },
  {
   "cell_type": "code",
   "execution_count": 24,
   "id": "e902272e",
   "metadata": {
    "execution": {
     "iopub.execute_input": "2021-08-15T15:32:24.832653Z",
     "iopub.status.busy": "2021-08-15T15:32:24.832015Z",
     "iopub.status.idle": "2021-08-15T15:32:24.876082Z",
     "shell.execute_reply": "2021-08-15T15:32:24.875501Z",
     "shell.execute_reply.started": "2021-08-15T15:31:49.916977Z"
    },
    "papermill": {
     "duration": 0.088354,
     "end_time": "2021-08-15T15:32:24.876237",
     "exception": false,
     "start_time": "2021-08-15T15:32:24.787883",
     "status": "completed"
    },
    "tags": []
   },
   "outputs": [
    {
     "data": {
      "text/plain": [
       "localityId\n",
       "bairagiguda             10\n",
       "kanchan_bagh            10\n",
       "koti                    10\n",
       "auto_nagar              10\n",
       "nampally                10\n",
       "                        ..\n",
       "r_krishnaiah_nagar       1\n",
       "samshabad_colony         1\n",
       "komaram_bheem_colony     1\n",
       "rakshapuram              1\n",
       "karwan_east              1\n",
       "Name: localityId, Length: 119, dtype: int64"
      ]
     },
     "execution_count": 24,
     "metadata": {},
     "output_type": "execute_result"
    }
   ],
   "source": [
    "df4.localityId=df4.localityId.apply(lambda x:'other' if x  in location_less_than_10 else x)\n",
    "df4['localityId'].value_counts()\n",
    "location_less_than_10"
   ]
  },
  {
   "cell_type": "markdown",
   "id": "3c7920bd",
   "metadata": {
    "papermill": {
     "duration": 0.041772,
     "end_time": "2021-08-15T15:32:24.959875",
     "exception": false,
     "start_time": "2021-08-15T15:32:24.918103",
     "status": "completed"
    },
    "tags": []
   },
   "source": [
    "## outliner detection"
   ]
  },
  {
   "cell_type": "code",
   "execution_count": 25,
   "id": "fc9c8c2e",
   "metadata": {
    "execution": {
     "iopub.execute_input": "2021-08-15T15:32:25.050679Z",
     "iopub.status.busy": "2021-08-15T15:32:25.049562Z",
     "iopub.status.idle": "2021-08-15T15:32:25.073004Z",
     "shell.execute_reply": "2021-08-15T15:32:25.072432Z",
     "shell.execute_reply.started": "2021-08-15T15:31:49.970592Z"
    },
    "papermill": {
     "duration": 0.070596,
     "end_time": "2021-08-15T15:32:25.073158",
     "exception": false,
     "start_time": "2021-08-15T15:32:25.002562",
     "status": "completed"
    },
    "tags": []
   },
   "outputs": [
    {
     "data": {
      "text/html": [
       "<div>\n",
       "<style scoped>\n",
       "    .dataframe tbody tr th:only-of-type {\n",
       "        vertical-align: middle;\n",
       "    }\n",
       "\n",
       "    .dataframe tbody tr th {\n",
       "        vertical-align: top;\n",
       "    }\n",
       "\n",
       "    .dataframe thead th {\n",
       "        text-align: right;\n",
       "    }\n",
       "</style>\n",
       "<table border=\"1\" class=\"dataframe\">\n",
       "  <thead>\n",
       "    <tr style=\"text-align: right;\">\n",
       "      <th></th>\n",
       "      <th>bathroom</th>\n",
       "      <th>floor</th>\n",
       "      <th>localityId</th>\n",
       "      <th>parking</th>\n",
       "      <th>property_size</th>\n",
       "      <th>rent_amount</th>\n",
       "      <th>type_bhk</th>\n",
       "      <th>maintenance</th>\n",
       "      <th>rent_per_sqft</th>\n",
       "    </tr>\n",
       "  </thead>\n",
       "  <tbody>\n",
       "    <tr>\n",
       "      <th>582</th>\n",
       "      <td>1</td>\n",
       "      <td>0</td>\n",
       "      <td>serilingampally</td>\n",
       "      <td>1</td>\n",
       "      <td>100</td>\n",
       "      <td>5000</td>\n",
       "      <td>0.5</td>\n",
       "      <td>0</td>\n",
       "      <td>50.000000</td>\n",
       "    </tr>\n",
       "    <tr>\n",
       "      <th>647</th>\n",
       "      <td>1</td>\n",
       "      <td>1</td>\n",
       "      <td>miyapur</td>\n",
       "      <td>1</td>\n",
       "      <td>144</td>\n",
       "      <td>5500</td>\n",
       "      <td>0.5</td>\n",
       "      <td>0</td>\n",
       "      <td>38.194444</td>\n",
       "    </tr>\n",
       "    <tr>\n",
       "      <th>706</th>\n",
       "      <td>1</td>\n",
       "      <td>1</td>\n",
       "      <td>other</td>\n",
       "      <td>0</td>\n",
       "      <td>100</td>\n",
       "      <td>4000</td>\n",
       "      <td>0.5</td>\n",
       "      <td>0</td>\n",
       "      <td>40.000000</td>\n",
       "    </tr>\n",
       "    <tr>\n",
       "      <th>719</th>\n",
       "      <td>2</td>\n",
       "      <td>6</td>\n",
       "      <td>other</td>\n",
       "      <td>3</td>\n",
       "      <td>0</td>\n",
       "      <td>25000</td>\n",
       "      <td>2.0</td>\n",
       "      <td>2500</td>\n",
       "      <td>inf</td>\n",
       "    </tr>\n",
       "    <tr>\n",
       "      <th>734</th>\n",
       "      <td>1</td>\n",
       "      <td>1</td>\n",
       "      <td>other</td>\n",
       "      <td>3</td>\n",
       "      <td>120</td>\n",
       "      <td>10000</td>\n",
       "      <td>0.5</td>\n",
       "      <td>1000</td>\n",
       "      <td>83.333333</td>\n",
       "    </tr>\n",
       "    <tr>\n",
       "      <th>...</th>\n",
       "      <td>...</td>\n",
       "      <td>...</td>\n",
       "      <td>...</td>\n",
       "      <td>...</td>\n",
       "      <td>...</td>\n",
       "      <td>...</td>\n",
       "      <td>...</td>\n",
       "      <td>...</td>\n",
       "      <td>...</td>\n",
       "    </tr>\n",
       "    <tr>\n",
       "      <th>18845</th>\n",
       "      <td>1</td>\n",
       "      <td>5</td>\n",
       "      <td>hafeezpet</td>\n",
       "      <td>3</td>\n",
       "      <td>500</td>\n",
       "      <td>8000</td>\n",
       "      <td>2.0</td>\n",
       "      <td>720</td>\n",
       "      <td>16.000000</td>\n",
       "    </tr>\n",
       "    <tr>\n",
       "      <th>18846</th>\n",
       "      <td>1</td>\n",
       "      <td>0</td>\n",
       "      <td>padmarao_nagar</td>\n",
       "      <td>1</td>\n",
       "      <td>250</td>\n",
       "      <td>5000</td>\n",
       "      <td>1.0</td>\n",
       "      <td>500</td>\n",
       "      <td>20.000000</td>\n",
       "    </tr>\n",
       "    <tr>\n",
       "      <th>18937</th>\n",
       "      <td>1</td>\n",
       "      <td>2</td>\n",
       "      <td>ramachandra_puram</td>\n",
       "      <td>1</td>\n",
       "      <td>200</td>\n",
       "      <td>8000</td>\n",
       "      <td>1.0</td>\n",
       "      <td>0</td>\n",
       "      <td>40.000000</td>\n",
       "    </tr>\n",
       "    <tr>\n",
       "      <th>18977</th>\n",
       "      <td>2</td>\n",
       "      <td>1</td>\n",
       "      <td>nallagandla</td>\n",
       "      <td>3</td>\n",
       "      <td>400</td>\n",
       "      <td>15000</td>\n",
       "      <td>2.0</td>\n",
       "      <td>550</td>\n",
       "      <td>37.500000</td>\n",
       "    </tr>\n",
       "    <tr>\n",
       "      <th>19020</th>\n",
       "      <td>2</td>\n",
       "      <td>1</td>\n",
       "      <td>other</td>\n",
       "      <td>3</td>\n",
       "      <td>0</td>\n",
       "      <td>12000</td>\n",
       "      <td>3.0</td>\n",
       "      <td>0</td>\n",
       "      <td>inf</td>\n",
       "    </tr>\n",
       "  </tbody>\n",
       "</table>\n",
       "<p>349 rows × 9 columns</p>\n",
       "</div>"
      ],
      "text/plain": [
       "       bathroom  floor         localityId  parking  property_size  \\\n",
       "582           1      0    serilingampally        1            100   \n",
       "647           1      1            miyapur        1            144   \n",
       "706           1      1              other        0            100   \n",
       "719           2      6              other        3              0   \n",
       "734           1      1              other        3            120   \n",
       "...         ...    ...                ...      ...            ...   \n",
       "18845         1      5          hafeezpet        3            500   \n",
       "18846         1      0     padmarao_nagar        1            250   \n",
       "18937         1      2  ramachandra_puram        1            200   \n",
       "18977         2      1        nallagandla        3            400   \n",
       "19020         2      1              other        3              0   \n",
       "\n",
       "       rent_amount  type_bhk  maintenance  rent_per_sqft  \n",
       "582           5000       0.5            0      50.000000  \n",
       "647           5500       0.5            0      38.194444  \n",
       "706           4000       0.5            0      40.000000  \n",
       "719          25000       2.0         2500            inf  \n",
       "734          10000       0.5         1000      83.333333  \n",
       "...            ...       ...          ...            ...  \n",
       "18845         8000       2.0          720      16.000000  \n",
       "18846         5000       1.0          500      20.000000  \n",
       "18937         8000       1.0            0      40.000000  \n",
       "18977        15000       2.0          550      37.500000  \n",
       "19020        12000       3.0            0            inf  \n",
       "\n",
       "[349 rows x 9 columns]"
      ]
     },
     "execution_count": 25,
     "metadata": {},
     "output_type": "execute_result"
    }
   ],
   "source": [
    "df4[df4.property_size/df4.type_bhk<300]"
   ]
  },
  {
   "cell_type": "code",
   "execution_count": 26,
   "id": "3b277b4a",
   "metadata": {
    "execution": {
     "iopub.execute_input": "2021-08-15T15:32:25.166125Z",
     "iopub.status.busy": "2021-08-15T15:32:25.165480Z",
     "iopub.status.idle": "2021-08-15T15:32:25.168954Z",
     "shell.execute_reply": "2021-08-15T15:32:25.168436Z",
     "shell.execute_reply.started": "2021-08-15T15:31:49.998004Z"
    },
    "papermill": {
     "duration": 0.052068,
     "end_time": "2021-08-15T15:32:25.169095",
     "exception": false,
     "start_time": "2021-08-15T15:32:25.117027",
     "status": "completed"
    },
    "tags": []
   },
   "outputs": [
    {
     "data": {
      "text/plain": [
       "(19110, 9)"
      ]
     },
     "execution_count": 26,
     "metadata": {},
     "output_type": "execute_result"
    }
   ],
   "source": [
    "df4.shape"
   ]
  },
  {
   "cell_type": "code",
   "execution_count": 27,
   "id": "bb4d7a31",
   "metadata": {
    "execution": {
     "iopub.execute_input": "2021-08-15T15:32:25.260732Z",
     "iopub.status.busy": "2021-08-15T15:32:25.260037Z",
     "iopub.status.idle": "2021-08-15T15:32:25.267090Z",
     "shell.execute_reply": "2021-08-15T15:32:25.266477Z",
     "shell.execute_reply.started": "2021-08-15T15:31:50.005947Z"
    },
    "papermill": {
     "duration": 0.055088,
     "end_time": "2021-08-15T15:32:25.267227",
     "exception": false,
     "start_time": "2021-08-15T15:32:25.212139",
     "status": "completed"
    },
    "tags": []
   },
   "outputs": [
    {
     "data": {
      "text/plain": [
       "(18761, 9)"
      ]
     },
     "execution_count": 27,
     "metadata": {},
     "output_type": "execute_result"
    }
   ],
   "source": [
    "df5=df4[~(df4.property_size/df4.type_bhk<300)]\n",
    "df5.shape"
   ]
  },
  {
   "cell_type": "code",
   "execution_count": 28,
   "id": "0cb83520",
   "metadata": {
    "execution": {
     "iopub.execute_input": "2021-08-15T15:32:25.359445Z",
     "iopub.status.busy": "2021-08-15T15:32:25.358706Z",
     "iopub.status.idle": "2021-08-15T15:32:25.370369Z",
     "shell.execute_reply": "2021-08-15T15:32:25.369781Z",
     "shell.execute_reply.started": "2021-08-15T15:31:50.024605Z"
    },
    "papermill": {
     "duration": 0.059837,
     "end_time": "2021-08-15T15:32:25.370538",
     "exception": false,
     "start_time": "2021-08-15T15:32:25.310701",
     "status": "completed"
    },
    "tags": []
   },
   "outputs": [
    {
     "data": {
      "text/plain": [
       "count    18761.000000\n",
       "mean        14.520746\n",
       "std          6.085518\n",
       "min          0.000000\n",
       "25%         10.666667\n",
       "50%         13.500000\n",
       "75%         17.000000\n",
       "max        120.000000\n",
       "Name: rent_per_sqft, dtype: float64"
      ]
     },
     "execution_count": 28,
     "metadata": {},
     "output_type": "execute_result"
    }
   ],
   "source": [
    "df5.rent_per_sqft.describe()"
   ]
  },
  {
   "cell_type": "code",
   "execution_count": 30,
   "id": "9b7a4f3e",
   "metadata": {
    "execution": {
     "iopub.execute_input": "2021-08-15T15:32:25.472605Z",
     "iopub.status.busy": "2021-08-15T15:32:25.471871Z",
     "iopub.status.idle": "2021-08-15T15:32:26.053777Z",
     "shell.execute_reply": "2021-08-15T15:32:26.054317Z",
     "shell.execute_reply.started": "2021-08-15T15:31:50.038944Z"
    },
    "papermill": {
     "duration": 0.635963,
     "end_time": "2021-08-15T15:32:26.054513",
     "exception": false,
     "start_time": "2021-08-15T15:32:25.418550",
     "status": "completed"
    },
    "tags": []
   },
   "outputs": [
    {
     "data": {
      "text/plain": [
       "(14819, 9)"
      ]
     },
     "execution_count": 30,
     "metadata": {},
     "output_type": "execute_result"
    }
   ],
   "source": [
    "def remove_pps_outliers (df):\n",
    "    df_out = pd.DataFrame()\n",
    "    for key,subdf in df.groupby('localityId'):\n",
    "        m=np.mean(subdf.rent_per_sqft)\n",
    "        st=np.std(subdf.rent_per_sqft) \n",
    "        reduced_df=subdf[(subdf.rent_per_sqft>(m-st))&(subdf.rent_per_sqft<=(m+st))]\n",
    "        df_out=pd.concat([df_out,reduced_df],ignore_index=True)\n",
    "    return df_out\n",
    "df6=remove_pps_outliers(df5)\n",
    "df6.shape"
   ]
  },
  {
   "cell_type": "code",
   "execution_count": 31,
   "id": "67d0a43c",
   "metadata": {
    "execution": {
     "iopub.execute_input": "2021-08-15T15:32:26.150256Z",
     "iopub.status.busy": "2021-08-15T15:32:26.149594Z",
     "iopub.status.idle": "2021-08-15T15:32:26.152390Z",
     "shell.execute_reply": "2021-08-15T15:32:26.151751Z",
     "shell.execute_reply.started": "2021-08-15T15:31:50.639281Z"
    },
    "papermill": {
     "duration": 0.053753,
     "end_time": "2021-08-15T15:32:26.152532",
     "exception": false,
     "start_time": "2021-08-15T15:32:26.098779",
     "status": "completed"
    },
    "tags": []
   },
   "outputs": [],
   "source": [
    "import matplotlib as mpl\n",
    "from matplotlib import pyplot as plt\n",
    "%matplotlib inline\n"
   ]
  },
  {
   "cell_type": "code",
   "execution_count": 33,
   "id": "0b3a5f85",
   "metadata": {
    "execution": {
     "iopub.execute_input": "2021-08-15T15:32:26.243356Z",
     "iopub.status.busy": "2021-08-15T15:32:26.242745Z",
     "iopub.status.idle": "2021-08-15T15:32:26.518514Z",
     "shell.execute_reply": "2021-08-15T15:32:26.519095Z",
     "shell.execute_reply.started": "2021-08-15T15:31:50.646811Z"
    },
    "papermill": {
     "duration": 0.32271,
     "end_time": "2021-08-15T15:32:26.519275",
     "exception": false,
     "start_time": "2021-08-15T15:32:26.196565",
     "status": "completed"
    },
    "tags": []
   },
   "outputs": [
    {
     "data": {
      "text/plain": [
       "Text(0.5, 1.0, 'distribution of data')"
      ]
     },
     "execution_count": 33,
     "metadata": {},
     "output_type": "execute_result"
    },
    {
     "data": {
      "image/png": "[encoded data removed]",
      "text/plain": [
       "<Figure size 1440x720 with 1 Axes>"
      ]
     },
     "metadata": {
      "needs_background": "light"
     },
     "output_type": "display_data"
    }
   ],
   "source": [
    "mpl.rcParams['figure.figsize']=(20,10)\n",
    "plt.hist(df6.rent_per_sqft,rwidth=0.8)\n",
    "plt.xlabel('price per sqft')\n",
    "plt.ylabel('count')\n",
    "plt.title('distribution of data')"
   ]
  },
  {
   "cell_type": "code",
   "execution_count": 34,
   "id": "a96159e3",
   "metadata": {
    "execution": {
     "iopub.execute_input": "2021-08-15T15:32:26.613122Z",
     "iopub.status.busy": "2021-08-15T15:32:26.612528Z",
     "iopub.status.idle": "2021-08-15T15:32:26.619974Z",
     "shell.execute_reply": "2021-08-15T15:32:26.619478Z",
     "shell.execute_reply.started": "2021-08-15T15:31:50.881109Z"
    },
    "papermill": {
     "duration": 0.0554,
     "end_time": "2021-08-15T15:32:26.620144",
     "exception": false,
     "start_time": "2021-08-15T15:32:26.564744",
     "status": "completed"
    },
    "tags": []
   },
   "outputs": [
    {
     "data": {
      "text/plain": [
       "array([2, 3, 1, 4, 5, 7, 6, 8], dtype=int64)"
      ]
     },
     "execution_count": 34,
     "metadata": {},
     "output_type": "execute_result"
    }
   ],
   "source": [
    "df6.bathroom.unique()"
   ]
  },
  {
   "cell_type": "code",
   "execution_count": 36,
   "id": "692180b6",
   "metadata": {
    "execution": {
     "iopub.execute_input": "2021-08-15T15:32:26.718002Z",
     "iopub.status.busy": "2021-08-15T15:32:26.717274Z",
     "iopub.status.idle": "2021-08-15T15:32:26.744894Z",
     "shell.execute_reply": "2021-08-15T15:32:26.744260Z",
     "shell.execute_reply.started": "2021-08-15T15:31:50.889361Z"
    },
    "papermill": {
     "duration": 0.078843,
     "end_time": "2021-08-15T15:32:26.745028",
     "exception": false,
     "start_time": "2021-08-15T15:32:26.666185",
     "status": "completed"
    },
    "tags": []
   },
   "outputs": [
    {
     "data": {
      "text/html": [
       "<div>\n",
       "<style scoped>\n",
       "    .dataframe tbody tr th:only-of-type {\n",
       "        vertical-align: middle;\n",
       "    }\n",
       "\n",
       "    .dataframe tbody tr th {\n",
       "        vertical-align: top;\n",
       "    }\n",
       "\n",
       "    .dataframe thead th {\n",
       "        text-align: right;\n",
       "    }\n",
       "</style>\n",
       "<table border=\"1\" class=\"dataframe\">\n",
       "  <thead>\n",
       "    <tr style=\"text-align: right;\">\n",
       "      <th></th>\n",
       "      <th>bathroom</th>\n",
       "      <th>floor</th>\n",
       "      <th>localityId</th>\n",
       "      <th>parking</th>\n",
       "      <th>property_size</th>\n",
       "      <th>rent_amount</th>\n",
       "      <th>type_bhk</th>\n",
       "      <th>maintenance</th>\n",
       "      <th>rent_per_sqft</th>\n",
       "    </tr>\n",
       "  </thead>\n",
       "  <tbody>\n",
       "    <tr>\n",
       "      <th>1101</th>\n",
       "      <td>7</td>\n",
       "      <td>0</td>\n",
       "      <td>borabanda</td>\n",
       "      <td>1</td>\n",
       "      <td>3250</td>\n",
       "      <td>40000</td>\n",
       "      <td>5.0</td>\n",
       "      <td>0</td>\n",
       "      <td>12.307692</td>\n",
       "    </tr>\n",
       "    <tr>\n",
       "      <th>1212</th>\n",
       "      <td>7</td>\n",
       "      <td>0</td>\n",
       "      <td>east_marredpally</td>\n",
       "      <td>3</td>\n",
       "      <td>6000</td>\n",
       "      <td>65000</td>\n",
       "      <td>5.0</td>\n",
       "      <td>2500</td>\n",
       "      <td>10.833333</td>\n",
       "    </tr>\n",
       "    <tr>\n",
       "      <th>1252</th>\n",
       "      <td>2</td>\n",
       "      <td>3</td>\n",
       "      <td>erragadda</td>\n",
       "      <td>1</td>\n",
       "      <td>500</td>\n",
       "      <td>8000</td>\n",
       "      <td>0.5</td>\n",
       "      <td>0</td>\n",
       "      <td>16.000000</td>\n",
       "    </tr>\n",
       "    <tr>\n",
       "      <th>1602</th>\n",
       "      <td>8</td>\n",
       "      <td>0</td>\n",
       "      <td>gachibowli</td>\n",
       "      <td>3</td>\n",
       "      <td>4500</td>\n",
       "      <td>100000</td>\n",
       "      <td>5.0</td>\n",
       "      <td>0</td>\n",
       "      <td>22.222222</td>\n",
       "    </tr>\n",
       "    <tr>\n",
       "      <th>1736</th>\n",
       "      <td>6</td>\n",
       "      <td>0</td>\n",
       "      <td>gopanapalli</td>\n",
       "      <td>3</td>\n",
       "      <td>2250</td>\n",
       "      <td>32000</td>\n",
       "      <td>4.0</td>\n",
       "      <td>0</td>\n",
       "      <td>14.222222</td>\n",
       "    </tr>\n",
       "    <tr>\n",
       "      <th>2495</th>\n",
       "      <td>8</td>\n",
       "      <td>0</td>\n",
       "      <td>himayath_nagar</td>\n",
       "      <td>3</td>\n",
       "      <td>3000</td>\n",
       "      <td>60000</td>\n",
       "      <td>5.0</td>\n",
       "      <td>0</td>\n",
       "      <td>20.000000</td>\n",
       "    </tr>\n",
       "    <tr>\n",
       "      <th>2510</th>\n",
       "      <td>2</td>\n",
       "      <td>1</td>\n",
       "      <td>himayath_nagar</td>\n",
       "      <td>1</td>\n",
       "      <td>400</td>\n",
       "      <td>10000</td>\n",
       "      <td>0.5</td>\n",
       "      <td>0</td>\n",
       "      <td>25.000000</td>\n",
       "    </tr>\n",
       "    <tr>\n",
       "      <th>3300</th>\n",
       "      <td>6</td>\n",
       "      <td>0</td>\n",
       "      <td>jubilee_hills</td>\n",
       "      <td>3</td>\n",
       "      <td>3400</td>\n",
       "      <td>65000</td>\n",
       "      <td>4.0</td>\n",
       "      <td>5000</td>\n",
       "      <td>19.117647</td>\n",
       "    </tr>\n",
       "    <tr>\n",
       "      <th>3484</th>\n",
       "      <td>5</td>\n",
       "      <td>0</td>\n",
       "      <td>karkhana</td>\n",
       "      <td>3</td>\n",
       "      <td>3600</td>\n",
       "      <td>36000</td>\n",
       "      <td>3.0</td>\n",
       "      <td>0</td>\n",
       "      <td>10.000000</td>\n",
       "    </tr>\n",
       "    <tr>\n",
       "      <th>3601</th>\n",
       "      <td>2</td>\n",
       "      <td>0</td>\n",
       "      <td>kismatpur</td>\n",
       "      <td>1</td>\n",
       "      <td>300</td>\n",
       "      <td>3500</td>\n",
       "      <td>0.5</td>\n",
       "      <td>500</td>\n",
       "      <td>11.666667</td>\n",
       "    </tr>\n",
       "    <tr>\n",
       "      <th>4893</th>\n",
       "      <td>2</td>\n",
       "      <td>4</td>\n",
       "      <td>kothaguda</td>\n",
       "      <td>1</td>\n",
       "      <td>450</td>\n",
       "      <td>9000</td>\n",
       "      <td>0.5</td>\n",
       "      <td>500</td>\n",
       "      <td>20.000000</td>\n",
       "    </tr>\n",
       "    <tr>\n",
       "      <th>6669</th>\n",
       "      <td>6</td>\n",
       "      <td>4</td>\n",
       "      <td>manikonda</td>\n",
       "      <td>3</td>\n",
       "      <td>1140</td>\n",
       "      <td>17500</td>\n",
       "      <td>2.0</td>\n",
       "      <td>1500</td>\n",
       "      <td>15.350877</td>\n",
       "    </tr>\n",
       "    <tr>\n",
       "      <th>6889</th>\n",
       "      <td>2</td>\n",
       "      <td>3</td>\n",
       "      <td>mehdipatnam</td>\n",
       "      <td>1</td>\n",
       "      <td>375</td>\n",
       "      <td>7000</td>\n",
       "      <td>0.5</td>\n",
       "      <td>500</td>\n",
       "      <td>18.666667</td>\n",
       "    </tr>\n",
       "    <tr>\n",
       "      <th>7896</th>\n",
       "      <td>2</td>\n",
       "      <td>1</td>\n",
       "      <td>nallakunta</td>\n",
       "      <td>1</td>\n",
       "      <td>300</td>\n",
       "      <td>3500</td>\n",
       "      <td>0.5</td>\n",
       "      <td>0</td>\n",
       "      <td>11.666667</td>\n",
       "    </tr>\n",
       "    <tr>\n",
       "      <th>7977</th>\n",
       "      <td>5</td>\n",
       "      <td>5</td>\n",
       "      <td>nanakram_guda</td>\n",
       "      <td>3</td>\n",
       "      <td>2140</td>\n",
       "      <td>50000</td>\n",
       "      <td>3.0</td>\n",
       "      <td>7000</td>\n",
       "      <td>23.364486</td>\n",
       "    </tr>\n",
       "    <tr>\n",
       "      <th>8030</th>\n",
       "      <td>5</td>\n",
       "      <td>3</td>\n",
       "      <td>nanakram_guda</td>\n",
       "      <td>3</td>\n",
       "      <td>2800</td>\n",
       "      <td>58000</td>\n",
       "      <td>3.0</td>\n",
       "      <td>7000</td>\n",
       "      <td>20.714286</td>\n",
       "    </tr>\n",
       "    <tr>\n",
       "      <th>8943</th>\n",
       "      <td>7</td>\n",
       "      <td>0</td>\n",
       "      <td>other</td>\n",
       "      <td>1</td>\n",
       "      <td>3600</td>\n",
       "      <td>36000</td>\n",
       "      <td>5.0</td>\n",
       "      <td>2000</td>\n",
       "      <td>10.000000</td>\n",
       "    </tr>\n",
       "    <tr>\n",
       "      <th>9246</th>\n",
       "      <td>5</td>\n",
       "      <td>0</td>\n",
       "      <td>other</td>\n",
       "      <td>3</td>\n",
       "      <td>2750</td>\n",
       "      <td>35000</td>\n",
       "      <td>3.0</td>\n",
       "      <td>6000</td>\n",
       "      <td>12.727273</td>\n",
       "    </tr>\n",
       "    <tr>\n",
       "      <th>9254</th>\n",
       "      <td>3</td>\n",
       "      <td>2</td>\n",
       "      <td>other</td>\n",
       "      <td>0</td>\n",
       "      <td>400</td>\n",
       "      <td>7000</td>\n",
       "      <td>1.0</td>\n",
       "      <td>100</td>\n",
       "      <td>17.500000</td>\n",
       "    </tr>\n",
       "    <tr>\n",
       "      <th>9276</th>\n",
       "      <td>2</td>\n",
       "      <td>0</td>\n",
       "      <td>other</td>\n",
       "      <td>1</td>\n",
       "      <td>400</td>\n",
       "      <td>3500</td>\n",
       "      <td>0.5</td>\n",
       "      <td>0</td>\n",
       "      <td>8.750000</td>\n",
       "    </tr>\n",
       "    <tr>\n",
       "      <th>9795</th>\n",
       "      <td>8</td>\n",
       "      <td>0</td>\n",
       "      <td>other</td>\n",
       "      <td>3</td>\n",
       "      <td>3800</td>\n",
       "      <td>40000</td>\n",
       "      <td>5.0</td>\n",
       "      <td>0</td>\n",
       "      <td>10.526316</td>\n",
       "    </tr>\n",
       "    <tr>\n",
       "      <th>10206</th>\n",
       "      <td>5</td>\n",
       "      <td>4</td>\n",
       "      <td>other</td>\n",
       "      <td>3</td>\n",
       "      <td>2680</td>\n",
       "      <td>45000</td>\n",
       "      <td>3.0</td>\n",
       "      <td>7000</td>\n",
       "      <td>16.791045</td>\n",
       "    </tr>\n",
       "    <tr>\n",
       "      <th>10610</th>\n",
       "      <td>7</td>\n",
       "      <td>0</td>\n",
       "      <td>other</td>\n",
       "      <td>3</td>\n",
       "      <td>6200</td>\n",
       "      <td>55000</td>\n",
       "      <td>4.0</td>\n",
       "      <td>4000</td>\n",
       "      <td>8.870968</td>\n",
       "    </tr>\n",
       "    <tr>\n",
       "      <th>10696</th>\n",
       "      <td>2</td>\n",
       "      <td>1</td>\n",
       "      <td>other</td>\n",
       "      <td>3</td>\n",
       "      <td>1150</td>\n",
       "      <td>22000</td>\n",
       "      <td>0.5</td>\n",
       "      <td>0</td>\n",
       "      <td>19.130435</td>\n",
       "    </tr>\n",
       "    <tr>\n",
       "      <th>10752</th>\n",
       "      <td>5</td>\n",
       "      <td>10</td>\n",
       "      <td>other</td>\n",
       "      <td>2</td>\n",
       "      <td>3265</td>\n",
       "      <td>60000</td>\n",
       "      <td>3.0</td>\n",
       "      <td>8000</td>\n",
       "      <td>18.376723</td>\n",
       "    </tr>\n",
       "    <tr>\n",
       "      <th>11440</th>\n",
       "      <td>5</td>\n",
       "      <td>8</td>\n",
       "      <td>other</td>\n",
       "      <td>3</td>\n",
       "      <td>2800</td>\n",
       "      <td>40000</td>\n",
       "      <td>3.0</td>\n",
       "      <td>7000</td>\n",
       "      <td>14.285714</td>\n",
       "    </tr>\n",
       "    <tr>\n",
       "      <th>12426</th>\n",
       "      <td>2</td>\n",
       "      <td>0</td>\n",
       "      <td>quthbullapur</td>\n",
       "      <td>1</td>\n",
       "      <td>300</td>\n",
       "      <td>3000</td>\n",
       "      <td>0.5</td>\n",
       "      <td>0</td>\n",
       "      <td>10.000000</td>\n",
       "    </tr>\n",
       "    <tr>\n",
       "      <th>13226</th>\n",
       "      <td>6</td>\n",
       "      <td>0</td>\n",
       "      <td>sainikpuri</td>\n",
       "      <td>3</td>\n",
       "      <td>4000</td>\n",
       "      <td>50000</td>\n",
       "      <td>4.0</td>\n",
       "      <td>0</td>\n",
       "      <td>12.500000</td>\n",
       "    </tr>\n",
       "    <tr>\n",
       "      <th>13435</th>\n",
       "      <td>2</td>\n",
       "      <td>0</td>\n",
       "      <td>saroornagar</td>\n",
       "      <td>3</td>\n",
       "      <td>550</td>\n",
       "      <td>5000</td>\n",
       "      <td>0.5</td>\n",
       "      <td>0</td>\n",
       "      <td>9.090909</td>\n",
       "    </tr>\n",
       "    <tr>\n",
       "      <th>14472</th>\n",
       "      <td>4</td>\n",
       "      <td>0</td>\n",
       "      <td>upparpally</td>\n",
       "      <td>3</td>\n",
       "      <td>2500</td>\n",
       "      <td>25000</td>\n",
       "      <td>2.0</td>\n",
       "      <td>1000</td>\n",
       "      <td>10.000000</td>\n",
       "    </tr>\n",
       "  </tbody>\n",
       "</table>\n",
       "</div>"
      ],
      "text/plain": [
       "       bathroom  floor        localityId  parking  property_size  rent_amount  \\\n",
       "1101          7      0         borabanda        1           3250        40000   \n",
       "1212          7      0  east_marredpally        3           6000        65000   \n",
       "1252          2      3         erragadda        1            500         8000   \n",
       "1602          8      0        gachibowli        3           4500       100000   \n",
       "1736          6      0       gopanapalli        3           2250        32000   \n",
       "2495          8      0    himayath_nagar        3           3000        60000   \n",
       "2510          2      1    himayath_nagar        1            400        10000   \n",
       "3300          6      0     jubilee_hills        3           3400        65000   \n",
       "3484          5      0          karkhana        3           3600        36000   \n",
       "3601          2      0         kismatpur        1            300         3500   \n",
       "4893          2      4         kothaguda        1            450         9000   \n",
       "6669          6      4         manikonda        3           1140        17500   \n",
       "6889          2      3       mehdipatnam        1            375         7000   \n",
       "7896          2      1        nallakunta        1            300         3500   \n",
       "7977          5      5     nanakram_guda        3           2140        50000   \n",
       "8030          5      3     nanakram_guda        3           2800        58000   \n",
       "8943          7      0             other        1           3600        36000   \n",
       "9246          5      0             other        3           2750        35000   \n",
       "9254          3      2             other        0            400         7000   \n",
       "9276          2      0             other        1            400         3500   \n",
       "9795          8      0             other        3           3800        40000   \n",
       "10206         5      4             other        3           2680        45000   \n",
       "10610         7      0             other        3           6200        55000   \n",
       "10696         2      1             other        3           1150        22000   \n",
       "10752         5     10             other        2           3265        60000   \n",
       "11440         5      8             other        3           2800        40000   \n",
       "12426         2      0      quthbullapur        1            300         3000   \n",
       "13226         6      0        sainikpuri        3           4000        50000   \n",
       "13435         2      0       saroornagar        3            550         5000   \n",
       "14472         4      0        upparpally        3           2500        25000   \n",
       "\n",
       "       type_bhk  maintenance  rent_per_sqft  \n",
       "1101        5.0            0      12.307692  \n",
       "1212        5.0         2500      10.833333  \n",
       "1252        0.5            0      16.000000  \n",
       "1602        5.0            0      22.222222  \n",
       "1736        4.0            0      14.222222  \n",
       "2495        5.0            0      20.000000  \n",
       "2510        0.5            0      25.000000  \n",
       "3300        4.0         5000      19.117647  \n",
       "3484        3.0            0      10.000000  \n",
       "3601        0.5          500      11.666667  \n",
       "4893        0.5          500      20.000000  \n",
       "6669        2.0         1500      15.350877  \n",
       "6889        0.5          500      18.666667  \n",
       "7896        0.5            0      11.666667  \n",
       "7977        3.0         7000      23.364486  \n",
       "8030        3.0         7000      20.714286  \n",
       "8943        5.0         2000      10.000000  \n",
       "9246        3.0         6000      12.727273  \n",
       "9254        1.0          100      17.500000  \n",
       "9276        0.5            0       8.750000  \n",
       "9795        5.0            0      10.526316  \n",
       "10206       3.0         7000      16.791045  \n",
       "10610       4.0         4000       8.870968  \n",
       "10696       0.5            0      19.130435  \n",
       "10752       3.0         8000      18.376723  \n",
       "11440       3.0         7000      14.285714  \n",
       "12426       0.5            0      10.000000  \n",
       "13226       4.0            0      12.500000  \n",
       "13435       0.5            0       9.090909  \n",
       "14472       2.0         1000      10.000000  "
      ]
     },
     "execution_count": 36,
     "metadata": {},
     "output_type": "execute_result"
    }
   ],
   "source": [
    "df6[df6.bathroom>df6.type_bhk+1]"
   ]
  },
  {
   "cell_type": "code",
   "execution_count": 38,
   "id": "9e4c4c4a",
   "metadata": {
    "execution": {
     "iopub.execute_input": "2021-08-15T15:32:26.843687Z",
     "iopub.status.busy": "2021-08-15T15:32:26.842591Z",
     "iopub.status.idle": "2021-08-15T15:32:26.848838Z",
     "shell.execute_reply": "2021-08-15T15:32:26.848227Z",
     "shell.execute_reply.started": "2021-08-15T15:31:50.931500Z"
    },
    "papermill": {
     "duration": 0.057424,
     "end_time": "2021-08-15T15:32:26.848983",
     "exception": false,
     "start_time": "2021-08-15T15:32:26.791559",
     "status": "completed"
    },
    "tags": []
   },
   "outputs": [],
   "source": [
    "df7=df6[df6.bathroom<=df6.type_bhk+1]"
   ]
  },
  {
   "cell_type": "code",
   "execution_count": 39,
   "id": "0afa1fac",
   "metadata": {
    "execution": {
     "iopub.execute_input": "2021-08-15T15:32:26.947659Z",
     "iopub.status.busy": "2021-08-15T15:32:26.946958Z",
     "iopub.status.idle": "2021-08-15T15:32:26.950851Z",
     "shell.execute_reply": "2021-08-15T15:32:26.951303Z",
     "shell.execute_reply.started": "2021-08-15T15:31:50.942449Z"
    },
    "papermill": {
     "duration": 0.055652,
     "end_time": "2021-08-15T15:32:26.951496",
     "exception": false,
     "start_time": "2021-08-15T15:32:26.895844",
     "status": "completed"
    },
    "tags": []
   },
   "outputs": [
    {
     "data": {
      "text/plain": [
       "(14789, 9)"
      ]
     },
     "execution_count": 39,
     "metadata": {},
     "output_type": "execute_result"
    }
   ],
   "source": [
    "df7.shape"
   ]
  },
  {
   "cell_type": "code",
   "execution_count": 40,
   "id": "590fe3c4",
   "metadata": {
    "execution": {
     "iopub.execute_input": "2021-08-15T15:32:27.062431Z",
     "iopub.status.busy": "2021-08-15T15:32:27.061367Z",
     "iopub.status.idle": "2021-08-15T15:32:27.065565Z",
     "shell.execute_reply": "2021-08-15T15:32:27.066063Z",
     "shell.execute_reply.started": "2021-08-15T15:31:50.952874Z"
    },
    "papermill": {
     "duration": 0.067418,
     "end_time": "2021-08-15T15:32:27.066251",
     "exception": false,
     "start_time": "2021-08-15T15:32:26.998833",
     "status": "completed"
    },
    "tags": []
   },
   "outputs": [
    {
     "data": {
      "text/html": [
       "<div>\n",
       "<style scoped>\n",
       "    .dataframe tbody tr th:only-of-type {\n",
       "        vertical-align: middle;\n",
       "    }\n",
       "\n",
       "    .dataframe tbody tr th {\n",
       "        vertical-align: top;\n",
       "    }\n",
       "\n",
       "    .dataframe thead th {\n",
       "        text-align: right;\n",
       "    }\n",
       "</style>\n",
       "<table border=\"1\" class=\"dataframe\">\n",
       "  <thead>\n",
       "    <tr style=\"text-align: right;\">\n",
       "      <th></th>\n",
       "      <th>bathroom</th>\n",
       "      <th>floor</th>\n",
       "      <th>localityId</th>\n",
       "      <th>parking</th>\n",
       "      <th>property_size</th>\n",
       "      <th>rent_amount</th>\n",
       "      <th>type_bhk</th>\n",
       "      <th>maintenance</th>\n",
       "    </tr>\n",
       "  </thead>\n",
       "  <tbody>\n",
       "    <tr>\n",
       "      <th>0</th>\n",
       "      <td>2</td>\n",
       "      <td>2</td>\n",
       "      <td>adikmet</td>\n",
       "      <td>1</td>\n",
       "      <td>900</td>\n",
       "      <td>10000</td>\n",
       "      <td>2.0</td>\n",
       "      <td>0</td>\n",
       "    </tr>\n",
       "    <tr>\n",
       "      <th>1</th>\n",
       "      <td>3</td>\n",
       "      <td>0</td>\n",
       "      <td>adikmet</td>\n",
       "      <td>3</td>\n",
       "      <td>1780</td>\n",
       "      <td>30000</td>\n",
       "      <td>3.0</td>\n",
       "      <td>3560</td>\n",
       "    </tr>\n",
       "    <tr>\n",
       "      <th>2</th>\n",
       "      <td>2</td>\n",
       "      <td>2</td>\n",
       "      <td>adikmet</td>\n",
       "      <td>1</td>\n",
       "      <td>680</td>\n",
       "      <td>10000</td>\n",
       "      <td>2.0</td>\n",
       "      <td>0</td>\n",
       "    </tr>\n",
       "    <tr>\n",
       "      <th>3</th>\n",
       "      <td>2</td>\n",
       "      <td>3</td>\n",
       "      <td>adikmet</td>\n",
       "      <td>1</td>\n",
       "      <td>1050</td>\n",
       "      <td>12000</td>\n",
       "      <td>2.0</td>\n",
       "      <td>1200</td>\n",
       "    </tr>\n",
       "    <tr>\n",
       "      <th>4</th>\n",
       "      <td>1</td>\n",
       "      <td>2</td>\n",
       "      <td>adikmet</td>\n",
       "      <td>1</td>\n",
       "      <td>600</td>\n",
       "      <td>9500</td>\n",
       "      <td>2.0</td>\n",
       "      <td>0</td>\n",
       "    </tr>\n",
       "  </tbody>\n",
       "</table>\n",
       "</div>"
      ],
      "text/plain": [
       "   bathroom  floor localityId  parking  property_size  rent_amount  type_bhk  \\\n",
       "0         2      2    adikmet        1            900        10000       2.0   \n",
       "1         3      0    adikmet        3           1780        30000       3.0   \n",
       "2         2      2    adikmet        1            680        10000       2.0   \n",
       "3         2      3    adikmet        1           1050        12000       2.0   \n",
       "4         1      2    adikmet        1            600         9500       2.0   \n",
       "\n",
       "   maintenance  \n",
       "0            0  \n",
       "1         3560  \n",
       "2            0  \n",
       "3         1200  \n",
       "4            0  "
      ]
     },
     "execution_count": 40,
     "metadata": {},
     "output_type": "execute_result"
    }
   ],
   "source": [
    "df8=df7.drop('rent_per_sqft',axis=1)\n",
    "df8.head()"
   ]
  },
  {
   "cell_type": "markdown",
   "id": "2bcd7456",
   "metadata": {
    "papermill": {
     "duration": 0.048012,
     "end_time": "2021-08-15T15:32:27.166941",
     "exception": false,
     "start_time": "2021-08-15T15:32:27.118929",
     "status": "completed"
    },
    "tags": []
   },
   "source": [
    "## one hot encoding"
   ]
  },
  {
   "cell_type": "code",
   "execution_count": 41,
   "id": "264aee90",
   "metadata": {
    "execution": {
     "iopub.execute_input": "2021-08-15T15:32:27.271664Z",
     "iopub.status.busy": "2021-08-15T15:32:27.270511Z",
     "iopub.status.idle": "2021-08-15T15:32:27.291944Z",
     "shell.execute_reply": "2021-08-15T15:32:27.291296Z",
     "shell.execute_reply.started": "2021-08-15T15:31:50.975278Z"
    },
    "papermill": {
     "duration": 0.075422,
     "end_time": "2021-08-15T15:32:27.292085",
     "exception": false,
     "start_time": "2021-08-15T15:32:27.216663",
     "status": "completed"
    },
    "scrolled": true,
    "tags": []
   },
   "outputs": [
    {
     "data": {
      "text/html": [
       "<div>\n",
       "<style scoped>\n",
       "    .dataframe tbody tr th:only-of-type {\n",
       "        vertical-align: middle;\n",
       "    }\n",
       "\n",
       "    .dataframe tbody tr th {\n",
       "        vertical-align: top;\n",
       "    }\n",
       "\n",
       "    .dataframe thead th {\n",
       "        text-align: right;\n",
       "    }\n",
       "</style>\n",
       "<table border=\"1\" class=\"dataframe\">\n",
       "  <thead>\n",
       "    <tr style=\"text-align: right;\">\n",
       "      <th></th>\n",
       "      <th>adikmet</th>\n",
       "      <th>almasguda</th>\n",
       "      <th>amberpet</th>\n",
       "      <th>ameerpet</th>\n",
       "      <th>attapur</th>\n",
       "      <th>badangpet</th>\n",
       "      <th>badesahebguda</th>\n",
       "      <th>balakampet</th>\n",
       "      <th>balanagar</th>\n",
       "      <th>balapur</th>\n",
       "      <th>...</th>\n",
       "      <th>turkayamjal</th>\n",
       "      <th>uppal</th>\n",
       "      <th>upparpally</th>\n",
       "      <th>venkat_nagar_colony</th>\n",
       "      <th>west_marredpally</th>\n",
       "      <th>whisper_valley</th>\n",
       "      <th>yapral</th>\n",
       "      <th>yella_reddy_guda</th>\n",
       "      <th>yousufguda</th>\n",
       "      <th>zamistanpur</th>\n",
       "    </tr>\n",
       "  </thead>\n",
       "  <tbody>\n",
       "    <tr>\n",
       "      <th>0</th>\n",
       "      <td>1</td>\n",
       "      <td>0</td>\n",
       "      <td>0</td>\n",
       "      <td>0</td>\n",
       "      <td>0</td>\n",
       "      <td>0</td>\n",
       "      <td>0</td>\n",
       "      <td>0</td>\n",
       "      <td>0</td>\n",
       "      <td>0</td>\n",
       "      <td>...</td>\n",
       "      <td>0</td>\n",
       "      <td>0</td>\n",
       "      <td>0</td>\n",
       "      <td>0</td>\n",
       "      <td>0</td>\n",
       "      <td>0</td>\n",
       "      <td>0</td>\n",
       "      <td>0</td>\n",
       "      <td>0</td>\n",
       "      <td>0</td>\n",
       "    </tr>\n",
       "    <tr>\n",
       "      <th>1</th>\n",
       "      <td>1</td>\n",
       "      <td>0</td>\n",
       "      <td>0</td>\n",
       "      <td>0</td>\n",
       "      <td>0</td>\n",
       "      <td>0</td>\n",
       "      <td>0</td>\n",
       "      <td>0</td>\n",
       "      <td>0</td>\n",
       "      <td>0</td>\n",
       "      <td>...</td>\n",
       "      <td>0</td>\n",
       "      <td>0</td>\n",
       "      <td>0</td>\n",
       "      <td>0</td>\n",
       "      <td>0</td>\n",
       "      <td>0</td>\n",
       "      <td>0</td>\n",
       "      <td>0</td>\n",
       "      <td>0</td>\n",
       "      <td>0</td>\n",
       "    </tr>\n",
       "    <tr>\n",
       "      <th>2</th>\n",
       "      <td>1</td>\n",
       "      <td>0</td>\n",
       "      <td>0</td>\n",
       "      <td>0</td>\n",
       "      <td>0</td>\n",
       "      <td>0</td>\n",
       "      <td>0</td>\n",
       "      <td>0</td>\n",
       "      <td>0</td>\n",
       "      <td>0</td>\n",
       "      <td>...</td>\n",
       "      <td>0</td>\n",
       "      <td>0</td>\n",
       "      <td>0</td>\n",
       "      <td>0</td>\n",
       "      <td>0</td>\n",
       "      <td>0</td>\n",
       "      <td>0</td>\n",
       "      <td>0</td>\n",
       "      <td>0</td>\n",
       "      <td>0</td>\n",
       "    </tr>\n",
       "    <tr>\n",
       "      <th>3</th>\n",
       "      <td>1</td>\n",
       "      <td>0</td>\n",
       "      <td>0</td>\n",
       "      <td>0</td>\n",
       "      <td>0</td>\n",
       "      <td>0</td>\n",
       "      <td>0</td>\n",
       "      <td>0</td>\n",
       "      <td>0</td>\n",
       "      <td>0</td>\n",
       "      <td>...</td>\n",
       "      <td>0</td>\n",
       "      <td>0</td>\n",
       "      <td>0</td>\n",
       "      <td>0</td>\n",
       "      <td>0</td>\n",
       "      <td>0</td>\n",
       "      <td>0</td>\n",
       "      <td>0</td>\n",
       "      <td>0</td>\n",
       "      <td>0</td>\n",
       "    </tr>\n",
       "    <tr>\n",
       "      <th>4</th>\n",
       "      <td>1</td>\n",
       "      <td>0</td>\n",
       "      <td>0</td>\n",
       "      <td>0</td>\n",
       "      <td>0</td>\n",
       "      <td>0</td>\n",
       "      <td>0</td>\n",
       "      <td>0</td>\n",
       "      <td>0</td>\n",
       "      <td>0</td>\n",
       "      <td>...</td>\n",
       "      <td>0</td>\n",
       "      <td>0</td>\n",
       "      <td>0</td>\n",
       "      <td>0</td>\n",
       "      <td>0</td>\n",
       "      <td>0</td>\n",
       "      <td>0</td>\n",
       "      <td>0</td>\n",
       "      <td>0</td>\n",
       "      <td>0</td>\n",
       "    </tr>\n",
       "  </tbody>\n",
       "</table>\n",
       "<p>5 rows × 150 columns</p>\n",
       "</div>"
      ],
      "text/plain": [
       "   adikmet  almasguda  amberpet  ameerpet  attapur  badangpet  badesahebguda  \\\n",
       "0        1          0         0         0        0          0              0   \n",
       "1        1          0         0         0        0          0              0   \n",
       "2        1          0         0         0        0          0              0   \n",
       "3        1          0         0         0        0          0              0   \n",
       "4        1          0         0         0        0          0              0   \n",
       "\n",
       "   balakampet  balanagar  balapur  ...  turkayamjal  uppal  upparpally  \\\n",
       "0           0          0        0  ...            0      0           0   \n",
       "1           0          0        0  ...            0      0           0   \n",
       "2           0          0        0  ...            0      0           0   \n",
       "3           0          0        0  ...            0      0           0   \n",
       "4           0          0        0  ...            0      0           0   \n",
       "\n",
       "   venkat_nagar_colony  west_marredpally  whisper_valley  yapral  \\\n",
       "0                    0                 0               0       0   \n",
       "1                    0                 0               0       0   \n",
       "2                    0                 0               0       0   \n",
       "3                    0                 0               0       0   \n",
       "4                    0                 0               0       0   \n",
       "\n",
       "   yella_reddy_guda  yousufguda  zamistanpur  \n",
       "0                 0           0            0  \n",
       "1                 0           0            0  \n",
       "2                 0           0            0  \n",
       "3                 0           0            0  \n",
       "4                 0           0            0  \n",
       "\n",
       "[5 rows x 150 columns]"
      ]
     },
     "execution_count": 41,
     "metadata": {},
     "output_type": "execute_result"
    }
   ],
   "source": [
    "dummies=pd.get_dummies(df8.localityId)\n",
    "dummies.head()"
   ]
  },
  {
   "cell_type": "code",
   "execution_count": 42,
   "id": "1c65c317",
   "metadata": {
    "execution": {
     "iopub.execute_input": "2021-08-15T15:32:27.396176Z",
     "iopub.status.busy": "2021-08-15T15:32:27.395521Z",
     "iopub.status.idle": "2021-08-15T15:32:27.441966Z",
     "shell.execute_reply": "2021-08-15T15:32:27.441423Z",
     "shell.execute_reply.started": "2021-08-15T15:31:51.003291Z"
    },
    "papermill": {
     "duration": 0.101753,
     "end_time": "2021-08-15T15:32:27.442115",
     "exception": false,
     "start_time": "2021-08-15T15:32:27.340362",
     "status": "completed"
    },
    "tags": []
   },
   "outputs": [
    {
     "data": {
      "text/html": [
       "<div>\n",
       "<style scoped>\n",
       "    .dataframe tbody tr th:only-of-type {\n",
       "        vertical-align: middle;\n",
       "    }\n",
       "\n",
       "    .dataframe tbody tr th {\n",
       "        vertical-align: top;\n",
       "    }\n",
       "\n",
       "    .dataframe thead th {\n",
       "        text-align: right;\n",
       "    }\n",
       "</style>\n",
       "<table border=\"1\" class=\"dataframe\">\n",
       "  <thead>\n",
       "    <tr style=\"text-align: right;\">\n",
       "      <th></th>\n",
       "      <th>bathroom</th>\n",
       "      <th>floor</th>\n",
       "      <th>parking</th>\n",
       "      <th>property_size</th>\n",
       "      <th>rent_amount</th>\n",
       "      <th>type_bhk</th>\n",
       "      <th>maintenance</th>\n",
       "      <th>adikmet</th>\n",
       "      <th>almasguda</th>\n",
       "      <th>amberpet</th>\n",
       "      <th>...</th>\n",
       "      <th>turkayamjal</th>\n",
       "      <th>uppal</th>\n",
       "      <th>upparpally</th>\n",
       "      <th>venkat_nagar_colony</th>\n",
       "      <th>west_marredpally</th>\n",
       "      <th>whisper_valley</th>\n",
       "      <th>yapral</th>\n",
       "      <th>yella_reddy_guda</th>\n",
       "      <th>yousufguda</th>\n",
       "      <th>zamistanpur</th>\n",
       "    </tr>\n",
       "  </thead>\n",
       "  <tbody>\n",
       "    <tr>\n",
       "      <th>0</th>\n",
       "      <td>2</td>\n",
       "      <td>2</td>\n",
       "      <td>1</td>\n",
       "      <td>900</td>\n",
       "      <td>10000</td>\n",
       "      <td>2.0</td>\n",
       "      <td>0</td>\n",
       "      <td>1</td>\n",
       "      <td>0</td>\n",
       "      <td>0</td>\n",
       "      <td>...</td>\n",
       "      <td>0</td>\n",
       "      <td>0</td>\n",
       "      <td>0</td>\n",
       "      <td>0</td>\n",
       "      <td>0</td>\n",
       "      <td>0</td>\n",
       "      <td>0</td>\n",
       "      <td>0</td>\n",
       "      <td>0</td>\n",
       "      <td>0</td>\n",
       "    </tr>\n",
       "    <tr>\n",
       "      <th>1</th>\n",
       "      <td>3</td>\n",
       "      <td>0</td>\n",
       "      <td>3</td>\n",
       "      <td>1780</td>\n",
       "      <td>30000</td>\n",
       "      <td>3.0</td>\n",
       "      <td>3560</td>\n",
       "      <td>1</td>\n",
       "      <td>0</td>\n",
       "      <td>0</td>\n",
       "      <td>...</td>\n",
       "      <td>0</td>\n",
       "      <td>0</td>\n",
       "      <td>0</td>\n",
       "      <td>0</td>\n",
       "      <td>0</td>\n",
       "      <td>0</td>\n",
       "      <td>0</td>\n",
       "      <td>0</td>\n",
       "      <td>0</td>\n",
       "      <td>0</td>\n",
       "    </tr>\n",
       "    <tr>\n",
       "      <th>2</th>\n",
       "      <td>2</td>\n",
       "      <td>2</td>\n",
       "      <td>1</td>\n",
       "      <td>680</td>\n",
       "      <td>10000</td>\n",
       "      <td>2.0</td>\n",
       "      <td>0</td>\n",
       "      <td>1</td>\n",
       "      <td>0</td>\n",
       "      <td>0</td>\n",
       "      <td>...</td>\n",
       "      <td>0</td>\n",
       "      <td>0</td>\n",
       "      <td>0</td>\n",
       "      <td>0</td>\n",
       "      <td>0</td>\n",
       "      <td>0</td>\n",
       "      <td>0</td>\n",
       "      <td>0</td>\n",
       "      <td>0</td>\n",
       "      <td>0</td>\n",
       "    </tr>\n",
       "    <tr>\n",
       "      <th>3</th>\n",
       "      <td>2</td>\n",
       "      <td>3</td>\n",
       "      <td>1</td>\n",
       "      <td>1050</td>\n",
       "      <td>12000</td>\n",
       "      <td>2.0</td>\n",
       "      <td>1200</td>\n",
       "      <td>1</td>\n",
       "      <td>0</td>\n",
       "      <td>0</td>\n",
       "      <td>...</td>\n",
       "      <td>0</td>\n",
       "      <td>0</td>\n",
       "      <td>0</td>\n",
       "      <td>0</td>\n",
       "      <td>0</td>\n",
       "      <td>0</td>\n",
       "      <td>0</td>\n",
       "      <td>0</td>\n",
       "      <td>0</td>\n",
       "      <td>0</td>\n",
       "    </tr>\n",
       "    <tr>\n",
       "      <th>4</th>\n",
       "      <td>1</td>\n",
       "      <td>2</td>\n",
       "      <td>1</td>\n",
       "      <td>600</td>\n",
       "      <td>9500</td>\n",
       "      <td>2.0</td>\n",
       "      <td>0</td>\n",
       "      <td>1</td>\n",
       "      <td>0</td>\n",
       "      <td>0</td>\n",
       "      <td>...</td>\n",
       "      <td>0</td>\n",
       "      <td>0</td>\n",
       "      <td>0</td>\n",
       "      <td>0</td>\n",
       "      <td>0</td>\n",
       "      <td>0</td>\n",
       "      <td>0</td>\n",
       "      <td>0</td>\n",
       "      <td>0</td>\n",
       "      <td>0</td>\n",
       "    </tr>\n",
       "  </tbody>\n",
       "</table>\n",
       "<p>5 rows × 156 columns</p>\n",
       "</div>"
      ],
      "text/plain": [
       "   bathroom  floor  parking  property_size  rent_amount  type_bhk  \\\n",
       "0         2      2        1            900        10000       2.0   \n",
       "1         3      0        3           1780        30000       3.0   \n",
       "2         2      2        1            680        10000       2.0   \n",
       "3         2      3        1           1050        12000       2.0   \n",
       "4         1      2        1            600         9500       2.0   \n",
       "\n",
       "   maintenance  adikmet  almasguda  amberpet  ...  turkayamjal  uppal  \\\n",
       "0            0        1          0         0  ...            0      0   \n",
       "1         3560        1          0         0  ...            0      0   \n",
       "2            0        1          0         0  ...            0      0   \n",
       "3         1200        1          0         0  ...            0      0   \n",
       "4            0        1          0         0  ...            0      0   \n",
       "\n",
       "   upparpally  venkat_nagar_colony  west_marredpally  whisper_valley  yapral  \\\n",
       "0           0                    0                 0               0       0   \n",
       "1           0                    0                 0               0       0   \n",
       "2           0                    0                 0               0       0   \n",
       "3           0                    0                 0               0       0   \n",
       "4           0                    0                 0               0       0   \n",
       "\n",
       "   yella_reddy_guda  yousufguda  zamistanpur  \n",
       "0                 0           0            0  \n",
       "1                 0           0            0  \n",
       "2                 0           0            0  \n",
       "3                 0           0            0  \n",
       "4                 0           0            0  \n",
       "\n",
       "[5 rows x 156 columns]"
      ]
     },
     "execution_count": 42,
     "metadata": {},
     "output_type": "execute_result"
    }
   ],
   "source": [
    "df9=pd.concat([df8.drop('localityId',axis='columns'),dummies.drop('other',axis='columns')],axis='columns')\n",
    "df9.head()"
   ]
  },
  {
   "cell_type": "code",
   "execution_count": 43,
   "id": "eff0050b",
   "metadata": {},
   "outputs": [
    {
     "data": {
      "text/plain": [
       "(14789, 156)"
      ]
     },
     "execution_count": 43,
     "metadata": {},
     "output_type": "execute_result"
    }
   ],
   "source": [
    "df9.shape"
   ]
  },
  {
   "cell_type": "code",
   "execution_count": 44,
   "id": "18f0b9c8",
   "metadata": {
    "execution": {
     "iopub.execute_input": "2021-08-15T15:32:27.546211Z",
     "iopub.status.busy": "2021-08-15T15:32:27.545556Z",
     "iopub.status.idle": "2021-08-15T15:32:27.555061Z",
     "shell.execute_reply": "2021-08-15T15:32:27.555615Z",
     "shell.execute_reply.started": "2021-08-15T15:31:51.049362Z"
    },
    "papermill": {
     "duration": 0.063949,
     "end_time": "2021-08-15T15:32:27.555794",
     "exception": false,
     "start_time": "2021-08-15T15:32:27.491845",
     "status": "completed"
    },
    "tags": []
   },
   "outputs": [
    {
     "data": {
      "text/html": [
       "<div>\n",
       "<style scoped>\n",
       "    .dataframe tbody tr th:only-of-type {\n",
       "        vertical-align: middle;\n",
       "    }\n",
       "\n",
       "    .dataframe tbody tr th {\n",
       "        vertical-align: top;\n",
       "    }\n",
       "\n",
       "    .dataframe thead th {\n",
       "        text-align: right;\n",
       "    }\n",
       "</style>\n",
       "<table border=\"1\" class=\"dataframe\">\n",
       "  <thead>\n",
       "    <tr style=\"text-align: right;\">\n",
       "      <th></th>\n",
       "      <th>bathroom</th>\n",
       "      <th>floor</th>\n",
       "      <th>parking</th>\n",
       "      <th>property_size</th>\n",
       "      <th>type_bhk</th>\n",
       "      <th>maintenance</th>\n",
       "      <th>adikmet</th>\n",
       "      <th>almasguda</th>\n",
       "      <th>amberpet</th>\n",
       "      <th>ameerpet</th>\n",
       "      <th>...</th>\n",
       "      <th>turkayamjal</th>\n",
       "      <th>uppal</th>\n",
       "      <th>upparpally</th>\n",
       "      <th>venkat_nagar_colony</th>\n",
       "      <th>west_marredpally</th>\n",
       "      <th>whisper_valley</th>\n",
       "      <th>yapral</th>\n",
       "      <th>yella_reddy_guda</th>\n",
       "      <th>yousufguda</th>\n",
       "      <th>zamistanpur</th>\n",
       "    </tr>\n",
       "  </thead>\n",
       "  <tbody>\n",
       "    <tr>\n",
       "      <th>0</th>\n",
       "      <td>2</td>\n",
       "      <td>2</td>\n",
       "      <td>1</td>\n",
       "      <td>900</td>\n",
       "      <td>2.0</td>\n",
       "      <td>0</td>\n",
       "      <td>1</td>\n",
       "      <td>0</td>\n",
       "      <td>0</td>\n",
       "      <td>0</td>\n",
       "      <td>...</td>\n",
       "      <td>0</td>\n",
       "      <td>0</td>\n",
       "      <td>0</td>\n",
       "      <td>0</td>\n",
       "      <td>0</td>\n",
       "      <td>0</td>\n",
       "      <td>0</td>\n",
       "      <td>0</td>\n",
       "      <td>0</td>\n",
       "      <td>0</td>\n",
       "    </tr>\n",
       "    <tr>\n",
       "      <th>1</th>\n",
       "      <td>3</td>\n",
       "      <td>0</td>\n",
       "      <td>3</td>\n",
       "      <td>1780</td>\n",
       "      <td>3.0</td>\n",
       "      <td>3560</td>\n",
       "      <td>1</td>\n",
       "      <td>0</td>\n",
       "      <td>0</td>\n",
       "      <td>0</td>\n",
       "      <td>...</td>\n",
       "      <td>0</td>\n",
       "      <td>0</td>\n",
       "      <td>0</td>\n",
       "      <td>0</td>\n",
       "      <td>0</td>\n",
       "      <td>0</td>\n",
       "      <td>0</td>\n",
       "      <td>0</td>\n",
       "      <td>0</td>\n",
       "      <td>0</td>\n",
       "    </tr>\n",
       "    <tr>\n",
       "      <th>2</th>\n",
       "      <td>2</td>\n",
       "      <td>2</td>\n",
       "      <td>1</td>\n",
       "      <td>680</td>\n",
       "      <td>2.0</td>\n",
       "      <td>0</td>\n",
       "      <td>1</td>\n",
       "      <td>0</td>\n",
       "      <td>0</td>\n",
       "      <td>0</td>\n",
       "      <td>...</td>\n",
       "      <td>0</td>\n",
       "      <td>0</td>\n",
       "      <td>0</td>\n",
       "      <td>0</td>\n",
       "      <td>0</td>\n",
       "      <td>0</td>\n",
       "      <td>0</td>\n",
       "      <td>0</td>\n",
       "      <td>0</td>\n",
       "      <td>0</td>\n",
       "    </tr>\n",
       "    <tr>\n",
       "      <th>3</th>\n",
       "      <td>2</td>\n",
       "      <td>3</td>\n",
       "      <td>1</td>\n",
       "      <td>1050</td>\n",
       "      <td>2.0</td>\n",
       "      <td>1200</td>\n",
       "      <td>1</td>\n",
       "      <td>0</td>\n",
       "      <td>0</td>\n",
       "      <td>0</td>\n",
       "      <td>...</td>\n",
       "      <td>0</td>\n",
       "      <td>0</td>\n",
       "      <td>0</td>\n",
       "      <td>0</td>\n",
       "      <td>0</td>\n",
       "      <td>0</td>\n",
       "      <td>0</td>\n",
       "      <td>0</td>\n",
       "      <td>0</td>\n",
       "      <td>0</td>\n",
       "    </tr>\n",
       "    <tr>\n",
       "      <th>4</th>\n",
       "      <td>1</td>\n",
       "      <td>2</td>\n",
       "      <td>1</td>\n",
       "      <td>600</td>\n",
       "      <td>2.0</td>\n",
       "      <td>0</td>\n",
       "      <td>1</td>\n",
       "      <td>0</td>\n",
       "      <td>0</td>\n",
       "      <td>0</td>\n",
       "      <td>...</td>\n",
       "      <td>0</td>\n",
       "      <td>0</td>\n",
       "      <td>0</td>\n",
       "      <td>0</td>\n",
       "      <td>0</td>\n",
       "      <td>0</td>\n",
       "      <td>0</td>\n",
       "      <td>0</td>\n",
       "      <td>0</td>\n",
       "      <td>0</td>\n",
       "    </tr>\n",
       "    <tr>\n",
       "      <th>...</th>\n",
       "      <td>...</td>\n",
       "      <td>...</td>\n",
       "      <td>...</td>\n",
       "      <td>...</td>\n",
       "      <td>...</td>\n",
       "      <td>...</td>\n",
       "      <td>...</td>\n",
       "      <td>...</td>\n",
       "      <td>...</td>\n",
       "      <td>...</td>\n",
       "      <td>...</td>\n",
       "      <td>...</td>\n",
       "      <td>...</td>\n",
       "      <td>...</td>\n",
       "      <td>...</td>\n",
       "      <td>...</td>\n",
       "      <td>...</td>\n",
       "      <td>...</td>\n",
       "      <td>...</td>\n",
       "      <td>...</td>\n",
       "      <td>...</td>\n",
       "    </tr>\n",
       "    <tr>\n",
       "      <th>14814</th>\n",
       "      <td>2</td>\n",
       "      <td>1</td>\n",
       "      <td>3</td>\n",
       "      <td>500</td>\n",
       "      <td>1.0</td>\n",
       "      <td>0</td>\n",
       "      <td>0</td>\n",
       "      <td>0</td>\n",
       "      <td>0</td>\n",
       "      <td>0</td>\n",
       "      <td>...</td>\n",
       "      <td>0</td>\n",
       "      <td>0</td>\n",
       "      <td>0</td>\n",
       "      <td>0</td>\n",
       "      <td>0</td>\n",
       "      <td>0</td>\n",
       "      <td>0</td>\n",
       "      <td>0</td>\n",
       "      <td>0</td>\n",
       "      <td>1</td>\n",
       "    </tr>\n",
       "    <tr>\n",
       "      <th>14815</th>\n",
       "      <td>2</td>\n",
       "      <td>4</td>\n",
       "      <td>3</td>\n",
       "      <td>1000</td>\n",
       "      <td>2.0</td>\n",
       "      <td>1000</td>\n",
       "      <td>0</td>\n",
       "      <td>0</td>\n",
       "      <td>0</td>\n",
       "      <td>0</td>\n",
       "      <td>...</td>\n",
       "      <td>0</td>\n",
       "      <td>0</td>\n",
       "      <td>0</td>\n",
       "      <td>0</td>\n",
       "      <td>0</td>\n",
       "      <td>0</td>\n",
       "      <td>0</td>\n",
       "      <td>0</td>\n",
       "      <td>0</td>\n",
       "      <td>1</td>\n",
       "    </tr>\n",
       "    <tr>\n",
       "      <th>14816</th>\n",
       "      <td>1</td>\n",
       "      <td>2</td>\n",
       "      <td>3</td>\n",
       "      <td>720</td>\n",
       "      <td>2.0</td>\n",
       "      <td>0</td>\n",
       "      <td>0</td>\n",
       "      <td>0</td>\n",
       "      <td>0</td>\n",
       "      <td>0</td>\n",
       "      <td>...</td>\n",
       "      <td>0</td>\n",
       "      <td>0</td>\n",
       "      <td>0</td>\n",
       "      <td>0</td>\n",
       "      <td>0</td>\n",
       "      <td>0</td>\n",
       "      <td>0</td>\n",
       "      <td>0</td>\n",
       "      <td>0</td>\n",
       "      <td>1</td>\n",
       "    </tr>\n",
       "    <tr>\n",
       "      <th>14817</th>\n",
       "      <td>1</td>\n",
       "      <td>2</td>\n",
       "      <td>3</td>\n",
       "      <td>500</td>\n",
       "      <td>1.0</td>\n",
       "      <td>0</td>\n",
       "      <td>0</td>\n",
       "      <td>0</td>\n",
       "      <td>0</td>\n",
       "      <td>0</td>\n",
       "      <td>...</td>\n",
       "      <td>0</td>\n",
       "      <td>0</td>\n",
       "      <td>0</td>\n",
       "      <td>0</td>\n",
       "      <td>0</td>\n",
       "      <td>0</td>\n",
       "      <td>0</td>\n",
       "      <td>0</td>\n",
       "      <td>0</td>\n",
       "      <td>1</td>\n",
       "    </tr>\n",
       "    <tr>\n",
       "      <th>14818</th>\n",
       "      <td>2</td>\n",
       "      <td>3</td>\n",
       "      <td>1</td>\n",
       "      <td>1010</td>\n",
       "      <td>2.0</td>\n",
       "      <td>1000</td>\n",
       "      <td>0</td>\n",
       "      <td>0</td>\n",
       "      <td>0</td>\n",
       "      <td>0</td>\n",
       "      <td>...</td>\n",
       "      <td>0</td>\n",
       "      <td>0</td>\n",
       "      <td>0</td>\n",
       "      <td>0</td>\n",
       "      <td>0</td>\n",
       "      <td>0</td>\n",
       "      <td>0</td>\n",
       "      <td>0</td>\n",
       "      <td>0</td>\n",
       "      <td>1</td>\n",
       "    </tr>\n",
       "  </tbody>\n",
       "</table>\n",
       "<p>14789 rows × 155 columns</p>\n",
       "</div>"
      ],
      "text/plain": [
       "       bathroom  floor  parking  property_size  type_bhk  maintenance  \\\n",
       "0             2      2        1            900       2.0            0   \n",
       "1             3      0        3           1780       3.0         3560   \n",
       "2             2      2        1            680       2.0            0   \n",
       "3             2      3        1           1050       2.0         1200   \n",
       "4             1      2        1            600       2.0            0   \n",
       "...         ...    ...      ...            ...       ...          ...   \n",
       "14814         2      1        3            500       1.0            0   \n",
       "14815         2      4        3           1000       2.0         1000   \n",
       "14816         1      2        3            720       2.0            0   \n",
       "14817         1      2        3            500       1.0            0   \n",
       "14818         2      3        1           1010       2.0         1000   \n",
       "\n",
       "       adikmet  almasguda  amberpet  ameerpet  ...  turkayamjal  uppal  \\\n",
       "0            1          0         0         0  ...            0      0   \n",
       "1            1          0         0         0  ...            0      0   \n",
       "2            1          0         0         0  ...            0      0   \n",
       "3            1          0         0         0  ...            0      0   \n",
       "4            1          0         0         0  ...            0      0   \n",
       "...        ...        ...       ...       ...  ...          ...    ...   \n",
       "14814        0          0         0         0  ...            0      0   \n",
       "14815        0          0         0         0  ...            0      0   \n",
       "14816        0          0         0         0  ...            0      0   \n",
       "14817        0          0         0         0  ...            0      0   \n",
       "14818        0          0         0         0  ...            0      0   \n",
       "\n",
       "       upparpally  venkat_nagar_colony  west_marredpally  whisper_valley  \\\n",
       "0               0                    0                 0               0   \n",
       "1               0                    0                 0               0   \n",
       "2               0                    0                 0               0   \n",
       "3               0                    0                 0               0   \n",
       "4               0                    0                 0               0   \n",
       "...           ...                  ...               ...             ...   \n",
       "14814           0                    0                 0               0   \n",
       "14815           0                    0                 0               0   \n",
       "14816           0                    0                 0               0   \n",
       "14817           0                    0                 0               0   \n",
       "14818           0                    0                 0               0   \n",
       "\n",
       "       yapral  yella_reddy_guda  yousufguda  zamistanpur  \n",
       "0           0                 0           0            0  \n",
       "1           0                 0           0            0  \n",
       "2           0                 0           0            0  \n",
       "3           0                 0           0            0  \n",
       "4           0                 0           0            0  \n",
       "...       ...               ...         ...          ...  \n",
       "14814       0                 0           0            1  \n",
       "14815       0                 0           0            1  \n",
       "14816       0                 0           0            1  \n",
       "14817       0                 0           0            1  \n",
       "14818       0                 0           0            1  \n",
       "\n",
       "[14789 rows x 155 columns]"
      ]
     },
     "execution_count": 44,
     "metadata": {},
     "output_type": "execute_result"
    }
   ],
   "source": [
    "X=df9.drop('rent_amount',axis='columns')\n",
    "X"
   ]
  },
  {
   "cell_type": "code",
   "execution_count": 45,
   "id": "612fe2b1",
   "metadata": {},
   "outputs": [
    {
     "data": {
      "text/plain": [
       "0        10000\n",
       "1        30000\n",
       "2        10000\n",
       "3        12000\n",
       "4         9500\n",
       "         ...  \n",
       "14814     8000\n",
       "14815    12000\n",
       "14816     9000\n",
       "14817     6000\n",
       "14818    16000\n",
       "Name: rent_amount, Length: 14789, dtype: int64"
      ]
     },
     "execution_count": 45,
     "metadata": {},
     "output_type": "execute_result"
    }
   ],
   "source": [
    "Y=df9['rent_amount']\n",
    "Y"
   ]
  },
  {
   "cell_type": "code",
   "execution_count": 46,
   "id": "ad1772f7",
   "metadata": {
    "execution": {
     "iopub.execute_input": "2021-08-15T15:32:27.657589Z",
     "iopub.status.busy": "2021-08-15T15:32:27.656591Z",
     "iopub.status.idle": "2021-08-15T15:32:28.654367Z",
     "shell.execute_reply": "2021-08-15T15:32:28.653009Z",
     "shell.execute_reply.started": "2021-08-15T15:31:51.062243Z"
    },
    "papermill": {
     "duration": 1.049482,
     "end_time": "2021-08-15T15:32:28.654550",
     "exception": false,
     "start_time": "2021-08-15T15:32:27.605068",
     "status": "completed"
    },
    "tags": []
   },
   "outputs": [],
   "source": [
    "from sklearn.model_selection import train_test_split\n",
    "X_train, X_test, Y_train, Y_test= train_test_split(X,Y,test_size=0.2,random_state=10)"
   ]
  },
  {
   "cell_type": "code",
   "execution_count": 47,
   "id": "f87f9b6a",
   "metadata": {
    "execution": {
     "iopub.execute_input": "2021-08-15T15:32:28.759136Z",
     "iopub.status.busy": "2021-08-15T15:32:28.758460Z",
     "iopub.status.idle": "2021-08-15T15:32:29.139300Z",
     "shell.execute_reply": "2021-08-15T15:32:29.140195Z",
     "shell.execute_reply.started": "2021-08-15T15:31:51.093249Z"
    },
    "papermill": {
     "duration": 0.436137,
     "end_time": "2021-08-15T15:32:29.140535",
     "exception": false,
     "start_time": "2021-08-15T15:32:28.704398",
     "status": "completed"
    },
    "tags": []
   },
   "outputs": [
    {
     "data": {
      "text/plain": [
       "0.8658779064452148"
      ]
     },
     "execution_count": 47,
     "metadata": {},
     "output_type": "execute_result"
    }
   ],
   "source": [
    "from sklearn.linear_model import LinearRegression\n",
    "lr=LinearRegression()\n",
    "lr.fit(X_train,Y_train)\n",
    "lr.score(X_test,Y_test)"
   ]
  },
  {
   "cell_type": "code",
   "execution_count": 48,
   "id": "e80d8550",
   "metadata": {},
   "outputs": [],
   "source": [
    "y_pred = lr.predict(X_test)"
   ]
  },
  {
   "cell_type": "code",
   "execution_count": 49,
   "id": "2c735fc1",
   "metadata": {},
   "outputs": [
    {
     "data": {
      "text/plain": [
       "0.8658779064452148"
      ]
     },
     "execution_count": 49,
     "metadata": {},
     "output_type": "execute_result"
    }
   ],
   "source": [
    "from sklearn.metrics import r2_score\n",
    "\n",
    "r2_score(Y_test, y_pred)"
   ]
  },
  {
   "cell_type": "code",
   "execution_count": 50,
   "id": "0b2587c2",
   "metadata": {
    "execution": {
     "iopub.execute_input": "2021-08-15T15:32:29.297464Z",
     "iopub.status.busy": "2021-08-15T15:32:29.296769Z",
     "iopub.status.idle": "2021-08-15T15:32:29.935687Z",
     "shell.execute_reply": "2021-08-15T15:32:29.936717Z",
     "shell.execute_reply.started": "2021-08-15T15:31:51.189512Z"
    },
    "papermill": {
     "duration": 0.705076,
     "end_time": "2021-08-15T15:32:29.936999",
     "exception": false,
     "start_time": "2021-08-15T15:32:29.231923",
     "status": "completed"
    },
    "tags": []
   },
   "outputs": [
    {
     "data": {
      "text/plain": [
       "array([0.85875767, 0.85795135, 0.85678434, 0.85478097, 0.86573126])"
      ]
     },
     "execution_count": 50,
     "metadata": {},
     "output_type": "execute_result"
    }
   ],
   "source": [
    "from sklearn.model_selection import ShuffleSplit\n",
    "from sklearn.model_selection import cross_val_score \n",
    "\n",
    "cv = ShuffleSplit (n_splits=5, test_size=0.2, random_state=0)\n",
    "\n",
    "cross_val_score(LinearRegression (),X,Y,cv=cv)"
   ]
  },
  {
   "cell_type": "code",
   "execution_count": 51,
   "id": "624bde1e",
   "metadata": {},
   "outputs": [
    {
     "data": {
      "text/plain": [
       "RandomForestRegressor()"
      ]
     },
     "execution_count": 51,
     "metadata": {},
     "output_type": "execute_result"
    }
   ],
   "source": [
    "from sklearn.ensemble import RandomForestRegressor\n",
    "\n",
    "rf = RandomForestRegressor()\n",
    "rf.fit(X_train, Y_train)"
   ]
  },
  {
   "cell_type": "code",
   "execution_count": 52,
   "id": "dd11e00c",
   "metadata": {},
   "outputs": [],
   "source": [
    "y_pred = rf.predict(X_test)"
   ]
  },
  {
   "cell_type": "code",
   "execution_count": 53,
   "id": "5a8de772",
   "metadata": {},
   "outputs": [
    {
     "data": {
      "text/plain": [
       "0.8537297232690542"
      ]
     },
     "execution_count": 53,
     "metadata": {},
     "output_type": "execute_result"
    }
   ],
   "source": [
    "from sklearn.metrics import r2_score\n",
    "\n",
    "r2_score(Y_test, y_pred)"
   ]
  },
  {
   "cell_type": "code",
   "execution_count": 54,
   "id": "de0f310f",
   "metadata": {},
   "outputs": [
    {
     "data": {
      "text/plain": [
       "array([0.84157699, 0.8494487 , 0.85273248, 0.85206146, 0.85231758])"
      ]
     },
     "execution_count": 54,
     "metadata": {},
     "output_type": "execute_result"
    }
   ],
   "source": [
    "from sklearn.model_selection import ShuffleSplit\n",
    "from sklearn.model_selection import cross_val_score \n",
    "\n",
    "cv = ShuffleSplit (n_splits=5, test_size=0.2, random_state=0)\n",
    "\n",
    "cross_val_score(RandomForestRegressor (),X,Y,cv=cv)"
   ]
  },
  {
   "cell_type": "code",
   "execution_count": 55,
   "id": "a6cc0352",
   "metadata": {
    "execution": {
     "iopub.execute_input": "2021-08-15T15:32:30.093046Z",
     "iopub.status.busy": "2021-08-15T15:32:30.092363Z",
     "iopub.status.idle": "2021-08-15T15:32:30.095443Z",
     "shell.execute_reply": "2021-08-15T15:32:30.095922Z",
     "shell.execute_reply.started": "2021-08-15T15:31:51.880304Z"
    },
    "papermill": {
     "duration": 0.070336,
     "end_time": "2021-08-15T15:32:30.096088",
     "exception": false,
     "start_time": "2021-08-15T15:32:30.025752",
     "status": "completed"
    },
    "tags": []
   },
   "outputs": [
    {
     "data": {
      "text/plain": [
       "Index(['bathroom', 'floor', 'parking', 'property_size', 'type_bhk',\n",
       "       'maintenance', 'adikmet', 'almasguda', 'amberpet', 'ameerpet',\n",
       "       ...\n",
       "       'turkayamjal', 'uppal', 'upparpally', 'venkat_nagar_colony',\n",
       "       'west_marredpally', 'whisper_valley', 'yapral', 'yella_reddy_guda',\n",
       "       'yousufguda', 'zamistanpur'],\n",
       "      dtype='object', length=155)"
      ]
     },
     "execution_count": 55,
     "metadata": {},
     "output_type": "execute_result"
    }
   ],
   "source": [
    "X.columns"
   ]
  },
  {
   "cell_type": "code",
   "execution_count": 56,
   "id": "49ff5e64",
   "metadata": {
    "execution": {
     "iopub.execute_input": "2021-08-15T15:32:30.200142Z",
     "iopub.status.busy": "2021-08-15T15:32:30.199524Z",
     "iopub.status.idle": "2021-08-15T15:32:30.205638Z",
     "shell.execute_reply": "2021-08-15T15:32:30.206154Z",
     "shell.execute_reply.started": "2021-08-15T15:31:51.890836Z"
    },
    "papermill": {
     "duration": 0.059319,
     "end_time": "2021-08-15T15:32:30.206326",
     "exception": false,
     "start_time": "2021-08-15T15:32:30.147007",
     "status": "completed"
    },
    "tags": []
   },
   "outputs": [],
   "source": [
    "def predict_rent(localityId,bathroom,floor,parking,property_size,type_bhk,maintenance):\n",
    "\n",
    "    loc_index = np.where(X.columns==localityId)[0][0] \n",
    "    x= np.zeros(len(X.columns))\n",
    "    x[0]=bathroom\n",
    "    x[1]=floor\n",
    "    x[2]=parking\n",
    "    x[3]=property_size\n",
    "    x[4]=type_bhk\n",
    "    x[5]=maintenance\n",
    "    \n",
    "    if loc_index>=0:\n",
    "        x[loc_index]=1 \n",
    "\n",
    "    return lr.predict([x])[0]\n",
    "\n"
   ]
  },
  {
   "cell_type": "code",
   "execution_count": 57,
   "id": "ff6afce2",
   "metadata": {
    "execution": {
     "iopub.execute_input": "2021-08-15T15:32:30.308825Z",
     "iopub.status.busy": "2021-08-15T15:32:30.308148Z",
     "iopub.status.idle": "2021-08-15T15:32:30.314004Z",
     "shell.execute_reply": "2021-08-15T15:32:30.314508Z",
     "shell.execute_reply.started": "2021-08-15T15:31:51.903371Z"
    },
    "papermill": {
     "duration": 0.058911,
     "end_time": "2021-08-15T15:32:30.314685",
     "exception": false,
     "start_time": "2021-08-15T15:32:30.255774",
     "status": "completed"
    },
    "tags": []
   },
   "outputs": [
    {
     "data": {
      "text/plain": [
       "17407.043508352115"
      ]
     },
     "execution_count": 57,
     "metadata": {},
     "output_type": "execute_result"
    }
   ],
   "source": [
    "predict_rent('yousufguda',4,2,2,1000,3,1000)"
   ]
  },
  {
   "cell_type": "code",
   "execution_count": null,
   "id": "e1b64ccf",
   "metadata": {},
   "outputs": [],
   "source": [
    "import pickle\n",
    "with open('rent_prediction.pickle','wb') as f:\n",
    "    pickle.dump(lr,f)"
   ]
  },
  {
   "cell_type": "code",
   "execution_count": null,
   "id": "4dde7a31",
   "metadata": {},
   "outputs": [],
   "source": [
    "import json\n",
    "columns = {\n",
    "    'data_columns' : [col.lower() for col in X.columns]\n",
    "}\n",
    "with open(\"columns.json\",\"w\") as f:\n",
    "    f.write(json.dumps(columns))"
   ]
  }
 ],
 "metadata": {
  "kernelspec": {
   "display_name": "Python 3",
   "language": "python",
   "name": "python3"
  },
  "language_info": {
   "codemirror_mode": {
    "name": "ipython",
    "version": 3
   },
   "file_extension": ".py",
   "mimetype": "text/x-python",
   "name": "python",
   "nbconvert_exporter": "python",
   "pygments_lexer": "ipython3",
   "version": "3.8.8"
  },
  "papermill": {
   "default_parameters": {},
   "duration": 17.39418,
   "end_time": "2021-08-15T15:32:31.185521",
   "environment_variables": {},
   "exception": null,
   "input_path": "__notebook__.ipynb",
   "output_path": "__notebook__.ipynb",
   "parameters": {},
   "start_time": "2021-08-15T15:32:13.791341",
   "version": "2.3.3"
  }
 },
 "nbformat": 4,
 "nbformat_minor": 5
}
