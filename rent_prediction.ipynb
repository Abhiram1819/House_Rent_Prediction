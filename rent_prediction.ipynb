{
 "cells": [
  {
   "cell_type": "code",
   "execution_count": 6,
   "id": "dc9c7612",
   "metadata": {
    "_cell_guid": "b1076dfc-b9ad-4769-8c92-a6c4dae69d19",
    "_uuid": "8f2839f25d086af736a60e9eeb907d3b93b6e0e5",
    "execution": {
     "iopub.execute_input": "2021-08-15T15:32:22.141946Z",
     "iopub.status.busy": "2021-08-15T15:32:22.140805Z",
     "iopub.status.idle": "2021-08-15T15:32:22.160343Z",
     "shell.execute_reply": "2021-08-15T15:32:22.160887Z",
     "shell.execute_reply.started": "2021-08-15T15:31:49.145653Z"
    },
    "papermill": {
     "duration": 0.061172,
     "end_time": "2021-08-15T15:32:22.161177",
     "exception": false,
     "start_time": "2021-08-15T15:32:22.100005",
     "status": "completed"
    },
    "tags": []
   },
   "outputs": [],
   "source": [
    "import numpy as np\n",
    "import pandas as pd"
   ]
  },
  {
   "cell_type": "code",
   "execution_count": 7,
   "id": "800f0bfa",
   "metadata": {
    "execution": {
     "iopub.execute_input": "2021-08-15T15:32:22.239486Z",
     "iopub.status.busy": "2021-08-15T15:32:22.237227Z",
     "iopub.status.idle": "2021-08-15T15:32:22.735744Z",
     "shell.execute_reply": "2021-08-15T15:32:22.734946Z",
     "shell.execute_reply.started": "2021-08-15T15:31:49.160392Z"
    },
    "papermill": {
     "duration": 0.53806,
     "end_time": "2021-08-15T15:32:22.735903",
     "exception": false,
     "start_time": "2021-08-15T15:32:22.197843",
     "status": "completed"
    },
    "tags": []
   },
   "outputs": [],
   "source": [
    "house_data=pd.read_csv('hyd_house.csv')"
   ]
  },
  {
   "cell_type": "code",
   "execution_count": 8,
   "id": "9e8b9f2f",
   "metadata": {
    "execution": {
     "iopub.execute_input": "2021-08-15T15:32:22.831167Z",
     "iopub.status.busy": "2021-08-15T15:32:22.830335Z",
     "iopub.status.idle": "2021-08-15T15:32:22.863452Z",
     "shell.execute_reply": "2021-08-15T15:32:22.862890Z",
     "shell.execute_reply.started": "2021-08-15T15:31:49.509102Z"
    },
    "papermill": {
     "duration": 0.090769,
     "end_time": "2021-08-15T15:32:22.863597",
     "exception": false,
     "start_time": "2021-08-15T15:32:22.772828",
     "status": "completed"
    },
    "tags": []
   },
   "outputs": [
    {
     "data": {
      "text/html": [
       "<div>\n",
       "<style scoped>\n",
       "    .dataframe tbody tr th:only-of-type {\n",
       "        vertical-align: middle;\n",
       "    }\n",
       "\n",
       "    .dataframe tbody tr th {\n",
       "        vertical-align: top;\n",
       "    }\n",
       "\n",
       "    .dataframe thead th {\n",
       "        text-align: right;\n",
       "    }\n",
       "</style>\n",
       "<table border=\"1\" class=\"dataframe\">\n",
       "  <thead>\n",
       "    <tr style=\"text-align: right;\">\n",
       "      <th></th>\n",
       "      <th>active</th>\n",
       "      <th>amenities</th>\n",
       "      <th>balconies</th>\n",
       "      <th>bathroom</th>\n",
       "      <th>combineDescription</th>\n",
       "      <th>completeStreetName</th>\n",
       "      <th>deposit</th>\n",
       "      <th>facing</th>\n",
       "      <th>facingDesc</th>\n",
       "      <th>floor</th>\n",
       "      <th>...</th>\n",
       "      <th>property_size</th>\n",
       "      <th>reactivationSource</th>\n",
       "      <th>rent_amount</th>\n",
       "      <th>sharedAccomodation</th>\n",
       "      <th>shortUrl</th>\n",
       "      <th>swimmingPool</th>\n",
       "      <th>totalFloor</th>\n",
       "      <th>type_bhk</th>\n",
       "      <th>waterSupply</th>\n",
       "      <th>weight</th>\n",
       "    </tr>\n",
       "  </thead>\n",
       "  <tbody>\n",
       "    <tr>\n",
       "      <th>0</th>\n",
       "      <td>True</td>\n",
       "      <td>{\"LIFT\":true,\"GYM\":false,\"INTERNET\":false,\"AC\"...</td>\n",
       "      <td>3</td>\n",
       "      <td>3</td>\n",
       "      <td>NaN</td>\n",
       "      <td>Shreya carnation, Block I, NCB Enclave, Gachib...</td>\n",
       "      <td>90000</td>\n",
       "      <td>W</td>\n",
       "      <td>West</td>\n",
       "      <td>3</td>\n",
       "      <td>...</td>\n",
       "      <td>2200</td>\n",
       "      <td>USER_DASHBOARD</td>\n",
       "      <td>28000</td>\n",
       "      <td>False</td>\n",
       "      <td>http://nobr.kr/sv/9Kvqj</td>\n",
       "      <td>False</td>\n",
       "      <td>5</td>\n",
       "      <td>BHK3</td>\n",
       "      <td>CORP_BORE</td>\n",
       "      <td>NaN</td>\n",
       "    </tr>\n",
       "    <tr>\n",
       "      <th>1</th>\n",
       "      <td>True</td>\n",
       "      <td>{\"LIFT\":false,\"GYM\":false,\"INTERNET\":false,\"AC...</td>\n",
       "      <td>1</td>\n",
       "      <td>2</td>\n",
       "      <td>NaN</td>\n",
       "      <td>Inner Ring Rd,  near RTO Bandlaguda South Zone</td>\n",
       "      <td>45000</td>\n",
       "      <td>E</td>\n",
       "      <td>East</td>\n",
       "      <td>2</td>\n",
       "      <td>...</td>\n",
       "      <td>1200</td>\n",
       "      <td>USER_DASHBOARD</td>\n",
       "      <td>15000</td>\n",
       "      <td>False</td>\n",
       "      <td>http://nobr.kr/sv/j2pD6</td>\n",
       "      <td>False</td>\n",
       "      <td>2</td>\n",
       "      <td>BHK3</td>\n",
       "      <td>BOREWELL</td>\n",
       "      <td>NaN</td>\n",
       "    </tr>\n",
       "    <tr>\n",
       "      <th>2</th>\n",
       "      <td>True</td>\n",
       "      <td>{\"LIFT\":true,\"GYM\":true,\"INTERNET\":false,\"AC\":...</td>\n",
       "      <td>3</td>\n",
       "      <td>3</td>\n",
       "      <td>NaN</td>\n",
       "      <td>Rd Number 2, Shirdi Sai Nagar, Manikonda, Hyde...</td>\n",
       "      <td>80000</td>\n",
       "      <td>E</td>\n",
       "      <td>East</td>\n",
       "      <td>0</td>\n",
       "      <td>...</td>\n",
       "      <td>1800</td>\n",
       "      <td>MISSED_CALL</td>\n",
       "      <td>16000</td>\n",
       "      <td>False</td>\n",
       "      <td>http://nobr.kr/sv/TXJmj</td>\n",
       "      <td>False</td>\n",
       "      <td>3</td>\n",
       "      <td>BHK3</td>\n",
       "      <td>CORP_BORE</td>\n",
       "      <td>NaN</td>\n",
       "    </tr>\n",
       "    <tr>\n",
       "      <th>3</th>\n",
       "      <td>True</td>\n",
       "      <td>{\"LIFT\":false,\"GYM\":false,\"INTERNET\":false,\"AC...</td>\n",
       "      <td>1</td>\n",
       "      <td>2</td>\n",
       "      <td>NaN</td>\n",
       "      <td>Plot No. 44, Road No. 1/A, kakatiya colony, LB...</td>\n",
       "      <td>18000</td>\n",
       "      <td>W</td>\n",
       "      <td>West</td>\n",
       "      <td>2</td>\n",
       "      <td>...</td>\n",
       "      <td>750</td>\n",
       "      <td>MISSED_CALL</td>\n",
       "      <td>9000</td>\n",
       "      <td>False</td>\n",
       "      <td>http://nobr.kr/sv/FnCsf</td>\n",
       "      <td>False</td>\n",
       "      <td>2</td>\n",
       "      <td>BHK2</td>\n",
       "      <td>CORP_BORE</td>\n",
       "      <td>NaN</td>\n",
       "    </tr>\n",
       "    <tr>\n",
       "      <th>4</th>\n",
       "      <td>True</td>\n",
       "      <td>{\"LIFT\":true,\"GYM\":false,\"INTERNET\":false,\"AC\"...</td>\n",
       "      <td>2</td>\n",
       "      <td>2</td>\n",
       "      <td>NaN</td>\n",
       "      <td>Madhapur HUDA Techno Enclave,  Near MaxCure Su...</td>\n",
       "      <td>80000</td>\n",
       "      <td>E</td>\n",
       "      <td>East</td>\n",
       "      <td>2</td>\n",
       "      <td>...</td>\n",
       "      <td>1250</td>\n",
       "      <td>None</td>\n",
       "      <td>32500</td>\n",
       "      <td>False</td>\n",
       "      <td>http://nobr.kr/sv/BQFRb</td>\n",
       "      <td>False</td>\n",
       "      <td>5</td>\n",
       "      <td>BHK2</td>\n",
       "      <td>CORP_BORE</td>\n",
       "      <td>NaN</td>\n",
       "    </tr>\n",
       "  </tbody>\n",
       "</table>\n",
       "<p>5 rows × 36 columns</p>\n",
       "</div>"
      ],
      "text/plain": [
       "   active                                          amenities balconies  \\\n",
       "0    True  {\"LIFT\":true,\"GYM\":false,\"INTERNET\":false,\"AC\"...         3   \n",
       "1    True  {\"LIFT\":false,\"GYM\":false,\"INTERNET\":false,\"AC...         1   \n",
       "2    True  {\"LIFT\":true,\"GYM\":true,\"INTERNET\":false,\"AC\":...         3   \n",
       "3    True  {\"LIFT\":false,\"GYM\":false,\"INTERNET\":false,\"AC...         1   \n",
       "4    True  {\"LIFT\":true,\"GYM\":false,\"INTERNET\":false,\"AC\"...         2   \n",
       "\n",
       "   bathroom  combineDescription  \\\n",
       "0         3                 NaN   \n",
       "1         2                 NaN   \n",
       "2         3                 NaN   \n",
       "3         2                 NaN   \n",
       "4         2                 NaN   \n",
       "\n",
       "                                  completeStreetName  deposit facing  \\\n",
       "0  Shreya carnation, Block I, NCB Enclave, Gachib...    90000      W   \n",
       "1     Inner Ring Rd,  near RTO Bandlaguda South Zone    45000      E   \n",
       "2  Rd Number 2, Shirdi Sai Nagar, Manikonda, Hyde...    80000      E   \n",
       "3  Plot No. 44, Road No. 1/A, kakatiya colony, LB...    18000      W   \n",
       "4  Madhapur HUDA Techno Enclave,  Near MaxCure Su...    80000      E   \n",
       "\n",
       "  facingDesc  floor  ... property_size  reactivationSource rent_amount  \\\n",
       "0       West      3  ...          2200      USER_DASHBOARD       28000   \n",
       "1       East      2  ...          1200      USER_DASHBOARD       15000   \n",
       "2       East      0  ...          1800         MISSED_CALL       16000   \n",
       "3       West      2  ...           750         MISSED_CALL        9000   \n",
       "4       East      2  ...          1250                None       32500   \n",
       "\n",
       "   sharedAccomodation                 shortUrl  swimmingPool totalFloor  \\\n",
       "0               False  http://nobr.kr/sv/9Kvqj         False          5   \n",
       "1               False  http://nobr.kr/sv/j2pD6         False          2   \n",
       "2               False  http://nobr.kr/sv/TXJmj         False          3   \n",
       "3               False  http://nobr.kr/sv/FnCsf         False          2   \n",
       "4               False  http://nobr.kr/sv/BQFRb         False          5   \n",
       "\n",
       "  type_bhk waterSupply weight  \n",
       "0     BHK3   CORP_BORE    NaN  \n",
       "1     BHK3    BOREWELL    NaN  \n",
       "2     BHK3   CORP_BORE    NaN  \n",
       "3     BHK2   CORP_BORE    NaN  \n",
       "4     BHK2   CORP_BORE    NaN  \n",
       "\n",
       "[5 rows x 36 columns]"
      ]
     },
     "execution_count": 8,
     "metadata": {},
     "output_type": "execute_result"
    }
   ],
   "source": [
    "house_data.head()"
   ]
  },
  {
   "cell_type": "code",
   "execution_count": 9,
   "id": "fb1b2e9c",
   "metadata": {
    "execution": {
     "iopub.execute_input": "2021-08-15T15:32:22.946489Z",
     "iopub.status.busy": "2021-08-15T15:32:22.945659Z",
     "iopub.status.idle": "2021-08-15T15:32:22.949647Z",
     "shell.execute_reply": "2021-08-15T15:32:22.949105Z",
     "shell.execute_reply.started": "2021-08-15T15:31:49.548524Z"
    },
    "papermill": {
     "duration": 0.049247,
     "end_time": "2021-08-15T15:32:22.949783",
     "exception": false,
     "start_time": "2021-08-15T15:32:22.900536",
     "status": "completed"
    },
    "tags": []
   },
   "outputs": [],
   "source": [
    "new_data=house_data.drop(['amenities','locality','balconies','lift','active','loanAvailable','location','ownerName','parkingDesc','propertyTitle','propertyType','combineDescription','completeStreetName','facing','facingDesc','furnishingDesc','gym','id','isMaintenance','weight','waterSupply','swimmingPool','shortUrl','sharedAccomodation','reactivationSource'],axis=1)"
   ]
  },
  {
   "cell_type": "code",
   "execution_count": 10,
   "id": "cff57f1c",
   "metadata": {
    "execution": {
     "iopub.execute_input": "2021-08-15T15:32:23.027678Z",
     "iopub.status.busy": "2021-08-15T15:32:23.026951Z",
     "iopub.status.idle": "2021-08-15T15:32:23.057533Z",
     "shell.execute_reply": "2021-08-15T15:32:23.056740Z",
     "shell.execute_reply.started": "2021-08-15T15:31:49.562839Z"
    },
    "papermill": {
     "duration": 0.070934,
     "end_time": "2021-08-15T15:32:23.057726",
     "exception": false,
     "start_time": "2021-08-15T15:32:22.986792",
     "status": "completed"
    },
    "tags": []
   },
   "outputs": [
    {
     "name": "stdout",
     "output_type": "stream",
     "text": [
      "BOTH            9599\n",
      "TWO_WHEELER     7430\n",
      "FOUR_WHEELER    1131\n",
      "NONE             950\n",
      "Name: parking, dtype: int64\n",
      "2     9852\n",
      "1     5699\n",
      "3     3265\n",
      "4      207\n",
      "5       54\n",
      "6       17\n",
      "7        9\n",
      "8        3\n",
      "12       3\n",
      "14       1\n",
      "Name: bathroom, dtype: int64\n",
      "1     4735\n",
      "2     4678\n",
      "0     3908\n",
      "3     2785\n",
      "4     1424\n",
      "5      830\n",
      "6      157\n",
      "7      113\n",
      "8       80\n",
      "9       66\n",
      "11      54\n",
      "10      39\n",
      "12      38\n",
      "14      35\n",
      "13      28\n",
      "18      21\n",
      "16      18\n",
      "15      17\n",
      "20      13\n",
      "19      13\n",
      "17      10\n",
      "21      10\n",
      "23       9\n",
      "25       6\n",
      "24       6\n",
      "22       6\n",
      "28       4\n",
      "29       3\n",
      "26       2\n",
      "30       1\n",
      "31       1\n",
      "Name: floor, dtype: int64\n",
      "BHK2        9242\n",
      "BHK3        4229\n",
      "BHK1        4221\n",
      "RK1         1149\n",
      "BHK4         211\n",
      "BHK4PLUS      58\n",
      "Name: type_bhk, dtype: int64\n",
      "None    9658\n",
      "1000    1542\n",
      "1500    1435\n",
      "2000    1132\n",
      "500     1069\n",
      "        ... \n",
      "3360       1\n",
      "4830       1\n",
      "508        1\n",
      "3603       1\n",
      "2525       1\n",
      "Name: maintenanceAmount, Length: 264, dtype: int64\n"
     ]
    }
   ],
   "source": [
    "print(new_data.parking.value_counts())\n",
    "print(new_data.bathroom.value_counts())\n",
    "print(new_data.floor.value_counts())\n",
    "print(new_data.type_bhk.value_counts())\n",
    "print(new_data.maintenanceAmount.value_counts())\n",
    "\n"
   ]
  },
  {
   "cell_type": "markdown",
   "id": "3436920b",
   "metadata": {
    "papermill": {
     "duration": 0.037199,
     "end_time": "2021-08-15T15:32:23.132885",
     "exception": false,
     "start_time": "2021-08-15T15:32:23.095686",
     "status": "completed"
    },
    "tags": []
   },
   "source": [
    "## encoding data"
   ]
  },
  {
   "cell_type": "code",
   "execution_count": 11,
   "id": "4d4adfcd",
   "metadata": {
    "execution": {
     "iopub.execute_input": "2021-08-15T15:32:23.230408Z",
     "iopub.status.busy": "2021-08-15T15:32:23.221477Z",
     "iopub.status.idle": "2021-08-15T15:32:23.262364Z",
     "shell.execute_reply": "2021-08-15T15:32:23.263255Z",
     "shell.execute_reply.started": "2021-08-15T15:31:49.597488Z"
    },
    "papermill": {
     "duration": 0.092704,
     "end_time": "2021-08-15T15:32:23.263546",
     "exception": false,
     "start_time": "2021-08-15T15:32:23.170842",
     "status": "completed"
    },
    "tags": []
   },
   "outputs": [],
   "source": [
    "new_data.replace({'parking':{'BOTH':0,'TWO_WHEELER':1,'FOUR_WHEELER':2,'NONE':3}},inplace=True)\n",
    "new_data.replace({'type_bhk':{'RK1':0.5,'BHK1':1,'BHK2':2,'BHK3':3,'BHK4':4,'BHK4PLUS':5}},inplace=True)\n",
    "new_data.replace({'maintenanceAmount':{'None':int(0)}},inplace=True)"
   ]
  },
  {
   "cell_type": "code",
   "execution_count": 12,
   "id": "12a20375",
   "metadata": {
    "execution": {
     "iopub.execute_input": "2021-08-15T15:32:23.381901Z",
     "iopub.status.busy": "2021-08-15T15:32:23.380901Z",
     "iopub.status.idle": "2021-08-15T15:32:23.385400Z",
     "shell.execute_reply": "2021-08-15T15:32:23.384768Z",
     "shell.execute_reply.started": "2021-08-15T15:31:49.649574Z"
    },
    "papermill": {
     "duration": 0.069099,
     "end_time": "2021-08-15T15:32:23.385551",
     "exception": false,
     "start_time": "2021-08-15T15:32:23.316452",
     "status": "completed"
    },
    "tags": []
   },
   "outputs": [
    {
     "data": {
      "text/html": [
       "<div>\n",
       "<style scoped>\n",
       "    .dataframe tbody tr th:only-of-type {\n",
       "        vertical-align: middle;\n",
       "    }\n",
       "\n",
       "    .dataframe tbody tr th {\n",
       "        vertical-align: top;\n",
       "    }\n",
       "\n",
       "    .dataframe thead th {\n",
       "        text-align: right;\n",
       "    }\n",
       "</style>\n",
       "<table border=\"1\" class=\"dataframe\">\n",
       "  <thead>\n",
       "    <tr style=\"text-align: right;\">\n",
       "      <th></th>\n",
       "      <th>bathroom</th>\n",
       "      <th>deposit</th>\n",
       "      <th>floor</th>\n",
       "      <th>localityId</th>\n",
       "      <th>maintenanceAmount</th>\n",
       "      <th>parking</th>\n",
       "      <th>property_age</th>\n",
       "      <th>property_size</th>\n",
       "      <th>rent_amount</th>\n",
       "      <th>totalFloor</th>\n",
       "      <th>type_bhk</th>\n",
       "    </tr>\n",
       "  </thead>\n",
       "  <tbody>\n",
       "    <tr>\n",
       "      <th>0</th>\n",
       "      <td>3</td>\n",
       "      <td>90000</td>\n",
       "      <td>3</td>\n",
       "      <td>gachibowli_hyderabad</td>\n",
       "      <td>2000</td>\n",
       "      <td>0</td>\n",
       "      <td>5</td>\n",
       "      <td>2200</td>\n",
       "      <td>28000</td>\n",
       "      <td>5</td>\n",
       "      <td>3.0</td>\n",
       "    </tr>\n",
       "    <tr>\n",
       "      <th>1</th>\n",
       "      <td>2</td>\n",
       "      <td>45000</td>\n",
       "      <td>2</td>\n",
       "      <td>chandrayangutta_hyderabad</td>\n",
       "      <td>0</td>\n",
       "      <td>1</td>\n",
       "      <td>1</td>\n",
       "      <td>1200</td>\n",
       "      <td>15000</td>\n",
       "      <td>2</td>\n",
       "      <td>3.0</td>\n",
       "    </tr>\n",
       "    <tr>\n",
       "      <th>2</th>\n",
       "      <td>3</td>\n",
       "      <td>80000</td>\n",
       "      <td>0</td>\n",
       "      <td>manikonda_hyderabad</td>\n",
       "      <td>1000</td>\n",
       "      <td>0</td>\n",
       "      <td>0</td>\n",
       "      <td>1800</td>\n",
       "      <td>16000</td>\n",
       "      <td>3</td>\n",
       "      <td>3.0</td>\n",
       "    </tr>\n",
       "    <tr>\n",
       "      <th>3</th>\n",
       "      <td>2</td>\n",
       "      <td>18000</td>\n",
       "      <td>2</td>\n",
       "      <td>NOT_FOUND</td>\n",
       "      <td>500</td>\n",
       "      <td>0</td>\n",
       "      <td>0</td>\n",
       "      <td>750</td>\n",
       "      <td>9000</td>\n",
       "      <td>2</td>\n",
       "      <td>2.0</td>\n",
       "    </tr>\n",
       "    <tr>\n",
       "      <th>4</th>\n",
       "      <td>2</td>\n",
       "      <td>80000</td>\n",
       "      <td>2</td>\n",
       "      <td>hitech_city_hyderabad</td>\n",
       "      <td>2000</td>\n",
       "      <td>0</td>\n",
       "      <td>5</td>\n",
       "      <td>1250</td>\n",
       "      <td>32500</td>\n",
       "      <td>5</td>\n",
       "      <td>2.0</td>\n",
       "    </tr>\n",
       "  </tbody>\n",
       "</table>\n",
       "</div>"
      ],
      "text/plain": [
       "   bathroom  deposit  floor                 localityId maintenanceAmount  \\\n",
       "0         3    90000      3       gachibowli_hyderabad              2000   \n",
       "1         2    45000      2  chandrayangutta_hyderabad                 0   \n",
       "2         3    80000      0        manikonda_hyderabad              1000   \n",
       "3         2    18000      2                  NOT_FOUND               500   \n",
       "4         2    80000      2      hitech_city_hyderabad              2000   \n",
       "\n",
       "   parking  property_age  property_size  rent_amount  totalFloor  type_bhk  \n",
       "0        0             5           2200        28000           5       3.0  \n",
       "1        1             1           1200        15000           2       3.0  \n",
       "2        0             0           1800        16000           3       3.0  \n",
       "3        0             0            750         9000           2       2.0  \n",
       "4        0             5           1250        32500           5       2.0  "
      ]
     },
     "execution_count": 12,
     "metadata": {},
     "output_type": "execute_result"
    }
   ],
   "source": [
    "new_data.head()"
   ]
  },
  {
   "cell_type": "code",
   "execution_count": 13,
   "id": "2c2280bf",
   "metadata": {
    "execution": {
     "iopub.execute_input": "2021-08-15T15:32:23.473086Z",
     "iopub.status.busy": "2021-08-15T15:32:23.472320Z",
     "iopub.status.idle": "2021-08-15T15:32:23.489031Z",
     "shell.execute_reply": "2021-08-15T15:32:23.489809Z",
     "shell.execute_reply.started": "2021-08-15T15:31:49.669615Z"
    },
    "papermill": {
     "duration": 0.065469,
     "end_time": "2021-08-15T15:32:23.490046",
     "exception": false,
     "start_time": "2021-08-15T15:32:23.424577",
     "status": "completed"
    },
    "tags": []
   },
   "outputs": [
    {
     "name": "stdout",
     "output_type": "stream",
     "text": [
      "<class 'pandas.core.frame.DataFrame'>\n",
      "RangeIndex: 19110 entries, 0 to 19109\n",
      "Data columns (total 11 columns):\n",
      " #   Column             Non-Null Count  Dtype  \n",
      "---  ------             --------------  -----  \n",
      " 0   bathroom           19110 non-null  int64  \n",
      " 1   deposit            19110 non-null  int64  \n",
      " 2   floor              19110 non-null  int64  \n",
      " 3   localityId         19110 non-null  object \n",
      " 4   maintenanceAmount  19110 non-null  object \n",
      " 5   parking            19110 non-null  int64  \n",
      " 6   property_age       19110 non-null  int64  \n",
      " 7   property_size      19110 non-null  int64  \n",
      " 8   rent_amount        19110 non-null  int64  \n",
      " 9   totalFloor         19110 non-null  int64  \n",
      " 10  type_bhk           19110 non-null  float64\n",
      "dtypes: float64(1), int64(8), object(2)\n",
      "memory usage: 1.6+ MB\n"
     ]
    }
   ],
   "source": [
    "new_data.info()"
   ]
  },
  {
   "cell_type": "code",
   "execution_count": 14,
   "id": "2a475a14",
   "metadata": {
    "execution": {
     "iopub.execute_input": "2021-08-15T15:32:23.577581Z",
     "iopub.status.busy": "2021-08-15T15:32:23.576835Z",
     "iopub.status.idle": "2021-08-15T15:32:23.584334Z",
     "shell.execute_reply": "2021-08-15T15:32:23.583732Z",
     "shell.execute_reply.started": "2021-08-15T15:31:49.702901Z"
    },
    "papermill": {
     "duration": 0.054395,
     "end_time": "2021-08-15T15:32:23.584489",
     "exception": false,
     "start_time": "2021-08-15T15:32:23.530094",
     "status": "completed"
    },
    "tags": []
   },
   "outputs": [
    {
     "data": {
      "text/plain": [
       "bathroom             0\n",
       "deposit              0\n",
       "floor                0\n",
       "localityId           0\n",
       "maintenanceAmount    0\n",
       "parking              0\n",
       "property_age         0\n",
       "property_size        0\n",
       "rent_amount          0\n",
       "totalFloor           0\n",
       "type_bhk             0\n",
       "dtype: int64"
      ]
     },
     "execution_count": 14,
     "metadata": {},
     "output_type": "execute_result"
    }
   ],
   "source": [
    "new_data.isnull().sum()"
   ]
  },
  {
   "cell_type": "code",
   "execution_count": 15,
   "id": "c61f42d6",
   "metadata": {
    "execution": {
     "iopub.execute_input": "2021-08-15T15:32:23.667902Z",
     "iopub.status.busy": "2021-08-15T15:32:23.667033Z",
     "iopub.status.idle": "2021-08-15T15:32:23.671233Z",
     "shell.execute_reply": "2021-08-15T15:32:23.670568Z",
     "shell.execute_reply.started": "2021-08-15T15:31:49.719711Z"
    },
    "papermill": {
     "duration": 0.048031,
     "end_time": "2021-08-15T15:32:23.671394",
     "exception": false,
     "start_time": "2021-08-15T15:32:23.623363",
     "status": "completed"
    },
    "tags": []
   },
   "outputs": [],
   "source": [
    "hd=new_data.copy()"
   ]
  },
  {
   "cell_type": "code",
   "execution_count": 16,
   "id": "1727a7fe",
   "metadata": {
    "execution": {
     "iopub.execute_input": "2021-08-15T15:32:23.762968Z",
     "iopub.status.busy": "2021-08-15T15:32:23.762031Z",
     "iopub.status.idle": "2021-08-15T15:32:23.767044Z",
     "shell.execute_reply": "2021-08-15T15:32:23.766497Z",
     "shell.execute_reply.started": "2021-08-15T15:31:49.730648Z"
    },
    "papermill": {
     "duration": 0.056282,
     "end_time": "2021-08-15T15:32:23.767184",
     "exception": false,
     "start_time": "2021-08-15T15:32:23.710902",
     "status": "completed"
    },
    "tags": []
   },
   "outputs": [
    {
     "data": {
      "text/plain": [
       "NOT_FOUND                      3491\n",
       "kondapur_hyderabad             1338\n",
       "kukatpally_hyderabad           1146\n",
       "miyapur_hyderabad               721\n",
       "hafeezpet_hyderabad             663\n",
       "                               ... \n",
       "majeedpur_hyderabad               1\n",
       "laxma_reddy_nagar_hyderabad       1\n",
       "karwan_east_hyderabad             1\n",
       "yakutpura_hyderabad               1\n",
       "ramnas_pura_hyderabad             1\n",
       "Name: localityId, Length: 269, dtype: int64"
      ]
     },
     "execution_count": 16,
     "metadata": {},
     "output_type": "execute_result"
    }
   ],
   "source": [
    "hd['localityId'].value_counts()"
   ]
  },
  {
   "cell_type": "code",
   "execution_count": 17,
   "id": "2faf4fb2",
   "metadata": {
    "execution": {
     "iopub.execute_input": "2021-08-15T15:32:23.865571Z",
     "iopub.status.busy": "2021-08-15T15:32:23.864823Z",
     "iopub.status.idle": "2021-08-15T15:32:23.868479Z",
     "shell.execute_reply": "2021-08-15T15:32:23.867799Z",
     "shell.execute_reply.started": "2021-08-15T15:31:49.751196Z"
    },
    "papermill": {
     "duration": 0.062404,
     "end_time": "2021-08-15T15:32:23.868631",
     "exception": false,
     "start_time": "2021-08-15T15:32:23.806227",
     "status": "completed"
    },
    "tags": []
   },
   "outputs": [],
   "source": [
    "hd['maintenance']=hd['maintenanceAmount'].apply(lambda x:int(x))"
   ]
  },
  {
   "cell_type": "code",
   "execution_count": 18,
   "id": "834cfed8",
   "metadata": {
    "execution": {
     "iopub.execute_input": "2021-08-15T15:32:23.962672Z",
     "iopub.status.busy": "2021-08-15T15:32:23.961650Z",
     "iopub.status.idle": "2021-08-15T15:32:23.966346Z",
     "shell.execute_reply": "2021-08-15T15:32:23.965732Z",
     "shell.execute_reply.started": "2021-08-15T15:31:49.777186Z"
    },
    "papermill": {
     "duration": 0.058635,
     "end_time": "2021-08-15T15:32:23.966522",
     "exception": false,
     "start_time": "2021-08-15T15:32:23.907887",
     "status": "completed"
    },
    "tags": []
   },
   "outputs": [
    {
     "data": {
      "text/html": [
       "<div>\n",
       "<style scoped>\n",
       "    .dataframe tbody tr th:only-of-type {\n",
       "        vertical-align: middle;\n",
       "    }\n",
       "\n",
       "    .dataframe tbody tr th {\n",
       "        vertical-align: top;\n",
       "    }\n",
       "\n",
       "    .dataframe thead th {\n",
       "        text-align: right;\n",
       "    }\n",
       "</style>\n",
       "<table border=\"1\" class=\"dataframe\">\n",
       "  <thead>\n",
       "    <tr style=\"text-align: right;\">\n",
       "      <th></th>\n",
       "      <th>bathroom</th>\n",
       "      <th>deposit</th>\n",
       "      <th>floor</th>\n",
       "      <th>localityId</th>\n",
       "      <th>maintenanceAmount</th>\n",
       "      <th>parking</th>\n",
       "      <th>property_age</th>\n",
       "      <th>property_size</th>\n",
       "      <th>rent_amount</th>\n",
       "      <th>totalFloor</th>\n",
       "      <th>type_bhk</th>\n",
       "      <th>maintenance</th>\n",
       "    </tr>\n",
       "  </thead>\n",
       "  <tbody>\n",
       "    <tr>\n",
       "      <th>0</th>\n",
       "      <td>3</td>\n",
       "      <td>90000</td>\n",
       "      <td>3</td>\n",
       "      <td>gachibowli_hyderabad</td>\n",
       "      <td>2000</td>\n",
       "      <td>0</td>\n",
       "      <td>5</td>\n",
       "      <td>2200</td>\n",
       "      <td>28000</td>\n",
       "      <td>5</td>\n",
       "      <td>3.0</td>\n",
       "      <td>2000</td>\n",
       "    </tr>\n",
       "    <tr>\n",
       "      <th>1</th>\n",
       "      <td>2</td>\n",
       "      <td>45000</td>\n",
       "      <td>2</td>\n",
       "      <td>chandrayangutta_hyderabad</td>\n",
       "      <td>0</td>\n",
       "      <td>1</td>\n",
       "      <td>1</td>\n",
       "      <td>1200</td>\n",
       "      <td>15000</td>\n",
       "      <td>2</td>\n",
       "      <td>3.0</td>\n",
       "      <td>0</td>\n",
       "    </tr>\n",
       "    <tr>\n",
       "      <th>2</th>\n",
       "      <td>3</td>\n",
       "      <td>80000</td>\n",
       "      <td>0</td>\n",
       "      <td>manikonda_hyderabad</td>\n",
       "      <td>1000</td>\n",
       "      <td>0</td>\n",
       "      <td>0</td>\n",
       "      <td>1800</td>\n",
       "      <td>16000</td>\n",
       "      <td>3</td>\n",
       "      <td>3.0</td>\n",
       "      <td>1000</td>\n",
       "    </tr>\n",
       "    <tr>\n",
       "      <th>3</th>\n",
       "      <td>2</td>\n",
       "      <td>18000</td>\n",
       "      <td>2</td>\n",
       "      <td>NOT_FOUND</td>\n",
       "      <td>500</td>\n",
       "      <td>0</td>\n",
       "      <td>0</td>\n",
       "      <td>750</td>\n",
       "      <td>9000</td>\n",
       "      <td>2</td>\n",
       "      <td>2.0</td>\n",
       "      <td>500</td>\n",
       "    </tr>\n",
       "    <tr>\n",
       "      <th>4</th>\n",
       "      <td>2</td>\n",
       "      <td>80000</td>\n",
       "      <td>2</td>\n",
       "      <td>hitech_city_hyderabad</td>\n",
       "      <td>2000</td>\n",
       "      <td>0</td>\n",
       "      <td>5</td>\n",
       "      <td>1250</td>\n",
       "      <td>32500</td>\n",
       "      <td>5</td>\n",
       "      <td>2.0</td>\n",
       "      <td>2000</td>\n",
       "    </tr>\n",
       "  </tbody>\n",
       "</table>\n",
       "</div>"
      ],
      "text/plain": [
       "   bathroom  deposit  floor                 localityId maintenanceAmount  \\\n",
       "0         3    90000      3       gachibowli_hyderabad              2000   \n",
       "1         2    45000      2  chandrayangutta_hyderabad                 0   \n",
       "2         3    80000      0        manikonda_hyderabad              1000   \n",
       "3         2    18000      2                  NOT_FOUND               500   \n",
       "4         2    80000      2      hitech_city_hyderabad              2000   \n",
       "\n",
       "   parking  property_age  property_size  rent_amount  totalFloor  type_bhk  \\\n",
       "0        0             5           2200        28000           5       3.0   \n",
       "1        1             1           1200        15000           2       3.0   \n",
       "2        0             0           1800        16000           3       3.0   \n",
       "3        0             0            750         9000           2       2.0   \n",
       "4        0             5           1250        32500           5       2.0   \n",
       "\n",
       "   maintenance  \n",
       "0         2000  \n",
       "1            0  \n",
       "2         1000  \n",
       "3          500  \n",
       "4         2000  "
      ]
     },
     "execution_count": 18,
     "metadata": {},
     "output_type": "execute_result"
    }
   ],
   "source": [
    "hd.head()"
   ]
  },
  {
   "cell_type": "code",
   "execution_count": 19,
   "id": "80f05ff3",
   "metadata": {
    "execution": {
     "iopub.execute_input": "2021-08-15T15:32:24.052541Z",
     "iopub.status.busy": "2021-08-15T15:32:24.051440Z",
     "iopub.status.idle": "2021-08-15T15:32:24.059424Z",
     "shell.execute_reply": "2021-08-15T15:32:24.058849Z",
     "shell.execute_reply.started": "2021-08-15T15:31:49.796172Z"
    },
    "papermill": {
     "duration": 0.053434,
     "end_time": "2021-08-15T15:32:24.059569",
     "exception": false,
     "start_time": "2021-08-15T15:32:24.006135",
     "status": "completed"
    },
    "tags": []
   },
   "outputs": [],
   "source": [
    "hd1=hd.drop(['maintenanceAmount','deposit','property_age','totalFloor'],axis=1)"
   ]
  },
  {
   "cell_type": "code",
   "execution_count": 20,
   "id": "301bafdf",
   "metadata": {
    "execution": {
     "iopub.execute_input": "2021-08-15T15:32:24.146685Z",
     "iopub.status.busy": "2021-08-15T15:32:24.146004Z",
     "iopub.status.idle": "2021-08-15T15:32:24.154693Z",
     "shell.execute_reply": "2021-08-15T15:32:24.155177Z",
     "shell.execute_reply.started": "2021-08-15T15:31:49.811490Z"
    },
    "papermill": {
     "duration": 0.056282,
     "end_time": "2021-08-15T15:32:24.155365",
     "exception": false,
     "start_time": "2021-08-15T15:32:24.099083",
     "status": "completed"
    },
    "tags": []
   },
   "outputs": [
    {
     "data": {
      "text/html": [
       "<div>\n",
       "<style scoped>\n",
       "    .dataframe tbody tr th:only-of-type {\n",
       "        vertical-align: middle;\n",
       "    }\n",
       "\n",
       "    .dataframe tbody tr th {\n",
       "        vertical-align: top;\n",
       "    }\n",
       "\n",
       "    .dataframe thead th {\n",
       "        text-align: right;\n",
       "    }\n",
       "</style>\n",
       "<table border=\"1\" class=\"dataframe\">\n",
       "  <thead>\n",
       "    <tr style=\"text-align: right;\">\n",
       "      <th></th>\n",
       "      <th>bathroom</th>\n",
       "      <th>floor</th>\n",
       "      <th>localityId</th>\n",
       "      <th>parking</th>\n",
       "      <th>property_size</th>\n",
       "      <th>rent_amount</th>\n",
       "      <th>type_bhk</th>\n",
       "      <th>maintenance</th>\n",
       "    </tr>\n",
       "  </thead>\n",
       "  <tbody>\n",
       "    <tr>\n",
       "      <th>0</th>\n",
       "      <td>3</td>\n",
       "      <td>3</td>\n",
       "      <td>gachibowli_hyderabad</td>\n",
       "      <td>0</td>\n",
       "      <td>2200</td>\n",
       "      <td>28000</td>\n",
       "      <td>3.0</td>\n",
       "      <td>2000</td>\n",
       "    </tr>\n",
       "    <tr>\n",
       "      <th>1</th>\n",
       "      <td>2</td>\n",
       "      <td>2</td>\n",
       "      <td>chandrayangutta_hyderabad</td>\n",
       "      <td>1</td>\n",
       "      <td>1200</td>\n",
       "      <td>15000</td>\n",
       "      <td>3.0</td>\n",
       "      <td>0</td>\n",
       "    </tr>\n",
       "    <tr>\n",
       "      <th>2</th>\n",
       "      <td>3</td>\n",
       "      <td>0</td>\n",
       "      <td>manikonda_hyderabad</td>\n",
       "      <td>0</td>\n",
       "      <td>1800</td>\n",
       "      <td>16000</td>\n",
       "      <td>3.0</td>\n",
       "      <td>1000</td>\n",
       "    </tr>\n",
       "    <tr>\n",
       "      <th>3</th>\n",
       "      <td>2</td>\n",
       "      <td>2</td>\n",
       "      <td>NOT_FOUND</td>\n",
       "      <td>0</td>\n",
       "      <td>750</td>\n",
       "      <td>9000</td>\n",
       "      <td>2.0</td>\n",
       "      <td>500</td>\n",
       "    </tr>\n",
       "    <tr>\n",
       "      <th>4</th>\n",
       "      <td>2</td>\n",
       "      <td>2</td>\n",
       "      <td>hitech_city_hyderabad</td>\n",
       "      <td>0</td>\n",
       "      <td>1250</td>\n",
       "      <td>32500</td>\n",
       "      <td>2.0</td>\n",
       "      <td>2000</td>\n",
       "    </tr>\n",
       "  </tbody>\n",
       "</table>\n",
       "</div>"
      ],
      "text/plain": [
       "   bathroom  floor                 localityId  parking  property_size  \\\n",
       "0         3      3       gachibowli_hyderabad        0           2200   \n",
       "1         2      2  chandrayangutta_hyderabad        1           1200   \n",
       "2         3      0        manikonda_hyderabad        0           1800   \n",
       "3         2      2                  NOT_FOUND        0            750   \n",
       "4         2      2      hitech_city_hyderabad        0           1250   \n",
       "\n",
       "   rent_amount  type_bhk  maintenance  \n",
       "0        28000       3.0         2000  \n",
       "1        15000       3.0            0  \n",
       "2        16000       3.0         1000  \n",
       "3         9000       2.0          500  \n",
       "4        32500       2.0         2000  "
      ]
     },
     "execution_count": 20,
     "metadata": {},
     "output_type": "execute_result"
    }
   ],
   "source": [
    "hd1.head()"
   ]
  },
  {
   "cell_type": "code",
   "execution_count": 21,
   "id": "253d9c97",
   "metadata": {
    "execution": {
     "iopub.execute_input": "2021-08-15T15:32:24.242546Z",
     "iopub.status.busy": "2021-08-15T15:32:24.241812Z",
     "iopub.status.idle": "2021-08-15T15:32:24.256062Z",
     "shell.execute_reply": "2021-08-15T15:32:24.255266Z",
     "shell.execute_reply.started": "2021-08-15T15:31:49.829952Z"
    },
    "papermill": {
     "duration": 0.061207,
     "end_time": "2021-08-15T15:32:24.256255",
     "exception": false,
     "start_time": "2021-08-15T15:32:24.195048",
     "status": "completed"
    },
    "tags": []
   },
   "outputs": [
    {
     "name": "stdout",
     "output_type": "stream",
     "text": [
      "<class 'pandas.core.frame.DataFrame'>\n",
      "RangeIndex: 19110 entries, 0 to 19109\n",
      "Data columns (total 8 columns):\n",
      " #   Column         Non-Null Count  Dtype  \n",
      "---  ------         --------------  -----  \n",
      " 0   bathroom       19110 non-null  int64  \n",
      " 1   floor          19110 non-null  int64  \n",
      " 2   localityId     19110 non-null  object \n",
      " 3   parking        19110 non-null  int64  \n",
      " 4   property_size  19110 non-null  int64  \n",
      " 5   rent_amount    19110 non-null  int64  \n",
      " 6   type_bhk       19110 non-null  float64\n",
      " 7   maintenance    19110 non-null  int64  \n",
      "dtypes: float64(1), int64(6), object(1)\n",
      "memory usage: 1.2+ MB\n"
     ]
    }
   ],
   "source": [
    "hd1.info()"
   ]
  },
  {
   "cell_type": "markdown",
   "id": "8508f53b",
   "metadata": {
    "papermill": {
     "duration": 0.039848,
     "end_time": "2021-08-15T15:32:24.336868",
     "exception": false,
     "start_time": "2021-08-15T15:32:24.297020",
     "status": "completed"
    },
    "tags": []
   },
   "source": [
    "# Feature Engineering"
   ]
  },
  {
   "cell_type": "code",
   "execution_count": 22,
   "id": "945ff3dc",
   "metadata": {
    "execution": {
     "iopub.execute_input": "2021-08-15T15:32:24.422748Z",
     "iopub.status.busy": "2021-08-15T15:32:24.422061Z",
     "iopub.status.idle": "2021-08-15T15:32:24.454245Z",
     "shell.execute_reply": "2021-08-15T15:32:24.453647Z",
     "shell.execute_reply.started": "2021-08-15T15:31:49.852297Z"
    },
    "papermill": {
     "duration": 0.076574,
     "end_time": "2021-08-15T15:32:24.454418",
     "exception": false,
     "start_time": "2021-08-15T15:32:24.377844",
     "status": "completed"
    },
    "tags": []
   },
   "outputs": [
    {
     "data": {
      "text/html": [
       "<div>\n",
       "<style scoped>\n",
       "    .dataframe tbody tr th:only-of-type {\n",
       "        vertical-align: middle;\n",
       "    }\n",
       "\n",
       "    .dataframe tbody tr th {\n",
       "        vertical-align: top;\n",
       "    }\n",
       "\n",
       "    .dataframe thead th {\n",
       "        text-align: right;\n",
       "    }\n",
       "</style>\n",
       "<table border=\"1\" class=\"dataframe\">\n",
       "  <thead>\n",
       "    <tr style=\"text-align: right;\">\n",
       "      <th></th>\n",
       "      <th>bathroom</th>\n",
       "      <th>floor</th>\n",
       "      <th>localityId</th>\n",
       "      <th>parking</th>\n",
       "      <th>property_size</th>\n",
       "      <th>rent_amount</th>\n",
       "      <th>type_bhk</th>\n",
       "      <th>maintenance</th>\n",
       "      <th>rent_per_sqft</th>\n",
       "    </tr>\n",
       "  </thead>\n",
       "  <tbody>\n",
       "    <tr>\n",
       "      <th>0</th>\n",
       "      <td>3</td>\n",
       "      <td>3</td>\n",
       "      <td>gachibowli_hyderabad</td>\n",
       "      <td>0</td>\n",
       "      <td>2200</td>\n",
       "      <td>28000</td>\n",
       "      <td>3.0</td>\n",
       "      <td>2000</td>\n",
       "      <td>12.727273</td>\n",
       "    </tr>\n",
       "    <tr>\n",
       "      <th>1</th>\n",
       "      <td>2</td>\n",
       "      <td>2</td>\n",
       "      <td>chandrayangutta_hyderabad</td>\n",
       "      <td>1</td>\n",
       "      <td>1200</td>\n",
       "      <td>15000</td>\n",
       "      <td>3.0</td>\n",
       "      <td>0</td>\n",
       "      <td>12.500000</td>\n",
       "    </tr>\n",
       "    <tr>\n",
       "      <th>2</th>\n",
       "      <td>3</td>\n",
       "      <td>0</td>\n",
       "      <td>manikonda_hyderabad</td>\n",
       "      <td>0</td>\n",
       "      <td>1800</td>\n",
       "      <td>16000</td>\n",
       "      <td>3.0</td>\n",
       "      <td>1000</td>\n",
       "      <td>8.888889</td>\n",
       "    </tr>\n",
       "    <tr>\n",
       "      <th>3</th>\n",
       "      <td>2</td>\n",
       "      <td>2</td>\n",
       "      <td>NOT_FOUND</td>\n",
       "      <td>0</td>\n",
       "      <td>750</td>\n",
       "      <td>9000</td>\n",
       "      <td>2.0</td>\n",
       "      <td>500</td>\n",
       "      <td>12.000000</td>\n",
       "    </tr>\n",
       "    <tr>\n",
       "      <th>4</th>\n",
       "      <td>2</td>\n",
       "      <td>2</td>\n",
       "      <td>hitech_city_hyderabad</td>\n",
       "      <td>0</td>\n",
       "      <td>1250</td>\n",
       "      <td>32500</td>\n",
       "      <td>2.0</td>\n",
       "      <td>2000</td>\n",
       "      <td>26.000000</td>\n",
       "    </tr>\n",
       "  </tbody>\n",
       "</table>\n",
       "</div>"
      ],
      "text/plain": [
       "   bathroom  floor                 localityId  parking  property_size  \\\n",
       "0         3      3       gachibowli_hyderabad        0           2200   \n",
       "1         2      2  chandrayangutta_hyderabad        1           1200   \n",
       "2         3      0        manikonda_hyderabad        0           1800   \n",
       "3         2      2                  NOT_FOUND        0            750   \n",
       "4         2      2      hitech_city_hyderabad        0           1250   \n",
       "\n",
       "   rent_amount  type_bhk  maintenance  rent_per_sqft  \n",
       "0        28000       3.0         2000      12.727273  \n",
       "1        15000       3.0            0      12.500000  \n",
       "2        16000       3.0         1000       8.888889  \n",
       "3         9000       2.0          500      12.000000  \n",
       "4        32500       2.0         2000      26.000000  "
      ]
     },
     "execution_count": 22,
     "metadata": {},
     "output_type": "execute_result"
    }
   ],
   "source": [
    "hd2=hd1.copy()\n",
    "hd2['rent_per_sqft']=hd2['rent_amount']/hd2['property_size']\n",
    "hd2.head()"
   ]
  },
  {
   "cell_type": "code",
   "execution_count": 23,
   "id": "a22c4ba2",
   "metadata": {
    "execution": {
     "iopub.execute_input": "2021-08-15T15:32:24.548296Z",
     "iopub.status.busy": "2021-08-15T15:32:24.547285Z",
     "iopub.status.idle": "2021-08-15T15:32:24.559434Z",
     "shell.execute_reply": "2021-08-15T15:32:24.558764Z",
     "shell.execute_reply.started": "2021-08-15T15:31:49.872002Z"
    },
    "papermill": {
     "duration": 0.059735,
     "end_time": "2021-08-15T15:32:24.559581",
     "exception": false,
     "start_time": "2021-08-15T15:32:24.499846",
     "status": "completed"
    },
    "tags": []
   },
   "outputs": [
    {
     "data": {
      "text/plain": [
       "localityId\n",
       "NOT_FOUND                                 3491\n",
       "kondapur_hyderabad                        1338\n",
       "kukatpally_hyderabad                      1146\n",
       "miyapur_hyderabad                          721\n",
       "hafeezpet_hyderabad                        663\n",
       "                                          ... \n",
       "maharaja_ranjeet_singh_nagar_hyderabad       1\n",
       "majeedpur_hyderabad                          1\n",
       "chanchalguda_hyderabad                       1\n",
       "east_bahadurpura_hyderabad                   1\n",
       "asmangadh_hyderabad                          1\n",
       "Name: localityId, Length: 269, dtype: int64"
      ]
     },
     "execution_count": 23,
     "metadata": {},
     "output_type": "execute_result"
    }
   ],
   "source": [
    "location_stats=hd2.groupby('localityId')['localityId'].agg('count').sort_values(ascending=False)\n",
    "location_stats"
   ]
  },
  {
   "cell_type": "code",
   "execution_count": 24,
   "id": "cb4d4279",
   "metadata": {
    "execution": {
     "iopub.execute_input": "2021-08-15T15:32:24.648737Z",
     "iopub.status.busy": "2021-08-15T15:32:24.647792Z",
     "iopub.status.idle": "2021-08-15T15:32:24.652183Z",
     "shell.execute_reply": "2021-08-15T15:32:24.651561Z",
     "shell.execute_reply.started": "2021-08-15T15:31:49.892743Z"
    },
    "papermill": {
     "duration": 0.051174,
     "end_time": "2021-08-15T15:32:24.652322",
     "exception": false,
     "start_time": "2021-08-15T15:32:24.601148",
     "status": "completed"
    },
    "tags": []
   },
   "outputs": [
    {
     "data": {
      "text/plain": [
       "119"
      ]
     },
     "execution_count": 24,
     "metadata": {},
     "output_type": "execute_result"
    }
   ],
   "source": [
    "len(location_stats[location_stats<=10])"
   ]
  },
  {
   "cell_type": "code",
   "execution_count": 25,
   "id": "3d9017fd",
   "metadata": {
    "execution": {
     "iopub.execute_input": "2021-08-15T15:32:24.742878Z",
     "iopub.status.busy": "2021-08-15T15:32:24.742051Z",
     "iopub.status.idle": "2021-08-15T15:32:24.746056Z",
     "shell.execute_reply": "2021-08-15T15:32:24.745501Z",
     "shell.execute_reply.started": "2021-08-15T15:31:49.901033Z"
    },
    "papermill": {
     "duration": 0.052476,
     "end_time": "2021-08-15T15:32:24.746195",
     "exception": false,
     "start_time": "2021-08-15T15:32:24.693719",
     "status": "completed"
    },
    "tags": []
   },
   "outputs": [
    {
     "data": {
      "text/plain": [
       "localityId\n",
       "bairagiguda_hyderabad                     10\n",
       "nampally_hyderabad                        10\n",
       "kanchan_bagh_hyderabad                    10\n",
       "koti_hyderabad                            10\n",
       "auto_nagar_hyderabad                      10\n",
       "                                          ..\n",
       "maharaja_ranjeet_singh_nagar_hyderabad     1\n",
       "majeedpur_hyderabad                        1\n",
       "chanchalguda_hyderabad                     1\n",
       "east_bahadurpura_hyderabad                 1\n",
       "asmangadh_hyderabad                        1\n",
       "Name: localityId, Length: 119, dtype: int64"
      ]
     },
     "execution_count": 25,
     "metadata": {},
     "output_type": "execute_result"
    }
   ],
   "source": [
    "location_less_than_10=location_stats[location_stats<=10]\n",
    "location_less_than_10"
   ]
  },
  {
   "cell_type": "code",
   "execution_count": 26,
   "id": "e902272e",
   "metadata": {
    "execution": {
     "iopub.execute_input": "2021-08-15T15:32:24.832653Z",
     "iopub.status.busy": "2021-08-15T15:32:24.832015Z",
     "iopub.status.idle": "2021-08-15T15:32:24.876082Z",
     "shell.execute_reply": "2021-08-15T15:32:24.875501Z",
     "shell.execute_reply.started": "2021-08-15T15:31:49.916977Z"
    },
    "papermill": {
     "duration": 0.088354,
     "end_time": "2021-08-15T15:32:24.876237",
     "exception": false,
     "start_time": "2021-08-15T15:32:24.787883",
     "status": "completed"
    },
    "tags": []
   },
   "outputs": [
    {
     "data": {
      "text/plain": [
       "NOT_FOUND                     3988\n",
       "kondapur_hyderabad            1338\n",
       "kukatpally_hyderabad          1146\n",
       "miyapur_hyderabad              721\n",
       "hafeezpet_hyderabad            663\n",
       "                              ... \n",
       "sri_nagar_colony_hyderabad      11\n",
       "buddha_nagar_hyderabad          11\n",
       "sivarampalli_hyderabad          11\n",
       "tukaram_gate_hyderabad          11\n",
       "chinthal_hyderabad              11\n",
       "Name: localityId, Length: 150, dtype: int64"
      ]
     },
     "execution_count": 26,
     "metadata": {},
     "output_type": "execute_result"
    }
   ],
   "source": [
    "hd2.localityId=hd2.localityId.apply(lambda x:'NOT_FOUND' if x  in location_less_than_10 else x)\n",
    "hd2['localityId'].value_counts()"
   ]
  },
  {
   "cell_type": "markdown",
   "id": "3c7920bd",
   "metadata": {
    "papermill": {
     "duration": 0.041772,
     "end_time": "2021-08-15T15:32:24.959875",
     "exception": false,
     "start_time": "2021-08-15T15:32:24.918103",
     "status": "completed"
    },
    "tags": []
   },
   "source": [
    "## outliner detection"
   ]
  },
  {
   "cell_type": "code",
   "execution_count": 27,
   "id": "fc9c8c2e",
   "metadata": {
    "execution": {
     "iopub.execute_input": "2021-08-15T15:32:25.050679Z",
     "iopub.status.busy": "2021-08-15T15:32:25.049562Z",
     "iopub.status.idle": "2021-08-15T15:32:25.073004Z",
     "shell.execute_reply": "2021-08-15T15:32:25.072432Z",
     "shell.execute_reply.started": "2021-08-15T15:31:49.970592Z"
    },
    "papermill": {
     "duration": 0.070596,
     "end_time": "2021-08-15T15:32:25.073158",
     "exception": false,
     "start_time": "2021-08-15T15:32:25.002562",
     "status": "completed"
    },
    "tags": []
   },
   "outputs": [
    {
     "data": {
      "text/html": [
       "<div>\n",
       "<style scoped>\n",
       "    .dataframe tbody tr th:only-of-type {\n",
       "        vertical-align: middle;\n",
       "    }\n",
       "\n",
       "    .dataframe tbody tr th {\n",
       "        vertical-align: top;\n",
       "    }\n",
       "\n",
       "    .dataframe thead th {\n",
       "        text-align: right;\n",
       "    }\n",
       "</style>\n",
       "<table border=\"1\" class=\"dataframe\">\n",
       "  <thead>\n",
       "    <tr style=\"text-align: right;\">\n",
       "      <th></th>\n",
       "      <th>bathroom</th>\n",
       "      <th>floor</th>\n",
       "      <th>localityId</th>\n",
       "      <th>parking</th>\n",
       "      <th>property_size</th>\n",
       "      <th>rent_amount</th>\n",
       "      <th>type_bhk</th>\n",
       "      <th>maintenance</th>\n",
       "      <th>rent_per_sqft</th>\n",
       "    </tr>\n",
       "  </thead>\n",
       "  <tbody>\n",
       "    <tr>\n",
       "      <th>582</th>\n",
       "      <td>1</td>\n",
       "      <td>0</td>\n",
       "      <td>serilingampally_hyderabad</td>\n",
       "      <td>1</td>\n",
       "      <td>100</td>\n",
       "      <td>5000</td>\n",
       "      <td>0.5</td>\n",
       "      <td>0</td>\n",
       "      <td>50.000000</td>\n",
       "    </tr>\n",
       "    <tr>\n",
       "      <th>647</th>\n",
       "      <td>1</td>\n",
       "      <td>1</td>\n",
       "      <td>miyapur_hyderabad</td>\n",
       "      <td>1</td>\n",
       "      <td>144</td>\n",
       "      <td>5500</td>\n",
       "      <td>0.5</td>\n",
       "      <td>0</td>\n",
       "      <td>38.194444</td>\n",
       "    </tr>\n",
       "    <tr>\n",
       "      <th>706</th>\n",
       "      <td>1</td>\n",
       "      <td>1</td>\n",
       "      <td>NOT_FOUND</td>\n",
       "      <td>3</td>\n",
       "      <td>100</td>\n",
       "      <td>4000</td>\n",
       "      <td>0.5</td>\n",
       "      <td>0</td>\n",
       "      <td>40.000000</td>\n",
       "    </tr>\n",
       "    <tr>\n",
       "      <th>719</th>\n",
       "      <td>2</td>\n",
       "      <td>6</td>\n",
       "      <td>NOT_FOUND</td>\n",
       "      <td>0</td>\n",
       "      <td>0</td>\n",
       "      <td>25000</td>\n",
       "      <td>2.0</td>\n",
       "      <td>2500</td>\n",
       "      <td>inf</td>\n",
       "    </tr>\n",
       "    <tr>\n",
       "      <th>734</th>\n",
       "      <td>1</td>\n",
       "      <td>1</td>\n",
       "      <td>NOT_FOUND</td>\n",
       "      <td>0</td>\n",
       "      <td>120</td>\n",
       "      <td>10000</td>\n",
       "      <td>0.5</td>\n",
       "      <td>1000</td>\n",
       "      <td>83.333333</td>\n",
       "    </tr>\n",
       "    <tr>\n",
       "      <th>...</th>\n",
       "      <td>...</td>\n",
       "      <td>...</td>\n",
       "      <td>...</td>\n",
       "      <td>...</td>\n",
       "      <td>...</td>\n",
       "      <td>...</td>\n",
       "      <td>...</td>\n",
       "      <td>...</td>\n",
       "      <td>...</td>\n",
       "    </tr>\n",
       "    <tr>\n",
       "      <th>18845</th>\n",
       "      <td>1</td>\n",
       "      <td>5</td>\n",
       "      <td>hafeezpet_hyderabad</td>\n",
       "      <td>0</td>\n",
       "      <td>500</td>\n",
       "      <td>8000</td>\n",
       "      <td>2.0</td>\n",
       "      <td>720</td>\n",
       "      <td>16.000000</td>\n",
       "    </tr>\n",
       "    <tr>\n",
       "      <th>18846</th>\n",
       "      <td>1</td>\n",
       "      <td>0</td>\n",
       "      <td>padmarao_nagar_hyderabad</td>\n",
       "      <td>1</td>\n",
       "      <td>250</td>\n",
       "      <td>5000</td>\n",
       "      <td>1.0</td>\n",
       "      <td>500</td>\n",
       "      <td>20.000000</td>\n",
       "    </tr>\n",
       "    <tr>\n",
       "      <th>18937</th>\n",
       "      <td>1</td>\n",
       "      <td>2</td>\n",
       "      <td>ramachandra_puram_hyderabad</td>\n",
       "      <td>1</td>\n",
       "      <td>200</td>\n",
       "      <td>8000</td>\n",
       "      <td>1.0</td>\n",
       "      <td>0</td>\n",
       "      <td>40.000000</td>\n",
       "    </tr>\n",
       "    <tr>\n",
       "      <th>18977</th>\n",
       "      <td>2</td>\n",
       "      <td>1</td>\n",
       "      <td>nallagandla_hyderabad</td>\n",
       "      <td>0</td>\n",
       "      <td>400</td>\n",
       "      <td>15000</td>\n",
       "      <td>2.0</td>\n",
       "      <td>550</td>\n",
       "      <td>37.500000</td>\n",
       "    </tr>\n",
       "    <tr>\n",
       "      <th>19020</th>\n",
       "      <td>2</td>\n",
       "      <td>1</td>\n",
       "      <td>NOT_FOUND</td>\n",
       "      <td>0</td>\n",
       "      <td>0</td>\n",
       "      <td>12000</td>\n",
       "      <td>3.0</td>\n",
       "      <td>0</td>\n",
       "      <td>inf</td>\n",
       "    </tr>\n",
       "  </tbody>\n",
       "</table>\n",
       "<p>349 rows × 9 columns</p>\n",
       "</div>"
      ],
      "text/plain": [
       "       bathroom  floor                   localityId  parking  property_size  \\\n",
       "582           1      0    serilingampally_hyderabad        1            100   \n",
       "647           1      1            miyapur_hyderabad        1            144   \n",
       "706           1      1                    NOT_FOUND        3            100   \n",
       "719           2      6                    NOT_FOUND        0              0   \n",
       "734           1      1                    NOT_FOUND        0            120   \n",
       "...         ...    ...                          ...      ...            ...   \n",
       "18845         1      5          hafeezpet_hyderabad        0            500   \n",
       "18846         1      0     padmarao_nagar_hyderabad        1            250   \n",
       "18937         1      2  ramachandra_puram_hyderabad        1            200   \n",
       "18977         2      1        nallagandla_hyderabad        0            400   \n",
       "19020         2      1                    NOT_FOUND        0              0   \n",
       "\n",
       "       rent_amount  type_bhk  maintenance  rent_per_sqft  \n",
       "582           5000       0.5            0      50.000000  \n",
       "647           5500       0.5            0      38.194444  \n",
       "706           4000       0.5            0      40.000000  \n",
       "719          25000       2.0         2500            inf  \n",
       "734          10000       0.5         1000      83.333333  \n",
       "...            ...       ...          ...            ...  \n",
       "18845         8000       2.0          720      16.000000  \n",
       "18846         5000       1.0          500      20.000000  \n",
       "18937         8000       1.0            0      40.000000  \n",
       "18977        15000       2.0          550      37.500000  \n",
       "19020        12000       3.0            0            inf  \n",
       "\n",
       "[349 rows x 9 columns]"
      ]
     },
     "execution_count": 27,
     "metadata": {},
     "output_type": "execute_result"
    }
   ],
   "source": [
    "hd2[hd2.property_size/hd2.type_bhk<300]"
   ]
  },
  {
   "cell_type": "code",
   "execution_count": 28,
   "id": "3b277b4a",
   "metadata": {
    "execution": {
     "iopub.execute_input": "2021-08-15T15:32:25.166125Z",
     "iopub.status.busy": "2021-08-15T15:32:25.165480Z",
     "iopub.status.idle": "2021-08-15T15:32:25.168954Z",
     "shell.execute_reply": "2021-08-15T15:32:25.168436Z",
     "shell.execute_reply.started": "2021-08-15T15:31:49.998004Z"
    },
    "papermill": {
     "duration": 0.052068,
     "end_time": "2021-08-15T15:32:25.169095",
     "exception": false,
     "start_time": "2021-08-15T15:32:25.117027",
     "status": "completed"
    },
    "tags": []
   },
   "outputs": [
    {
     "data": {
      "text/plain": [
       "(19110, 9)"
      ]
     },
     "execution_count": 28,
     "metadata": {},
     "output_type": "execute_result"
    }
   ],
   "source": [
    "hd2.shape"
   ]
  },
  {
   "cell_type": "code",
   "execution_count": 29,
   "id": "bb4d7a31",
   "metadata": {
    "execution": {
     "iopub.execute_input": "2021-08-15T15:32:25.260732Z",
     "iopub.status.busy": "2021-08-15T15:32:25.260037Z",
     "iopub.status.idle": "2021-08-15T15:32:25.267090Z",
     "shell.execute_reply": "2021-08-15T15:32:25.266477Z",
     "shell.execute_reply.started": "2021-08-15T15:31:50.005947Z"
    },
    "papermill": {
     "duration": 0.055088,
     "end_time": "2021-08-15T15:32:25.267227",
     "exception": false,
     "start_time": "2021-08-15T15:32:25.212139",
     "status": "completed"
    },
    "tags": []
   },
   "outputs": [
    {
     "data": {
      "text/plain": [
       "(18761, 9)"
      ]
     },
     "execution_count": 29,
     "metadata": {},
     "output_type": "execute_result"
    }
   ],
   "source": [
    "hd3=hd2[~(hd2.property_size/hd2.type_bhk<300)]\n",
    "hd3.shape"
   ]
  },
  {
   "cell_type": "code",
   "execution_count": 30,
   "id": "0cb83520",
   "metadata": {
    "execution": {
     "iopub.execute_input": "2021-08-15T15:32:25.359445Z",
     "iopub.status.busy": "2021-08-15T15:32:25.358706Z",
     "iopub.status.idle": "2021-08-15T15:32:25.370369Z",
     "shell.execute_reply": "2021-08-15T15:32:25.369781Z",
     "shell.execute_reply.started": "2021-08-15T15:31:50.024605Z"
    },
    "papermill": {
     "duration": 0.059837,
     "end_time": "2021-08-15T15:32:25.370538",
     "exception": false,
     "start_time": "2021-08-15T15:32:25.310701",
     "status": "completed"
    },
    "tags": []
   },
   "outputs": [
    {
     "data": {
      "text/plain": [
       "count    18761.000000\n",
       "mean        14.520746\n",
       "std          6.085518\n",
       "min          0.000000\n",
       "25%         10.666667\n",
       "50%         13.500000\n",
       "75%         17.000000\n",
       "max        120.000000\n",
       "Name: rent_per_sqft, dtype: float64"
      ]
     },
     "execution_count": 30,
     "metadata": {},
     "output_type": "execute_result"
    }
   ],
   "source": [
    "hd3.rent_per_sqft.describe()"
   ]
  },
  {
   "cell_type": "code",
   "execution_count": 31,
   "id": "9b7a4f3e",
   "metadata": {
    "execution": {
     "iopub.execute_input": "2021-08-15T15:32:25.472605Z",
     "iopub.status.busy": "2021-08-15T15:32:25.471871Z",
     "iopub.status.idle": "2021-08-15T15:32:26.053777Z",
     "shell.execute_reply": "2021-08-15T15:32:26.054317Z",
     "shell.execute_reply.started": "2021-08-15T15:31:50.038944Z"
    },
    "papermill": {
     "duration": 0.635963,
     "end_time": "2021-08-15T15:32:26.054513",
     "exception": false,
     "start_time": "2021-08-15T15:32:25.418550",
     "status": "completed"
    },
    "tags": []
   },
   "outputs": [
    {
     "data": {
      "text/plain": [
       "(14819, 9)"
      ]
     },
     "execution_count": 31,
     "metadata": {},
     "output_type": "execute_result"
    }
   ],
   "source": [
    "def remove_pps_outliers (df):\n",
    "    df_out = pd.DataFrame()\n",
    "    for key,subdf in df.groupby('localityId'):\n",
    "        m=np.mean(subdf.rent_per_sqft)\n",
    "        st=np.std(subdf.rent_per_sqft) \n",
    "        reduced_df=subdf[(subdf.rent_per_sqft>(m-st))&(subdf.rent_per_sqft<=(m+st))]\n",
    "        df_out=pd.concat([df_out,reduced_df],ignore_index=True)\n",
    "    return df_out\n",
    "hd4=remove_pps_outliers(hd3)\n",
    "hd4.shape"
   ]
  },
  {
   "cell_type": "code",
   "execution_count": 32,
   "id": "67d0a43c",
   "metadata": {
    "execution": {
     "iopub.execute_input": "2021-08-15T15:32:26.150256Z",
     "iopub.status.busy": "2021-08-15T15:32:26.149594Z",
     "iopub.status.idle": "2021-08-15T15:32:26.152390Z",
     "shell.execute_reply": "2021-08-15T15:32:26.151751Z",
     "shell.execute_reply.started": "2021-08-15T15:31:50.639281Z"
    },
    "papermill": {
     "duration": 0.053753,
     "end_time": "2021-08-15T15:32:26.152532",
     "exception": false,
     "start_time": "2021-08-15T15:32:26.098779",
     "status": "completed"
    },
    "tags": []
   },
   "outputs": [],
   "source": [
    "import matplotlib as mpl\n",
    "from matplotlib import pyplot as plt\n",
    "%matplotlib inline\n"
   ]
  },
  {
   "cell_type": "code",
   "execution_count": 33,
   "id": "0b3a5f85",
   "metadata": {
    "execution": {
     "iopub.execute_input": "2021-08-15T15:32:26.243356Z",
     "iopub.status.busy": "2021-08-15T15:32:26.242745Z",
     "iopub.status.idle": "2021-08-15T15:32:26.518514Z",
     "shell.execute_reply": "2021-08-15T15:32:26.519095Z",
     "shell.execute_reply.started": "2021-08-15T15:31:50.646811Z"
    },
    "papermill": {
     "duration": 0.32271,
     "end_time": "2021-08-15T15:32:26.519275",
     "exception": false,
     "start_time": "2021-08-15T15:32:26.196565",
     "status": "completed"
    },
    "tags": []
   },
   "outputs": [
    {
     "data": {
      "text/plain": [
       "Text(0.5, 1.0, 'distribution of data')"
      ]
     },
     "execution_count": 33,
     "metadata": {},
     "output_type": "execute_result"
    },
    {
     "data": {
      "image/png": "[encoded data removed]",
      "text/plain": [
       "<Figure size 1440x720 with 1 Axes>"
      ]
     },
     "metadata": {
      "needs_background": "light"
     },
     "output_type": "display_data"
    }
   ],
   "source": [
    "mpl.rcParams['figure.figsize']=(20,10)\n",
    "plt.hist(hd4.rent_per_sqft,rwidth=0.8)\n",
    "plt.xlabel('price per sqft')\n",
    "plt.ylabel('count')\n",
    "plt.title('distribution of data')"
   ]
  },
  {
   "cell_type": "code",
   "execution_count": 34,
   "id": "a96159e3",
   "metadata": {
    "execution": {
     "iopub.execute_input": "2021-08-15T15:32:26.613122Z",
     "iopub.status.busy": "2021-08-15T15:32:26.612528Z",
     "iopub.status.idle": "2021-08-15T15:32:26.619974Z",
     "shell.execute_reply": "2021-08-15T15:32:26.619478Z",
     "shell.execute_reply.started": "2021-08-15T15:31:50.881109Z"
    },
    "papermill": {
     "duration": 0.0554,
     "end_time": "2021-08-15T15:32:26.620144",
     "exception": false,
     "start_time": "2021-08-15T15:32:26.564744",
     "status": "completed"
    },
    "tags": []
   },
   "outputs": [
    {
     "data": {
      "text/plain": [
       "array([2, 3, 1, 4, 5, 7, 8, 6], dtype=int64)"
      ]
     },
     "execution_count": 34,
     "metadata": {},
     "output_type": "execute_result"
    }
   ],
   "source": [
    "hd4.bathroom.unique()"
   ]
  },
  {
   "cell_type": "code",
   "execution_count": 35,
   "id": "692180b6",
   "metadata": {
    "execution": {
     "iopub.execute_input": "2021-08-15T15:32:26.718002Z",
     "iopub.status.busy": "2021-08-15T15:32:26.717274Z",
     "iopub.status.idle": "2021-08-15T15:32:26.744894Z",
     "shell.execute_reply": "2021-08-15T15:32:26.744260Z",
     "shell.execute_reply.started": "2021-08-15T15:31:50.889361Z"
    },
    "papermill": {
     "duration": 0.078843,
     "end_time": "2021-08-15T15:32:26.745028",
     "exception": false,
     "start_time": "2021-08-15T15:32:26.666185",
     "status": "completed"
    },
    "tags": []
   },
   "outputs": [
    {
     "data": {
      "text/html": [
       "<div>\n",
       "<style scoped>\n",
       "    .dataframe tbody tr th:only-of-type {\n",
       "        vertical-align: middle;\n",
       "    }\n",
       "\n",
       "    .dataframe tbody tr th {\n",
       "        vertical-align: top;\n",
       "    }\n",
       "\n",
       "    .dataframe thead th {\n",
       "        text-align: right;\n",
       "    }\n",
       "</style>\n",
       "<table border=\"1\" class=\"dataframe\">\n",
       "  <thead>\n",
       "    <tr style=\"text-align: right;\">\n",
       "      <th></th>\n",
       "      <th>bathroom</th>\n",
       "      <th>floor</th>\n",
       "      <th>localityId</th>\n",
       "      <th>parking</th>\n",
       "      <th>property_size</th>\n",
       "      <th>rent_amount</th>\n",
       "      <th>type_bhk</th>\n",
       "      <th>maintenance</th>\n",
       "      <th>rent_per_sqft</th>\n",
       "    </tr>\n",
       "  </thead>\n",
       "  <tbody>\n",
       "    <tr>\n",
       "      <th>308</th>\n",
       "      <td>7</td>\n",
       "      <td>0</td>\n",
       "      <td>NOT_FOUND</td>\n",
       "      <td>1</td>\n",
       "      <td>3600</td>\n",
       "      <td>36000</td>\n",
       "      <td>5.0</td>\n",
       "      <td>2000</td>\n",
       "      <td>10.000000</td>\n",
       "    </tr>\n",
       "    <tr>\n",
       "      <th>611</th>\n",
       "      <td>5</td>\n",
       "      <td>0</td>\n",
       "      <td>NOT_FOUND</td>\n",
       "      <td>0</td>\n",
       "      <td>2750</td>\n",
       "      <td>35000</td>\n",
       "      <td>3.0</td>\n",
       "      <td>6000</td>\n",
       "      <td>12.727273</td>\n",
       "    </tr>\n",
       "    <tr>\n",
       "      <th>619</th>\n",
       "      <td>3</td>\n",
       "      <td>2</td>\n",
       "      <td>NOT_FOUND</td>\n",
       "      <td>3</td>\n",
       "      <td>400</td>\n",
       "      <td>7000</td>\n",
       "      <td>1.0</td>\n",
       "      <td>100</td>\n",
       "      <td>17.500000</td>\n",
       "    </tr>\n",
       "    <tr>\n",
       "      <th>641</th>\n",
       "      <td>2</td>\n",
       "      <td>0</td>\n",
       "      <td>NOT_FOUND</td>\n",
       "      <td>1</td>\n",
       "      <td>400</td>\n",
       "      <td>3500</td>\n",
       "      <td>0.5</td>\n",
       "      <td>0</td>\n",
       "      <td>8.750000</td>\n",
       "    </tr>\n",
       "    <tr>\n",
       "      <th>1160</th>\n",
       "      <td>8</td>\n",
       "      <td>0</td>\n",
       "      <td>NOT_FOUND</td>\n",
       "      <td>0</td>\n",
       "      <td>3800</td>\n",
       "      <td>40000</td>\n",
       "      <td>5.0</td>\n",
       "      <td>0</td>\n",
       "      <td>10.526316</td>\n",
       "    </tr>\n",
       "    <tr>\n",
       "      <th>1571</th>\n",
       "      <td>5</td>\n",
       "      <td>4</td>\n",
       "      <td>NOT_FOUND</td>\n",
       "      <td>0</td>\n",
       "      <td>2680</td>\n",
       "      <td>45000</td>\n",
       "      <td>3.0</td>\n",
       "      <td>7000</td>\n",
       "      <td>16.791045</td>\n",
       "    </tr>\n",
       "    <tr>\n",
       "      <th>1975</th>\n",
       "      <td>7</td>\n",
       "      <td>0</td>\n",
       "      <td>NOT_FOUND</td>\n",
       "      <td>0</td>\n",
       "      <td>6200</td>\n",
       "      <td>55000</td>\n",
       "      <td>4.0</td>\n",
       "      <td>4000</td>\n",
       "      <td>8.870968</td>\n",
       "    </tr>\n",
       "    <tr>\n",
       "      <th>2061</th>\n",
       "      <td>2</td>\n",
       "      <td>1</td>\n",
       "      <td>NOT_FOUND</td>\n",
       "      <td>0</td>\n",
       "      <td>1150</td>\n",
       "      <td>22000</td>\n",
       "      <td>0.5</td>\n",
       "      <td>0</td>\n",
       "      <td>19.130435</td>\n",
       "    </tr>\n",
       "    <tr>\n",
       "      <th>2117</th>\n",
       "      <td>5</td>\n",
       "      <td>10</td>\n",
       "      <td>NOT_FOUND</td>\n",
       "      <td>2</td>\n",
       "      <td>3265</td>\n",
       "      <td>60000</td>\n",
       "      <td>3.0</td>\n",
       "      <td>8000</td>\n",
       "      <td>18.376723</td>\n",
       "    </tr>\n",
       "    <tr>\n",
       "      <th>2805</th>\n",
       "      <td>5</td>\n",
       "      <td>8</td>\n",
       "      <td>NOT_FOUND</td>\n",
       "      <td>0</td>\n",
       "      <td>2800</td>\n",
       "      <td>40000</td>\n",
       "      <td>3.0</td>\n",
       "      <td>7000</td>\n",
       "      <td>14.285714</td>\n",
       "    </tr>\n",
       "    <tr>\n",
       "      <th>4244</th>\n",
       "      <td>7</td>\n",
       "      <td>0</td>\n",
       "      <td>borabanda_hyderabad</td>\n",
       "      <td>1</td>\n",
       "      <td>3250</td>\n",
       "      <td>40000</td>\n",
       "      <td>5.0</td>\n",
       "      <td>0</td>\n",
       "      <td>12.307692</td>\n",
       "    </tr>\n",
       "    <tr>\n",
       "      <th>4355</th>\n",
       "      <td>7</td>\n",
       "      <td>0</td>\n",
       "      <td>east_marredpally_hyderabad</td>\n",
       "      <td>0</td>\n",
       "      <td>6000</td>\n",
       "      <td>65000</td>\n",
       "      <td>5.0</td>\n",
       "      <td>2500</td>\n",
       "      <td>10.833333</td>\n",
       "    </tr>\n",
       "    <tr>\n",
       "      <th>4395</th>\n",
       "      <td>2</td>\n",
       "      <td>3</td>\n",
       "      <td>erragadda_hyderabad</td>\n",
       "      <td>1</td>\n",
       "      <td>500</td>\n",
       "      <td>8000</td>\n",
       "      <td>0.5</td>\n",
       "      <td>0</td>\n",
       "      <td>16.000000</td>\n",
       "    </tr>\n",
       "    <tr>\n",
       "      <th>4745</th>\n",
       "      <td>8</td>\n",
       "      <td>0</td>\n",
       "      <td>gachibowli_hyderabad</td>\n",
       "      <td>0</td>\n",
       "      <td>4500</td>\n",
       "      <td>100000</td>\n",
       "      <td>5.0</td>\n",
       "      <td>0</td>\n",
       "      <td>22.222222</td>\n",
       "    </tr>\n",
       "    <tr>\n",
       "      <th>4879</th>\n",
       "      <td>6</td>\n",
       "      <td>0</td>\n",
       "      <td>gopanapalli_hyderabad</td>\n",
       "      <td>0</td>\n",
       "      <td>2250</td>\n",
       "      <td>32000</td>\n",
       "      <td>4.0</td>\n",
       "      <td>0</td>\n",
       "      <td>14.222222</td>\n",
       "    </tr>\n",
       "    <tr>\n",
       "      <th>5638</th>\n",
       "      <td>8</td>\n",
       "      <td>0</td>\n",
       "      <td>himayath_nagar_hyderabad</td>\n",
       "      <td>0</td>\n",
       "      <td>3000</td>\n",
       "      <td>60000</td>\n",
       "      <td>5.0</td>\n",
       "      <td>0</td>\n",
       "      <td>20.000000</td>\n",
       "    </tr>\n",
       "    <tr>\n",
       "      <th>5653</th>\n",
       "      <td>2</td>\n",
       "      <td>1</td>\n",
       "      <td>himayath_nagar_hyderabad</td>\n",
       "      <td>1</td>\n",
       "      <td>400</td>\n",
       "      <td>10000</td>\n",
       "      <td>0.5</td>\n",
       "      <td>0</td>\n",
       "      <td>25.000000</td>\n",
       "    </tr>\n",
       "    <tr>\n",
       "      <th>6443</th>\n",
       "      <td>6</td>\n",
       "      <td>0</td>\n",
       "      <td>jubilee_hills_hyderabad</td>\n",
       "      <td>0</td>\n",
       "      <td>3400</td>\n",
       "      <td>65000</td>\n",
       "      <td>4.0</td>\n",
       "      <td>5000</td>\n",
       "      <td>19.117647</td>\n",
       "    </tr>\n",
       "    <tr>\n",
       "      <th>6627</th>\n",
       "      <td>5</td>\n",
       "      <td>0</td>\n",
       "      <td>karkhana_hyderabad</td>\n",
       "      <td>0</td>\n",
       "      <td>3600</td>\n",
       "      <td>36000</td>\n",
       "      <td>3.0</td>\n",
       "      <td>0</td>\n",
       "      <td>10.000000</td>\n",
       "    </tr>\n",
       "    <tr>\n",
       "      <th>6744</th>\n",
       "      <td>2</td>\n",
       "      <td>0</td>\n",
       "      <td>kismatpur_hyderabad</td>\n",
       "      <td>1</td>\n",
       "      <td>300</td>\n",
       "      <td>3500</td>\n",
       "      <td>0.5</td>\n",
       "      <td>500</td>\n",
       "      <td>11.666667</td>\n",
       "    </tr>\n",
       "    <tr>\n",
       "      <th>8036</th>\n",
       "      <td>2</td>\n",
       "      <td>4</td>\n",
       "      <td>kothaguda_hyderabad</td>\n",
       "      <td>1</td>\n",
       "      <td>450</td>\n",
       "      <td>9000</td>\n",
       "      <td>0.5</td>\n",
       "      <td>500</td>\n",
       "      <td>20.000000</td>\n",
       "    </tr>\n",
       "    <tr>\n",
       "      <th>9812</th>\n",
       "      <td>6</td>\n",
       "      <td>4</td>\n",
       "      <td>manikonda_hyderabad</td>\n",
       "      <td>0</td>\n",
       "      <td>1140</td>\n",
       "      <td>17500</td>\n",
       "      <td>2.0</td>\n",
       "      <td>1500</td>\n",
       "      <td>15.350877</td>\n",
       "    </tr>\n",
       "    <tr>\n",
       "      <th>10032</th>\n",
       "      <td>2</td>\n",
       "      <td>3</td>\n",
       "      <td>mehdipatnam_hyderabad</td>\n",
       "      <td>1</td>\n",
       "      <td>375</td>\n",
       "      <td>7000</td>\n",
       "      <td>0.5</td>\n",
       "      <td>500</td>\n",
       "      <td>18.666667</td>\n",
       "    </tr>\n",
       "    <tr>\n",
       "      <th>11039</th>\n",
       "      <td>2</td>\n",
       "      <td>1</td>\n",
       "      <td>nallakunta_hyderabad</td>\n",
       "      <td>1</td>\n",
       "      <td>300</td>\n",
       "      <td>3500</td>\n",
       "      <td>0.5</td>\n",
       "      <td>0</td>\n",
       "      <td>11.666667</td>\n",
       "    </tr>\n",
       "    <tr>\n",
       "      <th>11120</th>\n",
       "      <td>5</td>\n",
       "      <td>5</td>\n",
       "      <td>nanakram_guda_hyderabad</td>\n",
       "      <td>0</td>\n",
       "      <td>2140</td>\n",
       "      <td>50000</td>\n",
       "      <td>3.0</td>\n",
       "      <td>7000</td>\n",
       "      <td>23.364486</td>\n",
       "    </tr>\n",
       "    <tr>\n",
       "      <th>11173</th>\n",
       "      <td>5</td>\n",
       "      <td>3</td>\n",
       "      <td>nanakram_guda_hyderabad</td>\n",
       "      <td>0</td>\n",
       "      <td>2800</td>\n",
       "      <td>58000</td>\n",
       "      <td>3.0</td>\n",
       "      <td>7000</td>\n",
       "      <td>20.714286</td>\n",
       "    </tr>\n",
       "    <tr>\n",
       "      <th>12426</th>\n",
       "      <td>2</td>\n",
       "      <td>0</td>\n",
       "      <td>quthbullapur_hyderabad</td>\n",
       "      <td>1</td>\n",
       "      <td>300</td>\n",
       "      <td>3000</td>\n",
       "      <td>0.5</td>\n",
       "      <td>0</td>\n",
       "      <td>10.000000</td>\n",
       "    </tr>\n",
       "    <tr>\n",
       "      <th>13226</th>\n",
       "      <td>6</td>\n",
       "      <td>0</td>\n",
       "      <td>sainikpuri_hyderabad</td>\n",
       "      <td>0</td>\n",
       "      <td>4000</td>\n",
       "      <td>50000</td>\n",
       "      <td>4.0</td>\n",
       "      <td>0</td>\n",
       "      <td>12.500000</td>\n",
       "    </tr>\n",
       "    <tr>\n",
       "      <th>13435</th>\n",
       "      <td>2</td>\n",
       "      <td>0</td>\n",
       "      <td>saroornagar_hyderabad</td>\n",
       "      <td>0</td>\n",
       "      <td>550</td>\n",
       "      <td>5000</td>\n",
       "      <td>0.5</td>\n",
       "      <td>0</td>\n",
       "      <td>9.090909</td>\n",
       "    </tr>\n",
       "    <tr>\n",
       "      <th>14472</th>\n",
       "      <td>4</td>\n",
       "      <td>0</td>\n",
       "      <td>upparpally_hyderabad</td>\n",
       "      <td>0</td>\n",
       "      <td>2500</td>\n",
       "      <td>25000</td>\n",
       "      <td>2.0</td>\n",
       "      <td>1000</td>\n",
       "      <td>10.000000</td>\n",
       "    </tr>\n",
       "  </tbody>\n",
       "</table>\n",
       "</div>"
      ],
      "text/plain": [
       "       bathroom  floor                  localityId  parking  property_size  \\\n",
       "308           7      0                   NOT_FOUND        1           3600   \n",
       "611           5      0                   NOT_FOUND        0           2750   \n",
       "619           3      2                   NOT_FOUND        3            400   \n",
       "641           2      0                   NOT_FOUND        1            400   \n",
       "1160          8      0                   NOT_FOUND        0           3800   \n",
       "1571          5      4                   NOT_FOUND        0           2680   \n",
       "1975          7      0                   NOT_FOUND        0           6200   \n",
       "2061          2      1                   NOT_FOUND        0           1150   \n",
       "2117          5     10                   NOT_FOUND        2           3265   \n",
       "2805          5      8                   NOT_FOUND        0           2800   \n",
       "4244          7      0         borabanda_hyderabad        1           3250   \n",
       "4355          7      0  east_marredpally_hyderabad        0           6000   \n",
       "4395          2      3         erragadda_hyderabad        1            500   \n",
       "4745          8      0        gachibowli_hyderabad        0           4500   \n",
       "4879          6      0       gopanapalli_hyderabad        0           2250   \n",
       "5638          8      0    himayath_nagar_hyderabad        0           3000   \n",
       "5653          2      1    himayath_nagar_hyderabad        1            400   \n",
       "6443          6      0     jubilee_hills_hyderabad        0           3400   \n",
       "6627          5      0          karkhana_hyderabad        0           3600   \n",
       "6744          2      0         kismatpur_hyderabad        1            300   \n",
       "8036          2      4         kothaguda_hyderabad        1            450   \n",
       "9812          6      4         manikonda_hyderabad        0           1140   \n",
       "10032         2      3       mehdipatnam_hyderabad        1            375   \n",
       "11039         2      1        nallakunta_hyderabad        1            300   \n",
       "11120         5      5     nanakram_guda_hyderabad        0           2140   \n",
       "11173         5      3     nanakram_guda_hyderabad        0           2800   \n",
       "12426         2      0      quthbullapur_hyderabad        1            300   \n",
       "13226         6      0        sainikpuri_hyderabad        0           4000   \n",
       "13435         2      0       saroornagar_hyderabad        0            550   \n",
       "14472         4      0        upparpally_hyderabad        0           2500   \n",
       "\n",
       "       rent_amount  type_bhk  maintenance  rent_per_sqft  \n",
       "308          36000       5.0         2000      10.000000  \n",
       "611          35000       3.0         6000      12.727273  \n",
       "619           7000       1.0          100      17.500000  \n",
       "641           3500       0.5            0       8.750000  \n",
       "1160         40000       5.0            0      10.526316  \n",
       "1571         45000       3.0         7000      16.791045  \n",
       "1975         55000       4.0         4000       8.870968  \n",
       "2061         22000       0.5            0      19.130435  \n",
       "2117         60000       3.0         8000      18.376723  \n",
       "2805         40000       3.0         7000      14.285714  \n",
       "4244         40000       5.0            0      12.307692  \n",
       "4355         65000       5.0         2500      10.833333  \n",
       "4395          8000       0.5            0      16.000000  \n",
       "4745        100000       5.0            0      22.222222  \n",
       "4879         32000       4.0            0      14.222222  \n",
       "5638         60000       5.0            0      20.000000  \n",
       "5653         10000       0.5            0      25.000000  \n",
       "6443         65000       4.0         5000      19.117647  \n",
       "6627         36000       3.0            0      10.000000  \n",
       "6744          3500       0.5          500      11.666667  \n",
       "8036          9000       0.5          500      20.000000  \n",
       "9812         17500       2.0         1500      15.350877  \n",
       "10032         7000       0.5          500      18.666667  \n",
       "11039         3500       0.5            0      11.666667  \n",
       "11120        50000       3.0         7000      23.364486  \n",
       "11173        58000       3.0         7000      20.714286  \n",
       "12426         3000       0.5            0      10.000000  \n",
       "13226        50000       4.0            0      12.500000  \n",
       "13435         5000       0.5            0       9.090909  \n",
       "14472        25000       2.0         1000      10.000000  "
      ]
     },
     "execution_count": 35,
     "metadata": {},
     "output_type": "execute_result"
    }
   ],
   "source": [
    "hd4[hd4.bathroom>hd4.type_bhk+1]"
   ]
  },
  {
   "cell_type": "code",
   "execution_count": 36,
   "id": "9e4c4c4a",
   "metadata": {
    "execution": {
     "iopub.execute_input": "2021-08-15T15:32:26.843687Z",
     "iopub.status.busy": "2021-08-15T15:32:26.842591Z",
     "iopub.status.idle": "2021-08-15T15:32:26.848838Z",
     "shell.execute_reply": "2021-08-15T15:32:26.848227Z",
     "shell.execute_reply.started": "2021-08-15T15:31:50.931500Z"
    },
    "papermill": {
     "duration": 0.057424,
     "end_time": "2021-08-15T15:32:26.848983",
     "exception": false,
     "start_time": "2021-08-15T15:32:26.791559",
     "status": "completed"
    },
    "tags": []
   },
   "outputs": [],
   "source": [
    "hd5=hd4[hd4.bathroom<=hd4.type_bhk+1]"
   ]
  },
  {
   "cell_type": "code",
   "execution_count": 37,
   "id": "0afa1fac",
   "metadata": {
    "execution": {
     "iopub.execute_input": "2021-08-15T15:32:26.947659Z",
     "iopub.status.busy": "2021-08-15T15:32:26.946958Z",
     "iopub.status.idle": "2021-08-15T15:32:26.950851Z",
     "shell.execute_reply": "2021-08-15T15:32:26.951303Z",
     "shell.execute_reply.started": "2021-08-15T15:31:50.942449Z"
    },
    "papermill": {
     "duration": 0.055652,
     "end_time": "2021-08-15T15:32:26.951496",
     "exception": false,
     "start_time": "2021-08-15T15:32:26.895844",
     "status": "completed"
    },
    "tags": []
   },
   "outputs": [
    {
     "data": {
      "text/plain": [
       "(14789, 9)"
      ]
     },
     "execution_count": 37,
     "metadata": {},
     "output_type": "execute_result"
    }
   ],
   "source": [
    "hd5.shape"
   ]
  },
  {
   "cell_type": "code",
   "execution_count": 38,
   "id": "590fe3c4",
   "metadata": {
    "execution": {
     "iopub.execute_input": "2021-08-15T15:32:27.062431Z",
     "iopub.status.busy": "2021-08-15T15:32:27.061367Z",
     "iopub.status.idle": "2021-08-15T15:32:27.065565Z",
     "shell.execute_reply": "2021-08-15T15:32:27.066063Z",
     "shell.execute_reply.started": "2021-08-15T15:31:50.952874Z"
    },
    "papermill": {
     "duration": 0.067418,
     "end_time": "2021-08-15T15:32:27.066251",
     "exception": false,
     "start_time": "2021-08-15T15:32:26.998833",
     "status": "completed"
    },
    "tags": []
   },
   "outputs": [
    {
     "data": {
      "text/html": [
       "<div>\n",
       "<style scoped>\n",
       "    .dataframe tbody tr th:only-of-type {\n",
       "        vertical-align: middle;\n",
       "    }\n",
       "\n",
       "    .dataframe tbody tr th {\n",
       "        vertical-align: top;\n",
       "    }\n",
       "\n",
       "    .dataframe thead th {\n",
       "        text-align: right;\n",
       "    }\n",
       "</style>\n",
       "<table border=\"1\" class=\"dataframe\">\n",
       "  <thead>\n",
       "    <tr style=\"text-align: right;\">\n",
       "      <th></th>\n",
       "      <th>bathroom</th>\n",
       "      <th>floor</th>\n",
       "      <th>localityId</th>\n",
       "      <th>parking</th>\n",
       "      <th>property_size</th>\n",
       "      <th>rent_amount</th>\n",
       "      <th>type_bhk</th>\n",
       "      <th>maintenance</th>\n",
       "    </tr>\n",
       "  </thead>\n",
       "  <tbody>\n",
       "    <tr>\n",
       "      <th>0</th>\n",
       "      <td>2</td>\n",
       "      <td>2</td>\n",
       "      <td>NOT_FOUND</td>\n",
       "      <td>1</td>\n",
       "      <td>1200</td>\n",
       "      <td>15000</td>\n",
       "      <td>3.0</td>\n",
       "      <td>0</td>\n",
       "    </tr>\n",
       "    <tr>\n",
       "      <th>1</th>\n",
       "      <td>2</td>\n",
       "      <td>2</td>\n",
       "      <td>NOT_FOUND</td>\n",
       "      <td>0</td>\n",
       "      <td>750</td>\n",
       "      <td>9000</td>\n",
       "      <td>2.0</td>\n",
       "      <td>500</td>\n",
       "    </tr>\n",
       "    <tr>\n",
       "      <th>2</th>\n",
       "      <td>2</td>\n",
       "      <td>2</td>\n",
       "      <td>NOT_FOUND</td>\n",
       "      <td>0</td>\n",
       "      <td>1000</td>\n",
       "      <td>9500</td>\n",
       "      <td>2.0</td>\n",
       "      <td>0</td>\n",
       "    </tr>\n",
       "    <tr>\n",
       "      <th>3</th>\n",
       "      <td>3</td>\n",
       "      <td>0</td>\n",
       "      <td>NOT_FOUND</td>\n",
       "      <td>0</td>\n",
       "      <td>1800</td>\n",
       "      <td>21000</td>\n",
       "      <td>3.0</td>\n",
       "      <td>1000</td>\n",
       "    </tr>\n",
       "    <tr>\n",
       "      <th>4</th>\n",
       "      <td>1</td>\n",
       "      <td>1</td>\n",
       "      <td>NOT_FOUND</td>\n",
       "      <td>1</td>\n",
       "      <td>900</td>\n",
       "      <td>10500</td>\n",
       "      <td>1.0</td>\n",
       "      <td>500</td>\n",
       "    </tr>\n",
       "  </tbody>\n",
       "</table>\n",
       "</div>"
      ],
      "text/plain": [
       "   bathroom  floor localityId  parking  property_size  rent_amount  type_bhk  \\\n",
       "0         2      2  NOT_FOUND        1           1200        15000       3.0   \n",
       "1         2      2  NOT_FOUND        0            750         9000       2.0   \n",
       "2         2      2  NOT_FOUND        0           1000         9500       2.0   \n",
       "3         3      0  NOT_FOUND        0           1800        21000       3.0   \n",
       "4         1      1  NOT_FOUND        1            900        10500       1.0   \n",
       "\n",
       "   maintenance  \n",
       "0            0  \n",
       "1          500  \n",
       "2            0  \n",
       "3         1000  \n",
       "4          500  "
      ]
     },
     "execution_count": 38,
     "metadata": {},
     "output_type": "execute_result"
    }
   ],
   "source": [
    "hd6=hd5.drop('rent_per_sqft',axis=1)\n",
    "hd6.head()"
   ]
  },
  {
   "cell_type": "markdown",
   "id": "2bcd7456",
   "metadata": {
    "papermill": {
     "duration": 0.048012,
     "end_time": "2021-08-15T15:32:27.166941",
     "exception": false,
     "start_time": "2021-08-15T15:32:27.118929",
     "status": "completed"
    },
    "tags": []
   },
   "source": [
    "## one hot encoding"
   ]
  },
  {
   "cell_type": "code",
   "execution_count": 39,
   "id": "264aee90",
   "metadata": {
    "execution": {
     "iopub.execute_input": "2021-08-15T15:32:27.271664Z",
     "iopub.status.busy": "2021-08-15T15:32:27.270511Z",
     "iopub.status.idle": "2021-08-15T15:32:27.291944Z",
     "shell.execute_reply": "2021-08-15T15:32:27.291296Z",
     "shell.execute_reply.started": "2021-08-15T15:31:50.975278Z"
    },
    "papermill": {
     "duration": 0.075422,
     "end_time": "2021-08-15T15:32:27.292085",
     "exception": false,
     "start_time": "2021-08-15T15:32:27.216663",
     "status": "completed"
    },
    "tags": []
   },
   "outputs": [
    {
     "data": {
      "text/html": [
       "<div>\n",
       "<style scoped>\n",
       "    .dataframe tbody tr th:only-of-type {\n",
       "        vertical-align: middle;\n",
       "    }\n",
       "\n",
       "    .dataframe tbody tr th {\n",
       "        vertical-align: top;\n",
       "    }\n",
       "\n",
       "    .dataframe thead th {\n",
       "        text-align: right;\n",
       "    }\n",
       "</style>\n",
       "<table border=\"1\" class=\"dataframe\">\n",
       "  <thead>\n",
       "    <tr style=\"text-align: right;\">\n",
       "      <th></th>\n",
       "      <th>NOT_FOUND</th>\n",
       "      <th>adikmet_hyderabad</th>\n",
       "      <th>almasguda_hyderabad</th>\n",
       "      <th>amberpet_hyderabad</th>\n",
       "      <th>ameerpet_hyderabad</th>\n",
       "      <th>attapur_hyderabad</th>\n",
       "      <th>badangpet_hyderabad</th>\n",
       "      <th>badesahebguda_hyderabad</th>\n",
       "      <th>balakampet_hyderabad</th>\n",
       "      <th>balanagar_hyderabad</th>\n",
       "      <th>...</th>\n",
       "      <th>turkayamjal_hyderabad</th>\n",
       "      <th>uppal_hyderabad</th>\n",
       "      <th>upparpally_hyderabad</th>\n",
       "      <th>venkat_nagar_colony_hyderabad</th>\n",
       "      <th>west_marredpally_hyderabad</th>\n",
       "      <th>whisper_valley_hyderabad</th>\n",
       "      <th>yapral_hyderabad</th>\n",
       "      <th>yella_reddy_guda_hyderabad</th>\n",
       "      <th>yousufguda_hyderabad</th>\n",
       "      <th>zamistanpur_hyderabad</th>\n",
       "    </tr>\n",
       "  </thead>\n",
       "  <tbody>\n",
       "    <tr>\n",
       "      <th>0</th>\n",
       "      <td>1</td>\n",
       "      <td>0</td>\n",
       "      <td>0</td>\n",
       "      <td>0</td>\n",
       "      <td>0</td>\n",
       "      <td>0</td>\n",
       "      <td>0</td>\n",
       "      <td>0</td>\n",
       "      <td>0</td>\n",
       "      <td>0</td>\n",
       "      <td>...</td>\n",
       "      <td>0</td>\n",
       "      <td>0</td>\n",
       "      <td>0</td>\n",
       "      <td>0</td>\n",
       "      <td>0</td>\n",
       "      <td>0</td>\n",
       "      <td>0</td>\n",
       "      <td>0</td>\n",
       "      <td>0</td>\n",
       "      <td>0</td>\n",
       "    </tr>\n",
       "    <tr>\n",
       "      <th>1</th>\n",
       "      <td>1</td>\n",
       "      <td>0</td>\n",
       "      <td>0</td>\n",
       "      <td>0</td>\n",
       "      <td>0</td>\n",
       "      <td>0</td>\n",
       "      <td>0</td>\n",
       "      <td>0</td>\n",
       "      <td>0</td>\n",
       "      <td>0</td>\n",
       "      <td>...</td>\n",
       "      <td>0</td>\n",
       "      <td>0</td>\n",
       "      <td>0</td>\n",
       "      <td>0</td>\n",
       "      <td>0</td>\n",
       "      <td>0</td>\n",
       "      <td>0</td>\n",
       "      <td>0</td>\n",
       "      <td>0</td>\n",
       "      <td>0</td>\n",
       "    </tr>\n",
       "    <tr>\n",
       "      <th>2</th>\n",
       "      <td>1</td>\n",
       "      <td>0</td>\n",
       "      <td>0</td>\n",
       "      <td>0</td>\n",
       "      <td>0</td>\n",
       "      <td>0</td>\n",
       "      <td>0</td>\n",
       "      <td>0</td>\n",
       "      <td>0</td>\n",
       "      <td>0</td>\n",
       "      <td>...</td>\n",
       "      <td>0</td>\n",
       "      <td>0</td>\n",
       "      <td>0</td>\n",
       "      <td>0</td>\n",
       "      <td>0</td>\n",
       "      <td>0</td>\n",
       "      <td>0</td>\n",
       "      <td>0</td>\n",
       "      <td>0</td>\n",
       "      <td>0</td>\n",
       "    </tr>\n",
       "    <tr>\n",
       "      <th>3</th>\n",
       "      <td>1</td>\n",
       "      <td>0</td>\n",
       "      <td>0</td>\n",
       "      <td>0</td>\n",
       "      <td>0</td>\n",
       "      <td>0</td>\n",
       "      <td>0</td>\n",
       "      <td>0</td>\n",
       "      <td>0</td>\n",
       "      <td>0</td>\n",
       "      <td>...</td>\n",
       "      <td>0</td>\n",
       "      <td>0</td>\n",
       "      <td>0</td>\n",
       "      <td>0</td>\n",
       "      <td>0</td>\n",
       "      <td>0</td>\n",
       "      <td>0</td>\n",
       "      <td>0</td>\n",
       "      <td>0</td>\n",
       "      <td>0</td>\n",
       "    </tr>\n",
       "    <tr>\n",
       "      <th>4</th>\n",
       "      <td>1</td>\n",
       "      <td>0</td>\n",
       "      <td>0</td>\n",
       "      <td>0</td>\n",
       "      <td>0</td>\n",
       "      <td>0</td>\n",
       "      <td>0</td>\n",
       "      <td>0</td>\n",
       "      <td>0</td>\n",
       "      <td>0</td>\n",
       "      <td>...</td>\n",
       "      <td>0</td>\n",
       "      <td>0</td>\n",
       "      <td>0</td>\n",
       "      <td>0</td>\n",
       "      <td>0</td>\n",
       "      <td>0</td>\n",
       "      <td>0</td>\n",
       "      <td>0</td>\n",
       "      <td>0</td>\n",
       "      <td>0</td>\n",
       "    </tr>\n",
       "  </tbody>\n",
       "</table>\n",
       "<p>5 rows × 150 columns</p>\n",
       "</div>"
      ],
      "text/plain": [
       "   NOT_FOUND  adikmet_hyderabad  almasguda_hyderabad  amberpet_hyderabad  \\\n",
       "0          1                  0                    0                   0   \n",
       "1          1                  0                    0                   0   \n",
       "2          1                  0                    0                   0   \n",
       "3          1                  0                    0                   0   \n",
       "4          1                  0                    0                   0   \n",
       "\n",
       "   ameerpet_hyderabad  attapur_hyderabad  badangpet_hyderabad  \\\n",
       "0                   0                  0                    0   \n",
       "1                   0                  0                    0   \n",
       "2                   0                  0                    0   \n",
       "3                   0                  0                    0   \n",
       "4                   0                  0                    0   \n",
       "\n",
       "   badesahebguda_hyderabad  balakampet_hyderabad  balanagar_hyderabad  ...  \\\n",
       "0                        0                     0                    0  ...   \n",
       "1                        0                     0                    0  ...   \n",
       "2                        0                     0                    0  ...   \n",
       "3                        0                     0                    0  ...   \n",
       "4                        0                     0                    0  ...   \n",
       "\n",
       "   turkayamjal_hyderabad  uppal_hyderabad  upparpally_hyderabad  \\\n",
       "0                      0                0                     0   \n",
       "1                      0                0                     0   \n",
       "2                      0                0                     0   \n",
       "3                      0                0                     0   \n",
       "4                      0                0                     0   \n",
       "\n",
       "   venkat_nagar_colony_hyderabad  west_marredpally_hyderabad  \\\n",
       "0                              0                           0   \n",
       "1                              0                           0   \n",
       "2                              0                           0   \n",
       "3                              0                           0   \n",
       "4                              0                           0   \n",
       "\n",
       "   whisper_valley_hyderabad  yapral_hyderabad  yella_reddy_guda_hyderabad  \\\n",
       "0                         0                 0                           0   \n",
       "1                         0                 0                           0   \n",
       "2                         0                 0                           0   \n",
       "3                         0                 0                           0   \n",
       "4                         0                 0                           0   \n",
       "\n",
       "   yousufguda_hyderabad  zamistanpur_hyderabad  \n",
       "0                     0                      0  \n",
       "1                     0                      0  \n",
       "2                     0                      0  \n",
       "3                     0                      0  \n",
       "4                     0                      0  \n",
       "\n",
       "[5 rows x 150 columns]"
      ]
     },
     "execution_count": 39,
     "metadata": {},
     "output_type": "execute_result"
    }
   ],
   "source": [
    "dummies=pd.get_dummies(hd6.localityId)\n",
    "dummies.head()"
   ]
  },
  {
   "cell_type": "code",
   "execution_count": 40,
   "id": "1c65c317",
   "metadata": {
    "execution": {
     "iopub.execute_input": "2021-08-15T15:32:27.396176Z",
     "iopub.status.busy": "2021-08-15T15:32:27.395521Z",
     "iopub.status.idle": "2021-08-15T15:32:27.441966Z",
     "shell.execute_reply": "2021-08-15T15:32:27.441423Z",
     "shell.execute_reply.started": "2021-08-15T15:31:51.003291Z"
    },
    "papermill": {
     "duration": 0.101753,
     "end_time": "2021-08-15T15:32:27.442115",
     "exception": false,
     "start_time": "2021-08-15T15:32:27.340362",
     "status": "completed"
    },
    "tags": []
   },
   "outputs": [
    {
     "data": {
      "text/html": [
       "<div>\n",
       "<style scoped>\n",
       "    .dataframe tbody tr th:only-of-type {\n",
       "        vertical-align: middle;\n",
       "    }\n",
       "\n",
       "    .dataframe tbody tr th {\n",
       "        vertical-align: top;\n",
       "    }\n",
       "\n",
       "    .dataframe thead th {\n",
       "        text-align: right;\n",
       "    }\n",
       "</style>\n",
       "<table border=\"1\" class=\"dataframe\">\n",
       "  <thead>\n",
       "    <tr style=\"text-align: right;\">\n",
       "      <th></th>\n",
       "      <th>bathroom</th>\n",
       "      <th>floor</th>\n",
       "      <th>parking</th>\n",
       "      <th>property_size</th>\n",
       "      <th>rent_amount</th>\n",
       "      <th>type_bhk</th>\n",
       "      <th>maintenance</th>\n",
       "      <th>adikmet_hyderabad</th>\n",
       "      <th>almasguda_hyderabad</th>\n",
       "      <th>amberpet_hyderabad</th>\n",
       "      <th>...</th>\n",
       "      <th>turkayamjal_hyderabad</th>\n",
       "      <th>uppal_hyderabad</th>\n",
       "      <th>upparpally_hyderabad</th>\n",
       "      <th>venkat_nagar_colony_hyderabad</th>\n",
       "      <th>west_marredpally_hyderabad</th>\n",
       "      <th>whisper_valley_hyderabad</th>\n",
       "      <th>yapral_hyderabad</th>\n",
       "      <th>yella_reddy_guda_hyderabad</th>\n",
       "      <th>yousufguda_hyderabad</th>\n",
       "      <th>zamistanpur_hyderabad</th>\n",
       "    </tr>\n",
       "  </thead>\n",
       "  <tbody>\n",
       "    <tr>\n",
       "      <th>0</th>\n",
       "      <td>2</td>\n",
       "      <td>2</td>\n",
       "      <td>1</td>\n",
       "      <td>1200</td>\n",
       "      <td>15000</td>\n",
       "      <td>3.0</td>\n",
       "      <td>0</td>\n",
       "      <td>0</td>\n",
       "      <td>0</td>\n",
       "      <td>0</td>\n",
       "      <td>...</td>\n",
       "      <td>0</td>\n",
       "      <td>0</td>\n",
       "      <td>0</td>\n",
       "      <td>0</td>\n",
       "      <td>0</td>\n",
       "      <td>0</td>\n",
       "      <td>0</td>\n",
       "      <td>0</td>\n",
       "      <td>0</td>\n",
       "      <td>0</td>\n",
       "    </tr>\n",
       "    <tr>\n",
       "      <th>1</th>\n",
       "      <td>2</td>\n",
       "      <td>2</td>\n",
       "      <td>0</td>\n",
       "      <td>750</td>\n",
       "      <td>9000</td>\n",
       "      <td>2.0</td>\n",
       "      <td>500</td>\n",
       "      <td>0</td>\n",
       "      <td>0</td>\n",
       "      <td>0</td>\n",
       "      <td>...</td>\n",
       "      <td>0</td>\n",
       "      <td>0</td>\n",
       "      <td>0</td>\n",
       "      <td>0</td>\n",
       "      <td>0</td>\n",
       "      <td>0</td>\n",
       "      <td>0</td>\n",
       "      <td>0</td>\n",
       "      <td>0</td>\n",
       "      <td>0</td>\n",
       "    </tr>\n",
       "    <tr>\n",
       "      <th>2</th>\n",
       "      <td>2</td>\n",
       "      <td>2</td>\n",
       "      <td>0</td>\n",
       "      <td>1000</td>\n",
       "      <td>9500</td>\n",
       "      <td>2.0</td>\n",
       "      <td>0</td>\n",
       "      <td>0</td>\n",
       "      <td>0</td>\n",
       "      <td>0</td>\n",
       "      <td>...</td>\n",
       "      <td>0</td>\n",
       "      <td>0</td>\n",
       "      <td>0</td>\n",
       "      <td>0</td>\n",
       "      <td>0</td>\n",
       "      <td>0</td>\n",
       "      <td>0</td>\n",
       "      <td>0</td>\n",
       "      <td>0</td>\n",
       "      <td>0</td>\n",
       "    </tr>\n",
       "    <tr>\n",
       "      <th>3</th>\n",
       "      <td>3</td>\n",
       "      <td>0</td>\n",
       "      <td>0</td>\n",
       "      <td>1800</td>\n",
       "      <td>21000</td>\n",
       "      <td>3.0</td>\n",
       "      <td>1000</td>\n",
       "      <td>0</td>\n",
       "      <td>0</td>\n",
       "      <td>0</td>\n",
       "      <td>...</td>\n",
       "      <td>0</td>\n",
       "      <td>0</td>\n",
       "      <td>0</td>\n",
       "      <td>0</td>\n",
       "      <td>0</td>\n",
       "      <td>0</td>\n",
       "      <td>0</td>\n",
       "      <td>0</td>\n",
       "      <td>0</td>\n",
       "      <td>0</td>\n",
       "    </tr>\n",
       "    <tr>\n",
       "      <th>4</th>\n",
       "      <td>1</td>\n",
       "      <td>1</td>\n",
       "      <td>1</td>\n",
       "      <td>900</td>\n",
       "      <td>10500</td>\n",
       "      <td>1.0</td>\n",
       "      <td>500</td>\n",
       "      <td>0</td>\n",
       "      <td>0</td>\n",
       "      <td>0</td>\n",
       "      <td>...</td>\n",
       "      <td>0</td>\n",
       "      <td>0</td>\n",
       "      <td>0</td>\n",
       "      <td>0</td>\n",
       "      <td>0</td>\n",
       "      <td>0</td>\n",
       "      <td>0</td>\n",
       "      <td>0</td>\n",
       "      <td>0</td>\n",
       "      <td>0</td>\n",
       "    </tr>\n",
       "  </tbody>\n",
       "</table>\n",
       "<p>5 rows × 156 columns</p>\n",
       "</div>"
      ],
      "text/plain": [
       "   bathroom  floor  parking  property_size  rent_amount  type_bhk  \\\n",
       "0         2      2        1           1200        15000       3.0   \n",
       "1         2      2        0            750         9000       2.0   \n",
       "2         2      2        0           1000         9500       2.0   \n",
       "3         3      0        0           1800        21000       3.0   \n",
       "4         1      1        1            900        10500       1.0   \n",
       "\n",
       "   maintenance  adikmet_hyderabad  almasguda_hyderabad  amberpet_hyderabad  \\\n",
       "0            0                  0                    0                   0   \n",
       "1          500                  0                    0                   0   \n",
       "2            0                  0                    0                   0   \n",
       "3         1000                  0                    0                   0   \n",
       "4          500                  0                    0                   0   \n",
       "\n",
       "   ...  turkayamjal_hyderabad  uppal_hyderabad  upparpally_hyderabad  \\\n",
       "0  ...                      0                0                     0   \n",
       "1  ...                      0                0                     0   \n",
       "2  ...                      0                0                     0   \n",
       "3  ...                      0                0                     0   \n",
       "4  ...                      0                0                     0   \n",
       "\n",
       "   venkat_nagar_colony_hyderabad  west_marredpally_hyderabad  \\\n",
       "0                              0                           0   \n",
       "1                              0                           0   \n",
       "2                              0                           0   \n",
       "3                              0                           0   \n",
       "4                              0                           0   \n",
       "\n",
       "   whisper_valley_hyderabad  yapral_hyderabad  yella_reddy_guda_hyderabad  \\\n",
       "0                         0                 0                           0   \n",
       "1                         0                 0                           0   \n",
       "2                         0                 0                           0   \n",
       "3                         0                 0                           0   \n",
       "4                         0                 0                           0   \n",
       "\n",
       "   yousufguda_hyderabad  zamistanpur_hyderabad  \n",
       "0                     0                      0  \n",
       "1                     0                      0  \n",
       "2                     0                      0  \n",
       "3                     0                      0  \n",
       "4                     0                      0  \n",
       "\n",
       "[5 rows x 156 columns]"
      ]
     },
     "execution_count": 40,
     "metadata": {},
     "output_type": "execute_result"
    }
   ],
   "source": [
    "hd7=pd.concat([hd6.drop('localityId',axis='columns'),dummies.drop('NOT_FOUND',axis='columns')],axis='columns')\n",
    "hd7.head()"
   ]
  },
  {
   "cell_type": "code",
   "execution_count": 41,
   "id": "18f0b9c8",
   "metadata": {
    "execution": {
     "iopub.execute_input": "2021-08-15T15:32:27.546211Z",
     "iopub.status.busy": "2021-08-15T15:32:27.545556Z",
     "iopub.status.idle": "2021-08-15T15:32:27.555061Z",
     "shell.execute_reply": "2021-08-15T15:32:27.555615Z",
     "shell.execute_reply.started": "2021-08-15T15:31:51.049362Z"
    },
    "papermill": {
     "duration": 0.063949,
     "end_time": "2021-08-15T15:32:27.555794",
     "exception": false,
     "start_time": "2021-08-15T15:32:27.491845",
     "status": "completed"
    },
    "tags": []
   },
   "outputs": [],
   "source": [
    "X=hd7.drop('rent_amount',axis='columns')\n",
    "Y=hd7['rent_amount']"
   ]
  },
  {
   "cell_type": "code",
   "execution_count": 42,
   "id": "ad1772f7",
   "metadata": {
    "execution": {
     "iopub.execute_input": "2021-08-15T15:32:27.657589Z",
     "iopub.status.busy": "2021-08-15T15:32:27.656591Z",
     "iopub.status.idle": "2021-08-15T15:32:28.654367Z",
     "shell.execute_reply": "2021-08-15T15:32:28.653009Z",
     "shell.execute_reply.started": "2021-08-15T15:31:51.062243Z"
    },
    "papermill": {
     "duration": 1.049482,
     "end_time": "2021-08-15T15:32:28.654550",
     "exception": false,
     "start_time": "2021-08-15T15:32:27.605068",
     "status": "completed"
    },
    "tags": []
   },
   "outputs": [],
   "source": [
    "from sklearn.model_selection import train_test_split\n",
    "X_train, X_test, Y_train, Y_test= train_test_split(X,Y,test_size=0.2,random_state=10)"
   ]
  },
  {
   "cell_type": "code",
   "execution_count": 43,
   "id": "f87f9b6a",
   "metadata": {
    "execution": {
     "iopub.execute_input": "2021-08-15T15:32:28.759136Z",
     "iopub.status.busy": "2021-08-15T15:32:28.758460Z",
     "iopub.status.idle": "2021-08-15T15:32:29.139300Z",
     "shell.execute_reply": "2021-08-15T15:32:29.140195Z",
     "shell.execute_reply.started": "2021-08-15T15:31:51.093249Z"
    },
    "papermill": {
     "duration": 0.436137,
     "end_time": "2021-08-15T15:32:29.140535",
     "exception": false,
     "start_time": "2021-08-15T15:32:28.704398",
     "status": "completed"
    },
    "tags": []
   },
   "outputs": [
    {
     "data": {
      "text/plain": [
       "0.8584606265176856"
      ]
     },
     "execution_count": 43,
     "metadata": {},
     "output_type": "execute_result"
    }
   ],
   "source": [
    "from sklearn.linear_model import LinearRegression\n",
    "lr=LinearRegression()\n",
    "lr.fit(X_train,Y_train)\n",
    "lr.score(X_test,Y_test)"
   ]
  },
  {
   "cell_type": "code",
   "execution_count": 44,
   "id": "0b2587c2",
   "metadata": {
    "execution": {
     "iopub.execute_input": "2021-08-15T15:32:29.297464Z",
     "iopub.status.busy": "2021-08-15T15:32:29.296769Z",
     "iopub.status.idle": "2021-08-15T15:32:29.935687Z",
     "shell.execute_reply": "2021-08-15T15:32:29.936717Z",
     "shell.execute_reply.started": "2021-08-15T15:31:51.189512Z"
    },
    "papermill": {
     "duration": 0.705076,
     "end_time": "2021-08-15T15:32:29.936999",
     "exception": false,
     "start_time": "2021-08-15T15:32:29.231923",
     "status": "completed"
    },
    "tags": []
   },
   "outputs": [
    {
     "data": {
      "text/plain": [
       "array([0.86122198, 0.86125557, 0.86355815, 0.86479628, 0.84904104])"
      ]
     },
     "execution_count": 44,
     "metadata": {},
     "output_type": "execute_result"
    }
   ],
   "source": [
    "from sklearn.model_selection import ShuffleSplit\n",
    "\n",
    "from sklearn.model_selection import cross_val_score \n",
    "cv = ShuffleSplit (n_splits=5, test_size=0.2, random_state=0)\n",
    "\n",
    "cross_val_score(LinearRegression (),X,Y,cv=cv)"
   ]
  },
  {
   "cell_type": "code",
   "execution_count": 45,
   "id": "a6cc0352",
   "metadata": {
    "execution": {
     "iopub.execute_input": "2021-08-15T15:32:30.093046Z",
     "iopub.status.busy": "2021-08-15T15:32:30.092363Z",
     "iopub.status.idle": "2021-08-15T15:32:30.095443Z",
     "shell.execute_reply": "2021-08-15T15:32:30.095922Z",
     "shell.execute_reply.started": "2021-08-15T15:31:51.880304Z"
    },
    "papermill": {
     "duration": 0.070336,
     "end_time": "2021-08-15T15:32:30.096088",
     "exception": false,
     "start_time": "2021-08-15T15:32:30.025752",
     "status": "completed"
    },
    "tags": []
   },
   "outputs": [
    {
     "data": {
      "text/plain": [
       "Index(['bathroom', 'floor', 'parking', 'property_size', 'type_bhk',\n",
       "       'maintenance', 'adikmet_hyderabad', 'almasguda_hyderabad',\n",
       "       'amberpet_hyderabad', 'ameerpet_hyderabad',\n",
       "       ...\n",
       "       'turkayamjal_hyderabad', 'uppal_hyderabad', 'upparpally_hyderabad',\n",
       "       'venkat_nagar_colony_hyderabad', 'west_marredpally_hyderabad',\n",
       "       'whisper_valley_hyderabad', 'yapral_hyderabad',\n",
       "       'yella_reddy_guda_hyderabad', 'yousufguda_hyderabad',\n",
       "       'zamistanpur_hyderabad'],\n",
       "      dtype='object', length=155)"
      ]
     },
     "execution_count": 45,
     "metadata": {},
     "output_type": "execute_result"
    }
   ],
   "source": [
    "X.columns"
   ]
  },
  {
   "cell_type": "code",
   "execution_count": 46,
   "id": "49ff5e64",
   "metadata": {
    "execution": {
     "iopub.execute_input": "2021-08-15T15:32:30.200142Z",
     "iopub.status.busy": "2021-08-15T15:32:30.199524Z",
     "iopub.status.idle": "2021-08-15T15:32:30.205638Z",
     "shell.execute_reply": "2021-08-15T15:32:30.206154Z",
     "shell.execute_reply.started": "2021-08-15T15:31:51.890836Z"
    },
    "papermill": {
     "duration": 0.059319,
     "end_time": "2021-08-15T15:32:30.206326",
     "exception": false,
     "start_time": "2021-08-15T15:32:30.147007",
     "status": "completed"
    },
    "tags": []
   },
   "outputs": [],
   "source": [
    "def predict_price(localityId,bathroom,floor,parking,property_size,type_bhk,maintenance):\n",
    "\n",
    "    loc_index = np.where(X.columns==localityId)[0][0] \n",
    "    x= np.zeros(len(X.columns))\n",
    "    x[0]=bathroom\n",
    "    x[1]=floor\n",
    "    x[2]=parking\n",
    "    x[3]=property_size\n",
    "    x[4]=type_bhk\n",
    "    x[5]=maintenance\n",
    "    \n",
    "    if loc_index>=0:\n",
    "        x[loc_index]=1 \n",
    "\n",
    "    return lr.predict([x])[0]\n",
    "\n"
   ]
  },
  {
   "cell_type": "code",
   "execution_count": 49,
   "id": "ff6afce2",
   "metadata": {
    "execution": {
     "iopub.execute_input": "2021-08-15T15:32:30.308825Z",
     "iopub.status.busy": "2021-08-15T15:32:30.308148Z",
     "iopub.status.idle": "2021-08-15T15:32:30.314004Z",
     "shell.execute_reply": "2021-08-15T15:32:30.314508Z",
     "shell.execute_reply.started": "2021-08-15T15:31:51.903371Z"
    },
    "papermill": {
     "duration": 0.058911,
     "end_time": "2021-08-15T15:32:30.314685",
     "exception": false,
     "start_time": "2021-08-15T15:32:30.255774",
     "status": "completed"
    },
    "tags": []
   },
   "outputs": [
    {
     "data": {
      "text/plain": [
       "14840.285355219241"
      ]
     },
     "execution_count": 49,
     "metadata": {},
     "output_type": "execute_result"
    }
   ],
   "source": [
    "predict_price('yella_reddy_guda_hyderabad',5,1,3,800,2,1000)"
   ]
  },
  {
   "cell_type": "code",
   "execution_count": 48,
   "id": "f82e90c3",
   "metadata": {
    "execution": {
     "iopub.execute_input": "2021-08-15T15:32:30.417839Z",
     "iopub.status.busy": "2021-08-15T15:32:30.417202Z",
     "iopub.status.idle": "2021-08-15T15:32:30.424850Z",
     "shell.execute_reply": "2021-08-15T15:32:30.424311Z",
     "shell.execute_reply.started": "2021-08-15T15:31:51.918712Z"
    },
    "papermill": {
     "duration": 0.060402,
     "end_time": "2021-08-15T15:32:30.425008",
     "exception": false,
     "start_time": "2021-08-15T15:32:30.364606",
     "status": "completed"
    },
    "tags": []
   },
   "outputs": [
    {
     "data": {
      "text/plain": [
       "13588.192186145852"
      ]
     },
     "execution_count": 48,
     "metadata": {},
     "output_type": "execute_result"
    }
   ],
   "source": [
    "predict_price('yella_reddy_guda_hyderabad',2,3,0,800,3,1000)"
   ]
  }
 ],
 "metadata": {
  "kernelspec": {
   "display_name": "Python 3",
   "language": "python",
   "name": "python3"
  },
  "language_info": {
   "codemirror_mode": {
    "name": "ipython",
    "version": 3
   },
   "file_extension": ".py",
   "mimetype": "text/x-python",
   "name": "python",
   "nbconvert_exporter": "python",
   "pygments_lexer": "ipython3",
   "version": "3.8.8"
  },
  "papermill": {
   "default_parameters": {},
   "duration": 17.39418,
   "end_time": "2021-08-15T15:32:31.185521",
   "environment_variables": {},
   "exception": null,
   "input_path": "__notebook__.ipynb",
   "output_path": "__notebook__.ipynb",
   "parameters": {},
   "start_time": "2021-08-15T15:32:13.791341",
   "version": "2.3.3"
  }
 },
 "nbformat": 4,
 "nbformat_minor": 5
}
